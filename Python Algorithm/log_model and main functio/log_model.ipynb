{
 "cells": [
  {
   "cell_type": "code",
   "execution_count": 53,
   "id": "8ec8b139",
   "metadata": {},
   "outputs": [
    {
     "name": "stdout",
     "output_type": "stream",
     "text": [
      "CPU times: total: 0 ns\n",
      "Wall time: 0 ns\n"
     ]
    }
   ],
   "source": [
    "%%time\n",
    "#### Importing Libraries.\n",
    "import pandas as pd\n",
    "import numpy as np\n",
    "import time\n",
    "from sklearn.linear_model import LogisticRegression\n",
    "from sklearn.model_selection import train_test_split\n",
    "#### Packages for Model Diagonistics\n",
    "from sklearn.metrics import accuracy_score, confusion_matrix, ConfusionMatrixDisplay, precision_score,classification_report\n",
    "\n",
    "\n",
    "##### Importing of Data - \n",
    "def read_data():\n",
    "    try:\n",
    "        path = 'https://raw.githubusercontent.com/DataScience75/Batch-88/main/Students.csv'\n",
    "        data = pd.read_csv(path)\n",
    "        return data\n",
    "    except Exception as e:\n",
    "        print(\"Data path Not Found and the error is in Read Data Function\")\n",
    "\n",
    "### Data Prep Functions\n",
    "def data_prep(data,t):\n",
    "    X = data[['JEEPRE','JEEMAINS']]\n",
    "    y = data['STATUS']\n",
    "    X_train,X_test,y_train,y_test = train_test_split(X,y,test_size=t,stratify=y,random_state=365)\n",
    "    return X_train,X_test,y_train,y_test\n",
    "\n",
    "#### \n",
    "def log_model(X_train,y_train,X_test):\n",
    "    lg_model = LogisticRegression()\n",
    "    lg_model_fit = lg_model.fit(X_train,y_train)\n",
    "    pred = lg_model_fit.predict(X_test)\n",
    "    return pred\n",
    "\n",
    "def model_log_diag(y_test,pred):\n",
    "    acc = accuracy_score(y_test,pred)\n",
    "    prc = precision_score(y_test,pred)\n",
    "    clf = classification_report(y_test,pred)\n",
    "    conf = confusion_matrix(y_test,pred)\n",
    "    return acc, prc,clf,conf\n",
    "\n",
    "### Calling all the functions in the mail\n",
    "def main_function():\n",
    "    data = read_data()\n",
    "    X_train,X_test,y_train,y_test = data_prep(data,0.15)\n",
    "    pred = log_model(X_train,y_train,X_test)\n",
    "    cc, prc,clf,conf = model_log_diag(y_test,pred)\n",
    "    return clf"
   ]
  },
  {
   "cell_type": "code",
   "execution_count": null,
   "id": "cba717be",
   "metadata": {},
   "outputs": [],
   "source": []
  }
 ],
 "metadata": {
  "kernelspec": {
   "display_name": "Python 3 (ipykernel)",
   "language": "python",
   "name": "python3"
  },
  "language_info": {
   "codemirror_mode": {
    "name": "ipython",
    "version": 3
   },
   "file_extension": ".py",
   "mimetype": "text/x-python",
   "name": "python",
   "nbconvert_exporter": "python",
   "pygments_lexer": "ipython3",
   "version": "3.11.3"
  }
 },
 "nbformat": 4,
 "nbformat_minor": 5
}
