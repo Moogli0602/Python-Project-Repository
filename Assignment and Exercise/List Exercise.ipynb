{
 "cells": [
  {
   "cell_type": "code",
   "execution_count": 28,
   "id": "2cb5df10",
   "metadata": {},
   "outputs": [
    {
     "name": "stdout",
     "output_type": "stream",
     "text": [
      "print total = 26\n"
     ]
    }
   ],
   "source": [
    "##1. Write a Python program to sum all the items\n",
    "#Sample Output\n",
    "#[1,7,-10,34,2,-8]\n",
    "\n",
    "list1 = [1, 7, -10, 34, 2, -8]\n",
    "total= 0\n",
    "for a in list1:\n",
    "    total += a\n",
    "# Print the sum\n",
    "print(f\"print total = {total}\")"
   ]
  },
  {
   "cell_type": "code",
   "execution_count": 38,
   "id": "d228dcec",
   "metadata": {},
   "outputs": [
    {
     "name": "stdout",
     "output_type": "stream",
     "text": [
      "print total = 1680\n"
     ]
    }
   ],
   "source": [
    "## 2.Write a Python program to multiply all the items in a list\n",
    "#Sample Output\n",
    "#[3,4,5,4,7]\n",
    "\n",
    "list2 = [3,4,5,4,7]\n",
    "multi = 1\n",
    "for a in list2:\n",
    "    multi *= a\n",
    "# Print the Multi\n",
    "print(f\"print total = {multi}\")"
   ]
  },
  {
   "cell_type": "code",
   "execution_count": 2,
   "id": "504ace49",
   "metadata": {},
   "outputs": [
    {
     "name": "stdout",
     "output_type": "stream",
     "text": [
      "The largest number in the list is: 34\n"
     ]
    }
   ],
   "source": [
    "##3. Write a Python program to get the largest number from a list\n",
    "#Sample Output\n",
    "#[1,7,10,34,2,8]\n",
    "\n",
    "list3 = [1,7,10,34,2,8]\n",
    "\n",
    "largest_number = max(list3)\n",
    "\n",
    "print(f\"The largest number in the list is: {largest_number}\")"
   ]
  },
  {
   "cell_type": "code",
   "execution_count": 5,
   "id": "924599d2",
   "metadata": {},
   "outputs": [
    {
     "name": "stdout",
     "output_type": "stream",
     "text": [
      "The smallest number is : 2\n"
     ]
    }
   ],
   "source": [
    "##4. Write a Python program to get the smallest number from a list\n",
    "#Sample Output\n",
    "#[51,7,10,34,2,8]\n",
    "\n",
    "list4 = [51,7,10,34,2,8]\n",
    "smallest_num = min(list4)\n",
    "print(f\"The smallest number is : {smallest_num}\")\n"
   ]
  },
  {
   "cell_type": "code",
   "execution_count": 23,
   "id": "03ee10e7",
   "metadata": {},
   "outputs": [
    {
     "name": "stdout",
     "output_type": "stream",
     "text": [
      "First and Last Character are the same: 2\n"
     ]
    }
   ],
   "source": [
    "##5. Write a Python program to count the number of strings where the string length is 2 or \n",
    "#more and the first and last character are same from a given list of strings\n",
    "#Sample Output\n",
    "#List Exercise\n",
    "#['abc', 'xyz', 'aba', '1221']\n",
    "#First and Last Character are same :2\n",
    "\n",
    "list5 = ['abc', 'xyz', 'aba', '1221']\n",
    "count = 0\n",
    "for string in list5:\n",
    "    \n",
    "    if len(string) >= 2 and string[0] == string[-1]:\n",
    "        count += 1\n",
    "\n",
    "# Print the count\n",
    "print(f\"First and Last Character are the same: {count}\")\n"
   ]
  },
  {
   "cell_type": "code",
   "execution_count": 24,
   "id": "fbd06c03",
   "metadata": {},
   "outputs": [
    {
     "name": "stdout",
     "output_type": "stream",
     "text": [
      "{1, 2, 3, 4, 5, 6, 7, 8}\n"
     ]
    }
   ],
   "source": [
    "##6. Write a Python program to remove duplicates from a list\n",
    "##Sample Output\n",
    "##[1,2,3,7,2,1,5,6,4,8,5,4]\n",
    "##{1,2,3,4,5,6,7,8}\n",
    "\n",
    "list6 = [1,2,3,7,2,1,5,6,4,8,5,4]\n",
    "\n",
    "unique_set = set(list6)\n",
    "unique_list = list(unique_set)\n",
    "\n",
    "print(unique_set)"
   ]
  },
  {
   "cell_type": "code",
   "execution_count": 28,
   "id": "52287b98",
   "metadata": {},
   "outputs": [
    {
     "name": "stdout",
     "output_type": "stream",
     "text": [
      "list is not empty\n"
     ]
    }
   ],
   "source": [
    "##Write a Python program to check a list is empty or not\n",
    "#Sample Output\n",
    "#[34,45,6,5,4,56,7]\n",
    "#List is Not Empt\n",
    "\n",
    "list7 = [34,45,6,5,4,56,7]\n",
    "\n",
    "if not list7:\n",
    "    print('list is empty')\n",
    "    \n",
    "else:\n",
    "        print('list is not empty')"
   ]
  },
  {
   "cell_type": "code",
   "execution_count": 36,
   "id": "6b0498c2",
   "metadata": {},
   "outputs": [
    {
     "name": "stdout",
     "output_type": "stream",
     "text": [
      "Clone or Copy a List: [10, 22, 44, 23, 4]\n"
     ]
    }
   ],
   "source": [
    "##8. Write a Python program to clone or copy a list\n",
    "##Sample Output\n",
    "#[10, 22, 44, 23, 4]\n",
    "#Clone or Copy a List : [10, 22, 44, 23, 4]\n",
    "\n",
    "list8 = [10, 22, 44, 23, 4]\n",
    "\n",
    "copied_list = list8\n",
    "\n",
    "print(\"Clone or Copy a List:\", copied_list)"
   ]
  },
  {
   "cell_type": "code",
   "execution_count": 13,
   "id": "ac5f3f92",
   "metadata": {},
   "outputs": [
    {
     "name": "stdout",
     "output_type": "stream",
     "text": [
      "Given value of n = 4\n",
      "['Words', 'Longer', 'given', 'Words']\n"
     ]
    }
   ],
   "source": [
    "##9. Write a Python program to find the list of words that are longer than n from a given list of words\n",
    "#Sample Output\n",
    "#Find the List of Words that are Longer than n from a given List of Words\n",
    "#Given value of n = 4\n",
    "#['Words', 'Longer', 'given', 'Words']# Sample list of words\n",
    "\n",
    "word_list = ['Find', 'the', 'List', 'of', 'Words', 'that', 'are', 'Longer', 'than', 'n', 'from', 'a', 'given', 'List', 'of', 'Words']\n",
    "\n",
    "# Given value of n\n",
    "n = 4\n",
    "\n",
    "# Find words longer than n and store them in a new list\n",
    "longer_words = [word for word in word_list if len(word) > n]\n",
    "\n",
    "# Print the result\n",
    "print(\"Given value of n =\", n)\n",
    "print(longer_words)"
   ]
  },
  {
   "cell_type": "code",
   "execution_count": 34,
   "id": "e3da9289",
   "metadata": {},
   "outputs": [
    {
     "name": "stdout",
     "output_type": "stream",
     "text": [
      "list have at least one common member\n"
     ]
    }
   ],
   "source": [
    "##10. Write a Program that get two lists as input and check if they have at least one common member\n",
    "##Sample Output\n",
    "#[1,2,3,4,5]\n",
    "#[5,6,7,8,9]\n",
    "#Lists have at least one common member\n",
    "\n",
    "list1 = [1,2,3,4,5]\n",
    "list2 = [5,6,7,8,9]\n",
    "\n",
    "set1 = set(list1)\n",
    "set2 = set(list2)\n",
    "\n",
    "if set1.intersection(set2):\n",
    "        print(\"list have at least one common member\")\n",
    "else:\n",
    "        print(\"list do not have any comman member\")"
   ]
  },
  {
   "cell_type": "code",
   "execution_count": 43,
   "id": "3bacd77b",
   "metadata": {},
   "outputs": [
    {
     "name": "stdout",
     "output_type": "stream",
     "text": [
      "['Dog', 'Elephant', 'Fox', 'Ponda']\n"
     ]
    }
   ],
   "source": [
    "##11. Write a Python program to print a specified list after removing the 0th, 4th and 5th \n",
    "#elements. (enumerate)\n",
    "#Sample Output\n",
    "#[\"Cat\", \"Dog\", \"Elephant\", \"Fox\", \"Tiger\", \"Lion\", \"Ponda\"]\n",
    "#['Dog', 'Elephant', 'Fox', 'Ponda']\n",
    "\n",
    "# Sample list\n",
    "my_list = [\"Cat\", \"Dog\", \"Elephant\", \"Fox\", \"Tiger\", \"Lion\", \"Ponda\"]\n",
    "\n",
    "# Indices to remove (0th, 4th, and 5th elements)\n",
    "indices_to_remove = [0, 4, 5]\n",
    "\n",
    "# Create a new list by filtering out elements at the specified indices\n",
    "filtered_list = [value for index, value in enumerate(my_list) if index not in indices_to_remove]\n",
    "\n",
    "# Print the filtered list\n",
    "print(filtered_list)\n",
    "\n"
   ]
  },
  {
   "cell_type": "code",
   "execution_count": 72,
   "id": "8218afca",
   "metadata": {},
   "outputs": [
    {
     "name": "stdout",
     "output_type": "stream",
     "text": [
      "[7, 81, 25, 23, 27]\n"
     ]
    }
   ],
   "source": [
    "#12. Write a Python program to print the numbers of a specified list after removing even \n",
    "#numbers from it\n",
    "#Sample Output\n",
    "#[7,32,81,20,25,14,23,27]\n",
    "#[7, 81, 25, 23, 27]\n",
    "\n",
    "list12 = [7,32,81,20,25,14,23,27]\n",
    "\n",
    "filtered_numbers = [num for num in list12 if num % 2 != 0]\n",
    "\n",
    "# Print the filtered list of numbers\n",
    "print(filtered_numbers)\n",
    "\n",
    "\n"
   ]
  },
  {
   "cell_type": "code",
   "execution_count": 49,
   "id": "fc610ee4",
   "metadata": {},
   "outputs": [
    {
     "name": "stdout",
     "output_type": "stream",
     "text": [
      "['Cat', 'Lion', 'Dog', 'Elephant', 'Fox', 'Tiger', 'Ponda']\n"
     ]
    }
   ],
   "source": [
    "##13. Write a Python program to shuffle and print a specified list (shuffle)\n",
    "#Sample Output\n",
    "#[\"Cat\", \"Dog\", \"Elephant\", \"Fox\", \"Tiger\", \"Lion\", \"Ponda\"]\n",
    "#['Fox', 'Cat', 'Tiger', 'Lion', 'Dog', 'Ponda', 'Elephant']\n",
    "\n",
    "import random\n",
    "\n",
    "list13 = [\"Cat\", \"Dog\", \"Elephant\", \"Fox\", \"Tiger\", \"Lion\", \"Ponda\"]\n",
    "random.shuffle(list13)\n",
    "print(list13)\n",
    "\n",
    "\n"
   ]
  },
  {
   "cell_type": "code",
   "execution_count": 52,
   "id": "d8309a0b",
   "metadata": {},
   "outputs": [
    {
     "name": "stdout",
     "output_type": "stream",
     "text": [
      "first_five_elements [1, 4, 9, 16, 25]\n",
      "last_five_elements [676, 729, 784, 841, 900]\n"
     ]
    }
   ],
   "source": [
    "##14. Write a Python program to generate and print a list of first and last 5 elements where the values are square of numbers between 1 and 30\n",
    "#Sample Output\n",
    "#First 5 elements : [1, 4, 9, 16, 25]\n",
    "#Last 5 elements : [625, 676, 729, 784, 841]\n",
    "\n",
    "squares = [x**2 for x in range(1, 31)]\n",
    "\n",
    "first_five_elements = squares[:5]\n",
    "last_five_elements = squares[-5:]\n",
    "\n",
    "print('first_five_elements',first_five_elements)\n",
    "print('last_five_elements',last_five_elements)\n",
    "\n",
    "\n"
   ]
  },
  {
   "cell_type": "code",
   "execution_count": 63,
   "id": "4c95038a",
   "metadata": {},
   "outputs": [
    {
     "name": "stdout",
     "output_type": "stream",
     "text": [
      "(1, 2, 3)\n",
      "(1, 3, 2)\n",
      "(2, 1, 3)\n",
      "(2, 3, 1)\n",
      "(3, 1, 2)\n",
      "(3, 2, 1)\n"
     ]
    }
   ],
   "source": [
    "##15. Write a Python program to generate all permutations of a list in Python. (itertools)\n",
    "#Sample Output\n",
    "#[1,2,3]\n",
    "#[(1, 2, 3), (1, 3, 2), (2, 1, 3), (2, 3, 1), (3, 1, 2), (3, 2, , 1)]\n",
    "\n",
    "from itertools import permutations\n",
    "\n",
    "list15 = [1,2,3]\n",
    "\n",
    "all_permutations = list(permutations(list15))\n",
    "\n",
    "# Print the permutations\n",
    "for perm in all_permutations:\n",
    "    print(perm)\n"
   ]
  },
  {
   "cell_type": "code",
   "execution_count": 64,
   "id": "f22c6a81",
   "metadata": {},
   "outputs": [
    {
     "name": "stdout",
     "output_type": "stream",
     "text": [
      "Tutor Joes\n"
     ]
    }
   ],
   "source": [
    "##16. Write a Python program to convert a list of characters into a string\n",
    "#Sample Output\n",
    "#['T','u','t','o','r',' ','J','o','e','s']\n",
    "#Tutor Joes\n",
    "\n",
    "list16 = ['T','u','t','o','r',' ','J','o','e','s']\n",
    "output = ''.join(list16)\n",
    "\n",
    "print(output)"
   ]
  },
  {
   "cell_type": "code",
   "execution_count": 68,
   "id": "b8d0f83d",
   "metadata": {},
   "outputs": [
    {
     "name": "stdout",
     "output_type": "stream",
     "text": [
      "Item to find the index of 30\n",
      "Index Number of Item = 2\n"
     ]
    }
   ],
   "source": [
    "##17. Write a Python program to find the index of an item in a specified list\n",
    "#Sample Output\n",
    "#[20, 70, 30, 90, 10, 30, 90, 10, 80]\n",
    "#Item to find the index of 30\n",
    "#Index Number of Item = 2\n",
    "\n",
    "my_list = [20, 70, 30, 90, 10, 30, 90, 10, 80]\n",
    "\n",
    "# Item to find the index of\n",
    "item_to_find = 30\n",
    "\n",
    "# Find the index of the item\n",
    "index = my_list.index(item_to_find)\n",
    "\n",
    "# Print the index\n",
    "print(f\"Item to find the index of {item_to_find}\")\n",
    "print(f\"Index Number of Item = {index}\")"
   ]
  },
  {
   "cell_type": "code",
   "execution_count": 70,
   "id": "f4c3956d",
   "metadata": {},
   "outputs": [
    {
     "name": "stdout",
     "output_type": "stream",
     "text": [
      "[20, 30, 70, 30, 90, 10, 30, 20, 70, 90, 10, 80]\n"
     ]
    }
   ],
   "source": [
    "##18. Write a Python program to flatten a shallow list\n",
    "#Sample Output\n",
    "#[[20,30,70],[30,90,10], [30,20], [70,90,10,80]]\n",
    "#[20, 30, 70, 30, 90, 10, 30, 20, 70, 90, 10, 80]\n",
    "\n",
    "shallow_list = [[20,30,70],[30,90,10], [30,20], [70,90,10,80]]\n",
    "\n",
    "flattened_list = [item for sublist in shallow_list for item in sublist]\n",
    "\n",
    "print(flattened_list)\n"
   ]
  },
  {
   "cell_type": "code",
   "execution_count": 73,
   "id": "4f894714",
   "metadata": {},
   "outputs": [
    {
     "name": "stdout",
     "output_type": "stream",
     "text": [
      "[10, 20, 30, 40, 'Cat', 'Dog', 'Lion', 'Ponda']\n"
     ]
    }
   ],
   "source": [
    "##19. Write a Python program to add a list to the second list\n",
    "#Sample Output\n",
    "#[10, 20, 30, 40]\n",
    "#[\"Cat\", \"Dog\", \"Lion\", \"Ponda\"]\n",
    "#[10, 20, 30, 40, 'Cat', 'Dog', 'Lion', 'Ponda']\n",
    "\n",
    "list1 =[10, 20, 30, 40]\n",
    "list2 = [\"Cat\", \"Dog\", \"Lion\", \"Ponda\"]\n",
    "\n",
    "add = list1 + list2\n",
    "print(add)"
   ]
  },
  {
   "cell_type": "code",
   "execution_count": 76,
   "id": "aa0bd50c",
   "metadata": {},
   "outputs": [
    {
     "name": "stdout",
     "output_type": "stream",
     "text": [
      "Dog\n"
     ]
    }
   ],
   "source": [
    "##20. Write a Python program to select an item randomly from a list Using random.choice()\n",
    "#Sample Output\n",
    "#[\"Cat\", \"Dog\", \"Elephant\", \"Fox\", \"Tiger\", \"Lion\", \"Ponda\"]\n",
    "#Item randomly from a list : Fox\n",
    "\n",
    "list12 = [\"Cat\", \"Dog\", \"Elephant\", \"Fox\", \"Tiger\", \"Lion\", \"Ponda\"]\n",
    "\n",
    "random_choice = random.choice(list12)\n",
    "\n",
    "print(random_choice)\n",
    "\n"
   ]
  },
  {
   "cell_type": "code",
   "execution_count": 79,
   "id": "1b4b292e",
   "metadata": {},
   "outputs": [
    {
     "name": "stdout",
     "output_type": "stream",
     "text": [
      "Compare List1 and List2: True\n",
      "Compare List1 and List3: False\n"
     ]
    }
   ],
   "source": [
    "##21. Write a python program to check whether two lists are circularly identical\n",
    "#Sample Output\n",
    "#[8, 8, 12, 12, 8]\n",
    "#[8, 8, 8, 12, 12]\n",
    "#[1, 8, 8, 12, 12]\n",
    "#Compare List1 and List2 : True\n",
    "#Compare List1 and List3 : False\n",
    "\n",
    "def circularly_identical(list1, list2):\n",
    "    if len(list1) != len(list2):\n",
    "        return False\n",
    "\n",
    "    # Create a concatenated string of list1\n",
    "    list1_str = ''.join(map(str, list1))\n",
    "\n",
    "    # Check if list2 is a circular permutation of list1\n",
    "    for i in range(len(list1)):\n",
    "        list2_str = ''.join(map(str, list2[i:] + list2[:i]))\n",
    "        if list2_str == list1_str:\n",
    "            return True\n",
    "\n",
    "    return False\n",
    "\n",
    "# Sample lists\n",
    "list1 = [8, 8, 12, 12, 8]\n",
    "list2 = [8, 8, 8, 12, 12]\n",
    "list3 = [1, 8, 8, 12, 12]\n",
    "\n",
    "# Compare list1 and list2\n",
    "result1 = circularly_identical(list1, list2)\n",
    "\n",
    "# Compare list1 and list3\n",
    "result2 = circularly_identical(list1, list3)\n",
    "\n",
    "# Print the results\n",
    "print(f\"Compare List1 and List2: {result1}\")\n",
    "print(f\"Compare List1 and List3: {result2}\")\n",
    "\n",
    "    \n",
    "   \n",
    "\n",
    "\n",
    "\n"
   ]
  },
  {
   "cell_type": "code",
   "execution_count": 94,
   "id": "5e179628",
   "metadata": {},
   "outputs": [
    {
     "name": "stdout",
     "output_type": "stream",
     "text": [
      "Second Smallest Number: 4\n"
     ]
    }
   ],
   "source": [
    "##22. Write a Python program to find the second smallest number in a list\n",
    "#Sample Output\n",
    "#[2,4,56,78,4,34,5,8,9]\n",
    "#Second Smallest Number : 4\n",
    "\n",
    "number_list = [2,4,56,78,4,34,5,8,9]\n",
    "smallest = float('inf')\n",
    "second_smallest = float('inf')\n",
    "for num in numbers:\n",
    "    if num < smallest:\n",
    "        second_smallest = smallest\n",
    "        smallest = num\n",
    "    elif num < second_smallest and num != smallest:\n",
    "        second_smallest = num\n",
    "\n",
    "# Print the second smallest number\n",
    "print(\"Second Smallest Number:\", second_smallest)\n",
    "        \n",
    "              \n",
    "        \n",
    "        \n"
   ]
  },
  {
   "cell_type": "code",
   "execution_count": 95,
   "id": "a403b597",
   "metadata": {},
   "outputs": [
    {
     "name": "stdout",
     "output_type": "stream",
     "text": [
      "[34, 4, 5, 9, 10, 78, 82, 56]\n"
     ]
    }
   ],
   "source": [
    "##24. Write a Python program to get unique values from a list\n",
    "#Sample Output\n",
    "#[82, 4, 10, 56, 78, 4, 34, 5, 10, 9]\n",
    "#[34, 4, 5, 9, 10, 78, 82, 56]\n",
    "\n",
    "list24 = [82, 4, 10, 56, 78, 4, 34, 5, 10, 9]\n",
    "\n",
    "unique_value = list(set(list24))\n",
    "\n",
    "print(unique_value)"
   ]
  },
  {
   "cell_type": "code",
   "execution_count": 98,
   "id": "2b4b9fbb",
   "metadata": {},
   "outputs": [
    {
     "name": "stdout",
     "output_type": "stream",
     "text": [
      "Counter({50: 3, 10: 2, 30: 2, 20: 2, 60: 2, 40: 2})\n"
     ]
    }
   ],
   "source": [
    "##25. Write a Python program to get the frequency of the elements in a list.\n",
    "#Sample Output\n",
    "#[10, 30, 50, 10, 20, 60, 20, 60, 40, 40, 50, 50, 30]\n",
    "#Counter({50: 3, 10: 2, 30: 2, 20: 2, 60: 2, 40: 2}\n",
    "\n",
    "\n",
    "from collections import Counter\n",
    "\n",
    "list25 = [10, 30, 50, 10, 20, 60, 20, 60, 40, 40, 50, 50, 30]\n",
    "\n",
    "elements = Counter(list25)\n",
    "\n",
    "print(elements)"
   ]
  },
  {
   "cell_type": "code",
   "execution_count": 99,
   "id": "67dc391d",
   "metadata": {},
   "outputs": [
    {
     "name": "stdout",
     "output_type": "stream",
     "text": [
      "N = 10\n",
      "['T1', 'J1', 'T2', 'J2', 'T3', 'J3', 'T4', 'J4', 'T5', 'J5', 'T6', 'J6', 'T7', 'J7', 'T8', 'J8', 'T9', 'J9', 'T10', 'J10']\n"
     ]
    }
   ],
   "source": [
    "##26. Create a list by concatenating a given list which range goes from 1 to n\n",
    "#Sample Output\n",
    "#['T', 'J']\n",
    "#N = 10\n",
    "#['T1', 'J1', 'T2', 'J2', 'T3', 'J3', 'T4', 'J4', 'T5', 'J5', 'T6', 'J6', 'T7', 'J7', 'T8', 'J8', 'T9', 'J9', 'T10', 'J10']\n",
    "\n",
    "\n",
    "# Given list\n",
    "given_list = ['T', 'J']\n",
    "\n",
    "# Value of n\n",
    "n = 10\n",
    "\n",
    "# Create the concatenated list using a list comprehension\n",
    "result_list = [item + str(i) for i in range(1, n + 1) for item in given_list]\n",
    "\n",
    "# Print the result\n",
    "print(\"N =\", n)\n",
    "print(result_list)\n"
   ]
  },
  {
   "cell_type": "code",
   "execution_count": 108,
   "id": "714f46be",
   "metadata": {},
   "outputs": [
    {
     "name": "stdout",
     "output_type": "stream",
     "text": [
      "x = 30\n",
      "Unique ID for x: 140727336474312\n",
      "s = \"Tutor Joes\"\n",
      "Unique ID for s: 2223174599792\n"
     ]
    }
   ],
   "source": [
    "#27. Write a Python program to get variable unique identification number or string \n",
    "#Sample Output\n",
    "#x = 30\n",
    "#s = \"Tutor Joes\"\n",
    "#Unique Identification Number : 7005f980\n",
    "#Unique Identification String : c24bb\n",
    "\n",
    "# Create two variables\n",
    "x = 30\n",
    "s = \"Tutor Joes\"\n",
    "\n",
    "# Get the unique id for each variable\n",
    "id_x = id(x)\n",
    "id_s = id(s)\n",
    "\n",
    "\n",
    "print(f\"x = {x}\")\n",
    "print(f\"Unique ID for x: {id_x}\")\n",
    "\n",
    "print(f\"s = \\\"{s}\\\"\")\n",
    "print(f\"Unique ID for s: {id_s}\")\n"
   ]
  },
  {
   "cell_type": "code",
   "execution_count": 4,
   "id": "90225ecb",
   "metadata": {},
   "outputs": [
    {
     "name": "stdout",
     "output_type": "stream",
     "text": [
      "[89, 34, 67]\n"
     ]
    }
   ],
   "source": [
    "##28. Write a Python program to find common items from two lists\n",
    "#Sample Output\n",
    "#[23,45,67,78,89,34]\n",
    "#[34,89,55,56,39,67]\n",
    "#Common items from two lists : {89, 34, 67}\n",
    "\n",
    "list1 = [23,45,67,78,89,34]\n",
    "list2 = [34,89,55,56,39,67]\n",
    "\n",
    "comman_item = list(set(list1) & set(list2))\n",
    " \n",
    "print(comman_item)\n"
   ]
  },
  {
   "cell_type": "code",
   "execution_count": 9,
   "id": "4cc7dd5c",
   "metadata": {},
   "outputs": [
    {
     "name": "stdout",
     "output_type": "stream",
     "text": [
      "B\n",
      " bear\n",
      "C\n",
      " cat\n",
      " cow\n",
      "D\n",
      " dog\n",
      "F\n",
      " Fox\n",
      "L\n",
      " lion\n",
      "M\n",
      " mouse\n",
      " monkey\n",
      "S\n",
      " Shark\n",
      " Snake\n",
      "T\n",
      " tiger\n",
      " turtle\n"
     ]
    }
   ],
   "source": [
    "##29. Write a Python program to split a list based on first character of word\n",
    "#Sample Output\n",
    "\n",
    "#[\"cat\", \"dog\", \"cow\", \"tiger\", \"lion\", \"Fox\", \"Shark\", \"Snake\", \"turtle\", \"mouse\", \"monkey\", \"bear\"]\n",
    "\n",
    "#F\n",
    " #Fox\n",
    "#S\n",
    " #Shark\n",
    " #Snake\n",
    "#b\n",
    " #bear\n",
    "#c\n",
    " #cat\n",
    "    \n",
    " #cow\n",
    "#d\n",
    " #dog\n",
    "#l\n",
    " #lion\n",
    "#m\n",
    " #monkey\n",
    " #mouse\n",
    "#t\n",
    " #tiger\n",
    " #turtle\n",
    "\n",
    "# Sample list of words\n",
    "word_list = [\"cat\", \"dog\", \"cow\", \"tiger\", \"lion\", \"Fox\", \"Shark\", \"Snake\", \"turtle\", \"mouse\", \"monkey\", \"bear\"]\n",
    "\n",
    "# Create a dictionary to group words by the first character\n",
    "word_dict = {}\n",
    "\n",
    "# Populate the dictionary\n",
    "for word in word_list:\n",
    "    first_char = word[0].upper()\n",
    "    if first_char not in word_dict:\n",
    "        word_dict[first_char] = [word]\n",
    "    else:\n",
    "        word_dict[first_char].append(word)\n",
    "\n",
    "# Print the result\n",
    "for key, words in sorted(word_dict.items()):\n",
    "    print(key)\n",
    "    for word in words:\n",
    "        print(f\" {word}\")\n",
    "        \n",
    "    \n",
    "            \n",
    "        \n",
    "    "
   ]
  },
  {
   "cell_type": "code",
   "execution_count": 10,
   "id": "bed040dc",
   "metadata": {},
   "outputs": [
    {
     "name": "stdout",
     "output_type": "stream",
     "text": [
      "[1, 3, 7, 5, 9, 7, 9]\n"
     ]
    }
   ],
   "source": [
    "#30. Write a Python program to select the odd number of a list\n",
    "#Sample Output\n",
    "#[1,2,4,3,6,7,5,8,9,7,8,9,10]\n",
    "#[1, 3, 7, 5, 9, 7, 9]\n",
    "\n",
    "list30 = [1,2,4,3,6,7,5,8,9,7,8,9,10]\n",
    "\n",
    "odd_number = [num for num in list30 if num % 2 != 0 ]\n",
    "\n",
    "print(odd_number)"
   ]
  },
  {
   "cell_type": "code",
   "execution_count": 13,
   "id": "e618b930",
   "metadata": {},
   "outputs": [
    {
     "name": "stdout",
     "output_type": "stream",
     "text": [
      "6\n"
     ]
    }
   ],
   "source": [
    "##31. Write a Python Program to count unique values inside a list\n",
    "#Sample Output\n",
    "#[10, 20, 30, 50, 80, 70, 70, 80, 10]\n",
    "#No of Unique Items in List : 6\n",
    "\n",
    "list31 = [10, 20, 30, 50, 80, 70, 70, 80, 10]\n",
    "\n",
    "unique_set = set(list31)\n",
    "\n",
    "unique_count = len(unique_set)\n",
    "\n",
    "print(unique_count)"
   ]
  },
  {
   "cell_type": "code",
   "execution_count": 33,
   "id": "dc68b999",
   "metadata": {},
   "outputs": [
    {
     "name": "stdout",
     "output_type": "stream",
     "text": [
      "[4, 3]\n"
     ]
    }
   ],
   "source": [
    "#32. Write a Python Program to List product excluding duplicates\n",
    "#Sample Output\n",
    "#[2, 1, 2, 4, 6, 4, 3, 2, 1]\n",
    "#Duplication removal list product : 144\n",
    "# Sample list of numbers\n",
    "\n",
    "numbers = [4, 6, 4, 3, 3, 4, 3, 7, 8, 8]\n",
    "\n",
    "# Define the value of K\n",
    "K = 2\n",
    "\n",
    "# Create a dictionary to count the frequency of each element\n",
    "element_count = {}\n",
    "\n",
    "# Count the occurrences of each element\n",
    "for num in numbers:\n",
    "    if num in element_count:\n",
    "        element_count[num] += 1\n",
    "    else:\n",
    "        element_count[num] = 1\n",
    "\n",
    "# Extract elements with a frequency greater than K\n",
    "result_list = [num for num, count in element_count.items() if count > K]\n",
    "\n",
    "# Print the result\n",
    "print(result_list)\n",
    "\n",
    "\n",
    "\n",
    "\n"
   ]
  },
  {
   "cell_type": "code",
   "execution_count": 34,
   "id": "9fea1e1c",
   "metadata": {},
   "outputs": [
    {
     "name": "stdout",
     "output_type": "stream",
     "text": [
      "[4, 3]\n"
     ]
    }
   ],
   "source": [
    "#33. Write a Python Program to Extract elements with Frequency greater than K\n",
    "#Sample Output\n",
    "#[4, 6, 4, 3, 3, 4, 3, 7, 8, 8]\n",
    "\n",
    "# Sample list of numbers\n",
    "numbers = [4, 6, 4, 3, 3, 4, 3, 7, 8, 8]\n",
    "\n",
    "# Define the value of K\n",
    "K = 2\n",
    "\n",
    "# Create a dictionary to count the frequency of each element\n",
    "element_count = {}\n",
    "\n",
    "# Count the occurrences of each element\n",
    "for num in numbers:\n",
    "    if num in element_count:\n",
    "        element_count[num] += 1\n",
    "    else:\n",
    "        element_count[num] = 1\n",
    "\n",
    "# Extract elements with a frequency greater than K\n",
    "result_list = [num for num, count in element_count.items() if count > K]\n",
    "\n",
    "# Print the result\n",
    "print(result_list)\n"
   ]
  },
  {
   "cell_type": "code",
   "execution_count": 35,
   "id": "74f2ce54",
   "metadata": {},
   "outputs": [
    {
     "name": "stdout",
     "output_type": "stream",
     "text": [
      "Does list contain all elements in range: True\n"
     ]
    }
   ],
   "source": [
    "##34. Write a Python Program to Test if List contains elements in Range\n",
    "#Sample Output\n",
    "#[4, 5, 6, 7, 3, 9]\n",
    "#Does list contain all elements in range : True\n",
    "\n",
    "# Sample list of numbers\n",
    "numbers = [4, 5, 6, 7, 3, 9]\n",
    "\n",
    "# Define the range\n",
    "start = 3\n",
    "end = 9\n",
    "\n",
    "# Check if the list contains all elements within the range\n",
    "contains_all_in_range = all(start <= num <= end for num in numbers)\n",
    "\n",
    "# Print the result\n",
    "print(\"Does list contain all elements in range:\", contains_all_in_range)\n",
    "\n"
   ]
  },
  {
   "cell_type": "code",
   "execution_count": 36,
   "id": "0df18c3b",
   "metadata": {},
   "outputs": [
    {
     "name": "stdout",
     "output_type": "stream",
     "text": [
      "Three Consecutive common numbers = 18, 9\n"
     ]
    }
   ],
   "source": [
    "#35. Write a Python program to check if the list contains three consecutive common \n",
    "#numbers in Python\n",
    "#Sample Output\n",
    "#[18, 18, 18, 6, 3, 4, 9, 9, 9]\n",
    "#Three Consecutive common numbers = 18, \n",
    "\n",
    "\n",
    "numbers = [18, 18, 18, 6, 3, 4, 9, 9, 9]\n",
    "\n",
    "# Initialize variables to store the consecutive common numbers\n",
    "consecutive_common_numbers = []\n",
    "\n",
    "# Iterate through the list to find consecutive common numbers\n",
    "for i in range(len(numbers) - 2):\n",
    "    if numbers[i] == numbers[i + 1] == numbers[i + 2]:\n",
    "        consecutive_common_numbers.append(numbers[i])\n",
    "\n",
    "# Print the result\n",
    "if consecutive_common_numbers:\n",
    "    print(\"Three Consecutive common numbers =\", \", \".join(map(str, consecutive_common_numbers)))\n",
    "else:\n",
    "    print(\"No three consecutive common numbers found.\")\n"
   ]
  },
  {
   "cell_type": "code",
   "execution_count": 37,
   "id": "10db6cea",
   "metadata": {},
   "outputs": [
    {
     "name": "stdout",
     "output_type": "stream",
     "text": [
      "30\n"
     ]
    }
   ],
   "source": [
    "#36. Write a Python program to find the Strongest Neighbour\n",
    "#Sample Output\n",
    "#[10,20,30,20,30,400]\n",
    "#20 30 30 30 400\n",
    "\n",
    "# Sample list of numbers\n",
    "numbers = [10, 20, 30, 20, 30, 400]\n",
    "\n",
    "# Find the strongest neighbors\n",
    "strongest_neighbors = []\n",
    "\n",
    "# Iterate through the list to find the strongest neighbors\n",
    "for i in range(1, len(numbers) - 1):\n",
    "    if numbers[i] > numbers[i - 1] and numbers[i] > numbers[i + 1]:\n",
    "        strongest_neighbors.append(numbers[i])\n",
    "\n",
    "# Print the result\n",
    "print(*strongest_neighbors)\n"
   ]
  },
  {
   "cell_type": "code",
   "execution_count": 41,
   "id": "00d6f7a6",
   "metadata": {},
   "outputs": [
    {
     "name": "stdout",
     "output_type": "stream",
     "text": [
      "1 2 3\n",
      "1 3 2\n",
      "2 1 3\n",
      "2 3 1\n",
      "3 1 2\n",
      "3 2 1\n"
     ]
    }
   ],
   "source": [
    "##37. Write a Python Program to print all Possible Combinations from the three Digits\n",
    "#Sample Output\n",
    "#[1, 2, 3]\n",
    "#1 2 ,3\n",
    "\n",
    "from itertools import permutations\n",
    "\n",
    "# Sample list of three digits\n",
    "digits = [1, 2, 3]\n",
    "\n",
    "# Generate all possible permutations of the digits\n",
    "permutations_list = list(permutations(digits))\n",
    "\n",
    "# Print the permutations\n",
    "for perm in permutations_list:\n",
    "    print(*perm)\n"
   ]
  },
  {
   "cell_type": "code",
   "execution_count": 42,
   "id": "22f7e12e",
   "metadata": {},
   "outputs": [
    {
     "name": "stdout",
     "output_type": "stream",
     "text": [
      "[('Tutor Joes', 'Software', 'Computer'), ('Tutor Joes', 'Software', 'Solution'), ('Tutor Joes', 'Software', 'Education'), ('Tutor Joes', 'Computer', 'Solution'), ('Tutor Joes', 'Computer', 'Education'), ('Tutor Joes', 'Solution', 'Education'), ('Software', 'Computer', 'Solution'), ('Software', 'Computer', 'Education'), ('Software', 'Solution', 'Education'), ('Computer', 'Solution', 'Education')]\n"
     ]
    }
   ],
   "source": [
    "##38. Write a Python program to find all the Combinations in the list with the given condition\n",
    "#Sample Output\n",
    "#['Tutor Joes', ['Software', 'Computer'], ['Solution', 'Education']]\n",
    "#[ ['Tutor Joes', 'Software', 'Solution'], ['Tutor Joes', 'Computer', 'Education'] ]\n",
    "\n",
    "from itertools import combinations\n",
    "\n",
    "# Sample list of items\n",
    "items = ['Tutor Joes', 'Software', 'Computer', 'Solution', 'Education']\n",
    "\n",
    "# Find combinations with the given condition (3 items)\n",
    "combinations_list = list(combinations(items, 3))\n",
    "\n",
    "# Print the combinations\n",
    "print(combinations_list)\n",
    "\n"
   ]
  },
  {
   "cell_type": "code",
   "execution_count": 43,
   "id": "49fe9318",
   "metadata": {},
   "outputs": [
    {
     "name": "stdout",
     "output_type": "stream",
     "text": [
      "[('A', 1), ('A', 2), ('A', 3), ('B', 1), ('B', 2), ('B', 3), ('C', 1), ('C', 2), ('C', 3)]\n"
     ]
    }
   ],
   "source": [
    "##39. Write a Python program to get all unique combinations of two Lists\n",
    "#Sample Output\n",
    "#['A','B','C']\n",
    "#[1,2,3]\n",
    "#[ [('A', 1), ('B', 2), ('C', 3)], [('A', 1), ('C', 2), ('B', 3)], [('B', 1), ('A', 2), ('C', 3)], [('B', 1), ('C', 2), ('A', 3)], \n",
    "#[('C', 1), ('A', 2), ('B', 3)], [('C', 1), ('B', 2), ('A', 3)] \n",
    "\n",
    "from itertools import product\n",
    "\n",
    "# Sample lists\n",
    "list1 = ['A', 'B', 'C']\n",
    "list2 = [1, 2, 3]\n",
    "\n",
    "# Get all unique combinations of the two lists\n",
    "combinations = list(product(list1, list2))\n",
    "\n",
    "# Print the combinations\n",
    "print(combinations)\n",
    "\n"
   ]
  },
  {
   "cell_type": "code",
   "execution_count": 44,
   "id": "3f099854",
   "metadata": {},
   "outputs": [
    {
     "name": "stdout",
     "output_type": "stream",
     "text": [
      "[3, 4, 6, 5]\n"
     ]
    }
   ],
   "source": [
    "#40. Write a Python program to remove all the occurrences of an element from a list\n",
    "#Sample Output\n",
    "#[1, 3, 4, 6, 5, 1]\n",
    "#[3, 4, 6, 5]\n",
    "\n",
    "# Sample list of numbers\n",
    "numbers = [1, 3, 4, 6, 5, 1]\n",
    "\n",
    "# Element to remove\n",
    "element_to_remove = 1\n",
    "\n",
    "# Remove all occurrences of the element\n",
    "filtered_numbers = [num for num in numbers if num != element_to_remove]\n",
    "\n",
    "# Print the result\n",
    "print(filtered_numbers)\n"
   ]
  },
  {
   "cell_type": "code",
   "execution_count": 45,
   "id": "3470555c",
   "metadata": {},
   "outputs": [
    {
     "name": "stdout",
     "output_type": "stream",
     "text": [
      "[('A', 'B', 'C', 'D'), ('B', 'C', 'C', 'I'), ('H', 'D', 'B', 'C'), ('C', 'C', 'G', 'F')]\n"
     ]
    }
   ],
   "source": [
    "##41. Write a Python Program to Remove Consecutive K element records\n",
    "#Sample Output\n",
    "#[ ('A', 'B', 'C', 'D'), ('B', 'C', 'C', 'I'), ('H', 'D', 'B', 'C'), ('C', 'C', 'G', 'F') ]\n",
    "#[ ('A', 'B', 'C', 'D'), ('H', 'D', 'B', 'C') ]\n",
    "\n",
    "# Sample list of tuples\n",
    "tuples_list = [('A', 'B', 'C', 'D'), ('B', 'C', 'C', 'I'), ('H', 'D', 'B', 'C'), ('C', 'C', 'G', 'F')]\n",
    "\n",
    "# Number of consecutive elements to remove (K)\n",
    "K = 2\n",
    "\n",
    "# Remove consecutive K element records\n",
    "filtered_tuples = [tup for i, tup in enumerate(tuples_list) if i < K or not all(tup[j] == tuples_list[i - K][j] for j in range(len(tup)))]\n",
    "\n",
    "# Print the result\n",
    "print(filtered_tuples)\n"
   ]
  },
  {
   "cell_type": "code",
   "execution_count": 46,
   "id": "8937a67c",
   "metadata": {},
   "outputs": [
    {
     "name": "stdout",
     "output_type": "stream",
     "text": [
      "['Education', 'Computer', 'Tutor Joes', 'Computer', 'Tutor Joes', 'Education', 'Education', 'Tutor Joes', 'Computer', 'Tutor Joes', 'Computer', 'Education']\n"
     ]
    }
   ],
   "source": [
    "##42. Write a Python Program to Replace index elements with elements in Other List\n",
    "#Sample Output\n",
    "#['Tutor Joes', 'Computer', 'Education']\n",
    "#[2, 1, 0, 1, 0, 2, 2, 0, 1, 0, 1, 2]\n",
    "#['Education', 'Computer', 'Tutor Joes', 'Computer', 'Tutor Joes', 'Education', 'Education', 'Tutor \n",
    "#Joes', 'Computer', 'Tutor Joes', 'Computer', 'Education']\n",
    "\n",
    "# Sample lists\n",
    "list1 = ['Tutor Joes', 'Computer', 'Education']\n",
    "list2 = [2, 1, 0, 1, 0, 2, 2, 0, 1, 0, 1, 2]\n",
    "\n",
    "# Replace index elements from list1 with elements from list2\n",
    "result_list = [list1[i] for i in list2]\n",
    "\n",
    "# Print the result\n",
    "print(result_list)\n"
   ]
  },
  {
   "cell_type": "code",
   "execution_count": 47,
   "id": "b7ef6aec",
   "metadata": {},
   "outputs": [
    {
     "name": "stdout",
     "output_type": "stream",
     "text": [
      "[(4, 5, 6, 5, 4), (5, 5, 2)]\n"
     ]
    }
   ],
   "source": [
    "##43. Write a Python Program to Retain records with N occurrences of K\n",
    "#Sample Output\n",
    "#[ (4, 5, 6, 5, 4), (4, 5, 3), (5, 5, 2), (3, 4, 9) ]\n",
    "#K = 5\n",
    "#N = 2\n",
    "#[ (4, 5, 6, 5, 4), (5, 5, 2) ]\n",
    "# Sample list of tuples\n",
    "tuples_list = [(4, 5, 6, 5, 4), (4, 5, 3), (5, 5, 2), (3, 4, 9)]\n",
    "\n",
    "# Value K to check for occurrences\n",
    "K = 5\n",
    "\n",
    "# Number of occurrences N to retain\n",
    "N = 2\n",
    "\n",
    "# Count the occurrences of K in each tuple\n",
    "counted_tuples = [tup for tup in tuples_list if tup.count(K) == N]\n",
    "\n",
    "# Print the result\n",
    "print(counted_tuples)\n"
   ]
  },
  {
   "cell_type": "code",
   "execution_count": 53,
   "id": "190f83ed",
   "metadata": {},
   "outputs": [
    {
     "name": "stdout",
     "output_type": "stream",
     "text": [
      "['Tutor', 'Computer', \"Joe's\", 'Solutions']\n"
     ]
    }
   ],
   "source": [
    "##44. Write a Python Program to Swap elements in String list\n",
    "#Sample Output\n",
    "#['Tutor', 'joes', 'Computer', 'Education']\n",
    "#['Tutor', \"Joe's\", 'Software', 'Solutions']\n",
    "\n",
    "# Sample list of strings\n",
    "string_list = ['Tutor', \"Joe's\", 'Computer', 'Solutions']\n",
    "\n",
    "# Swap elements in the list\n",
    "string_list[1], string_list[2] = string_list[2], string_list[1]\n",
    "\n",
    "# Print the result\n",
    "print(string_list)\n",
    "\n"
   ]
  },
  {
   "cell_type": "code",
   "execution_count": 54,
   "id": "b27ef563",
   "metadata": {},
   "outputs": [
    {
     "name": "stdout",
     "output_type": "stream",
     "text": [
      "Original list = ['Tutor', 'joes', 'Computer', 'Education']\n",
      "Reversed list = ['rotuT', 'seoj', 'retupmoC', 'noitacudE']\n",
      "Reversed list = ['noitacudE', 'retupmoC', 'seoj', 'rotuT']\n"
     ]
    }
   ],
   "source": [
    "#45. Write a Python program to reverse All Strings in String List\n",
    "#Sample Output\n",
    "#Original list = ['Tutor', 'joes', 'Computer', 'Education']\n",
    "#Reversed list = ['rotuT', 'seoj', 'retupmoC', 'noitacudE']\n",
    "#Reversed list = ['Education', 'Computer', 'joes', 'Tutor']\n",
    "\n",
    "# Sample list of strings\n",
    "string_list = ['Tutor', 'joes', 'Computer', 'Education']\n",
    "\n",
    "# Reverse all strings in the list\n",
    "reversed_list = [string[::-1] for string in string_list]\n",
    "\n",
    "# Print the reversed list\n",
    "print(\"Original list =\", string_list)\n",
    "print(\"Reversed list =\", reversed_list)\n",
    "\n",
    "# If you want to reverse the order of strings in the list as well, you can do the following:\n",
    "reversed_list.reverse()\n",
    "print(\"Reversed list =\", reversed_list)\n"
   ]
  },
  {
   "cell_type": "code",
   "execution_count": 55,
   "id": "88fb76be",
   "metadata": {},
   "outputs": [
    {
     "name": "stdout",
     "output_type": "stream",
     "text": [
      "Index of character at Kth position word: -1\n"
     ]
    }
   ],
   "source": [
    "##46. Write a Python program to find the character position of Kth word from a list of strings\n",
    "#Sample Output\n",
    "#['Tutor', 'joes', 'Computer', 'Education']\n",
    "#K = 20\n",
    "#Index of character at Kth position word: 3\n",
    "\n",
    "# Sample list of strings\n",
    "string_list = ['Tutor', 'joes', 'Computer', 'Education']\n",
    "\n",
    "# Value of K\n",
    "K = 20\n",
    "\n",
    "# Combine the strings in the list into a single string\n",
    "combined_string = ' '.join(string_list)\n",
    "\n",
    "# Split the combined string into words\n",
    "words = combined_string.split()\n",
    "\n",
    "# Check if K is within the range of words in the list\n",
    "if K >= 1 and K <= len(words):\n",
    "    word_at_K = words[K - 1]  # Subtract 1 to account for 0-based indexing\n",
    "    character_position = combined_string.index(word_at_K)\n",
    "else:\n",
    "    character_position = -1  # K is out of range\n",
    "\n",
    "# Print the result\n",
    "print(\"Index of character at Kth position word:\", character_position)\n"
   ]
  },
  {
   "cell_type": "code",
   "execution_count": 56,
   "id": "93e39678",
   "metadata": {},
   "outputs": [
    {
     "name": "stdout",
     "output_type": "stream",
     "text": [
      "Prefix = Tj\n",
      "Strings count with matching frequency: 3\n"
     ]
    }
   ],
   "source": [
    "#47. Write a Python Program to Prefix frequency in string List\n",
    "#Sample Output\n",
    "#['TjC', 'TjCpp', 'TjPython', 'Java']\n",
    "#Prefix = 'Tj'\n",
    "#Strings count with matching frequency : 3\n",
    "\n",
    "# Sample list of strings\n",
    "string_list = ['TjC', 'TjCpp', 'TjPython', 'Java']\n",
    "\n",
    "# Prefix to count\n",
    "prefix = 'Tj'\n",
    "\n",
    "# Count the strings with the matching prefix\n",
    "count = sum(1 for string in string_list if string.startswith(prefix))\n",
    "\n",
    "# Print the result\n",
    "print(\"Prefix =\", prefix)\n",
    "print(\"Strings count with matching frequency:\", count)\n"
   ]
  },
  {
   "cell_type": "code",
   "execution_count": 59,
   "id": "c14b5de3",
   "metadata": {},
   "outputs": [
    {
     "name": "stdout",
     "output_type": "stream",
     "text": [
      "Prefix = Tj\n",
      "[['TjC'], ['TjCpp'], ['TjPython', 'Java', 'tj']]\n"
     ]
    }
   ],
   "source": [
    "##48. Write a Python Program to Split Strings on Prefix Occurrence\n",
    "#Sample Output\n",
    "\n",
    "#['TjC', 'TjCpp', 'TjPython', 'Java', 'tj']\n",
    "#Prefix = 'Tj'\n",
    "#[ ['TjC'], ['TjCpp'], ['TjPython', 'Java', 'tj'] ]\n",
    "\n",
    "# Sample list of strings\n",
    "string_list = ['TjC', 'TjCpp', 'TjPython', 'Java', 'tj']\n",
    "\n",
    "# Prefix to split on\n",
    "prefix = 'Tj'\n",
    "\n",
    "# Split the strings on the prefix occurrence\n",
    "split_strings = []\n",
    "current_split = []\n",
    "\n",
    "for string in string_list:\n",
    "    if string.startswith(prefix):\n",
    "        if current_split:\n",
    "            split_strings.append(current_split)\n",
    "            current_split = []\n",
    "    current_split.append(string)\n",
    "\n",
    "if current_split:\n",
    "    split_strings.append(current_split)\n",
    "\n",
    "# Print the result\n",
    "print(\"Prefix =\", prefix)\n",
    "print(split_strings)\n"
   ]
  },
  {
   "cell_type": "code",
   "execution_count": 60,
   "id": "8ffb535e",
   "metadata": {},
   "outputs": [
    {
     "name": "stdout",
     "output_type": "stream",
     "text": [
      "['@', '@', 'T', '@', '@', '@']\n"
     ]
    }
   ],
   "source": [
    "##49. Write a Python program to Replace all Characters of a List Except the given character\n",
    "#Sample Output\n",
    "#['P', 'Y', 'T', 'H', 'O', 'N']\n",
    "#['@', '@', 'T', '@', '@', '@']\n",
    "\n",
    "# Sample list of characters\n",
    "characters_list = ['P', 'Y', 'T', 'H', 'O', 'N']\n",
    "\n",
    "# Character to preserve\n",
    "preserve_character = 'T'\n",
    "\n",
    "# Replace all characters except the given character\n",
    "replacement_character = '@'\n",
    "result_list = [char if char == preserve_character else replacement_character for char in characters_list]\n",
    "\n",
    "# Print the result\n",
    "print(result_list)\n"
   ]
  },
  {
   "cell_type": "code",
   "execution_count": 61,
   "id": "9e90224d",
   "metadata": {},
   "outputs": [
    {
     "name": "stdout",
     "output_type": "stream",
     "text": [
      "['T u t o r J o e s', 'C o m p u t e r E d u c a t i o n s']\n"
     ]
    }
   ],
   "source": [
    "##50. Write a Python Program to Add Space between Potential Words\n",
    "#Sample Output\n",
    "#['TutorJoes', 'ComputerEducations']\n",
    "#[' Tutor Joes', ' Computer Educations']\n",
    "\n",
    "# Sample list of strings\n",
    "strings_list = ['TutorJoes', 'ComputerEducations']\n",
    "\n",
    "# Add space between potential words\n",
    "result_list = [' '.join([s for s in string]) for string in strings_list]\n",
    "\n",
    "# Print the result\n",
    "print(result_list)\n",
    "\n"
   ]
  },
  {
   "cell_type": "code",
   "execution_count": 32,
   "id": "8a3498fa",
   "metadata": {},
   "outputs": [
    {
     "ename": "TypeError",
     "evalue": "'builtin_function_or_method' object is not iterable",
     "output_type": "error",
     "traceback": [
      "\u001b[1;31m---------------------------------------------------------------------------\u001b[0m",
      "\u001b[1;31mTypeError\u001b[0m                                 Traceback (most recent call last)",
      "Cell \u001b[1;32mIn[32], line 18\u001b[0m\n\u001b[0;32m     15\u001b[0m         element_count[num] \u001b[38;5;241m=\u001b[39m \u001b[38;5;241m1\u001b[39m\n\u001b[0;32m     17\u001b[0m \u001b[38;5;66;03m# Extract elements with a frequency greater than K\u001b[39;00m\n\u001b[1;32m---> 18\u001b[0m result_list \u001b[38;5;241m=\u001b[39m [num \u001b[38;5;28;01mfor\u001b[39;00m num, count \u001b[38;5;129;01min\u001b[39;00m element_count\u001b[38;5;241m.\u001b[39mitems \u001b[38;5;28;01mif\u001b[39;00m count \u001b[38;5;241m>\u001b[39m K]\n\u001b[0;32m     20\u001b[0m \u001b[38;5;66;03m# Print the result\u001b[39;00m\n\u001b[0;32m     21\u001b[0m \u001b[38;5;28mprint\u001b[39m(result_list)\n",
      "\u001b[1;31mTypeError\u001b[0m: 'builtin_function_or_method' object is not iterable"
     ]
    }
   ],
   "source": [
    "# Sample list of numbers\n",
    "numbers = [4, 6, 4, 3, 3, 4, 3, 7, 8, 8]\n",
    "\n",
    "# Define the value of K\n",
    "K = 2\n",
    "\n",
    "# Create a dictionary to count the frequency of each element\n",
    "element_count = {}\n",
    "\n",
    "# Count the occurrences of each element\n",
    "for num in numbers:\n",
    "    if num in element_count:\n",
    "        element_count[num] += 1\n",
    "    else:\n",
    "        element_count[num] = 1\n",
    "\n",
    "# Extract elements with a frequency greater than K\n",
    "result_list = [num for num, count in element_count.items if count > K]\n",
    "\n",
    "# Print the result\n",
    "print(result_list)\n"
   ]
  },
  {
   "cell_type": "code",
   "execution_count": null,
   "id": "41f638d2",
   "metadata": {},
   "outputs": [],
   "source": []
  }
 ],
 "metadata": {
  "kernelspec": {
   "display_name": "Python 3 (ipykernel)",
   "language": "python",
   "name": "python3"
  },
  "language_info": {
   "codemirror_mode": {
    "name": "ipython",
    "version": 3
   },
   "file_extension": ".py",
   "mimetype": "text/x-python",
   "name": "python",
   "nbconvert_exporter": "python",
   "pygments_lexer": "ipython3",
   "version": "3.11.4"
  }
 },
 "nbformat": 4,
 "nbformat_minor": 5
}
