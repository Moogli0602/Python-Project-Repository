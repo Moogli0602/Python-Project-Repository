{
 "cells": [
  {
   "cell_type": "code",
   "execution_count": 10,
   "id": "e46d7290",
   "metadata": {},
   "outputs": [
    {
     "name": "stdout",
     "output_type": "stream",
     "text": [
      "Tuple = ()\n"
     ]
    }
   ],
   "source": [
    "##1. Write a Python program to create a tuple\n",
    "#Sample Output\n",
    "#Tuple = ()\n",
    "\n",
    "# Create an empty tuple\n",
    "tuple = ()\n",
    "\n",
    "# Print the tuple\n",
    "print(\"Tuple =\", tuple)"
   ]
  },
  {
   "cell_type": "code",
   "execution_count": 11,
   "id": "0894c91f",
   "metadata": {},
   "outputs": [
    {
     "name": "stdout",
     "output_type": "stream",
     "text": [
      "('Tutor Joes', True, 'T', 3.21, 10)\n"
     ]
    }
   ],
   "source": [
    "##2. Write a Python program to create a tuple with different data types\n",
    "#Sample Output\n",
    "#('Tutor Joes', True, 'T', 3.21, 10)\n",
    "\n",
    "Tuple = ('Tutor Joes', True, 'T', 3.21, 10)\n",
    "\n",
    "print(Tuple)"
   ]
  },
  {
   "cell_type": "code",
   "execution_count": 13,
   "id": "48506ec2",
   "metadata": {},
   "outputs": [
    {
     "name": "stdout",
     "output_type": "stream",
     "text": [
      "10\n",
      "Type =  <class 'tuple'>\n"
     ]
    }
   ],
   "source": [
    "##3. Write a Python program to create a tuple with numbers and print one item\n",
    "#Sample Output\n",
    "#10\n",
    "#Type = tuple\n",
    "\n",
    "tuple3 = (5,10,15,20,25)\n",
    "\n",
    "print(tuple3[1])\n",
    "\n",
    "print ( 'Type = ',type(tuple3))"
   ]
  },
  {
   "cell_type": "code",
   "execution_count": 14,
   "id": "20b50901",
   "metadata": {},
   "outputs": [
    {
     "name": "stdout",
     "output_type": "stream",
     "text": [
      "a= 4 8 3\n",
      "(4, 8, 3)\n"
     ]
    }
   ],
   "source": [
    "##4. Write a Python program to unpack a tuple in several variables\n",
    "#Sample Output\n",
    "# a = 4, 8, 3\n",
    "#(4, 8, 3)\n",
    "\n",
    "tuple4 = (4, 8, 3)\n",
    "\n",
    "a, b, c = tuple4\n",
    "\n",
    "print('a=', a, b, c)\n",
    "\n",
    "print(tuple4)\n",
    "\n"
   ]
  },
  {
   "cell_type": "code",
   "execution_count": 17,
   "id": "9cc6784c",
   "metadata": {},
   "outputs": [
    {
     "name": "stdout",
     "output_type": "stream",
     "text": [
      "(10, 40, 50, 70, 90, 20)\n"
     ]
    }
   ],
   "source": [
    "##5. Write a Python program to add an item in a tuple\n",
    "#Sample Output\n",
    "#(10, 40, 50, 70, 90)\n",
    "#add items in list = 20\n",
    "#(10, 40, 50, 70, 90, 20)\n",
    "\n",
    "\n",
    "tuple5= (10, 40, 50, 70, 90)\n",
    "\n",
    "item_to_add = 20\n",
    "\n",
    "new_tuple = tuple5 + (item_to_add,)\n",
    "\n",
    "print(new_tuple)"
   ]
  },
  {
   "cell_type": "code",
   "execution_count": 21,
   "id": "7ed9b1e7",
   "metadata": {},
   "outputs": [
    {
     "name": "stdout",
     "output_type": "stream",
     "text": [
      "Tutor Joes\n"
     ]
    }
   ],
   "source": [
    "##6. Write a Python program to convert a tuple to a string\n",
    "#Sample Output\n",
    "#('T', 'u', 't', 'o', 'r', ' ', 'J', 'o', 'e', 's')\n",
    "#Tutor Joes\n",
    "\n",
    "tuple6 = ('T', 'u', 't', 'o', 'r', ' ', 'J', 'o', 'e', 's')\n",
    "\n",
    "join1 =''.join(tuple6)\n",
    "\n",
    "print(join1)"
   ]
  },
  {
   "cell_type": "code",
   "execution_count": 22,
   "id": "2e6abd5c",
   "metadata": {},
   "outputs": [
    {
     "name": "stdout",
     "output_type": "stream",
     "text": [
      "4th Elements From Tuple e\n",
      "4th Elements From Last Tuple u\n"
     ]
    }
   ],
   "source": [
    "##7. Write a Python program to get the 4th element and 4th element from last of a tuple\n",
    "#Sample Output\n",
    "#('w', 3, 'r', 'e', 's', 'o', 'u', 'r', 'c', 'e')\n",
    "#4th Elements From Tuple : e\n",
    "#4th Elements From Last Tuple : u\n",
    "\n",
    "tuple7 = ('w', 3, 'r', 'e', 's', 'o', 'u', 'r', 'c', 'e')\n",
    "\n",
    "fourth_element_from_first = tuple7[3]\n",
    "fourt_element_from_last = tuple7[-4]\n",
    "\n",
    "print('4th Elements From Tuple',fourth_element_from_first)\n",
    "print('4th Elements From Last Tuple',fourt_element_from_last)\n",
    "\n"
   ]
  },
  {
   "cell_type": "code",
   "execution_count": 23,
   "id": "b3ed9d0c",
   "metadata": {},
   "outputs": [
    {
     "name": "stdout",
     "output_type": "stream",
     "text": [
      "copy =  ('Tutor', 'J', 23, 56.67, [23, 12], True)\n"
     ]
    }
   ],
   "source": [
    "##8. Write a Python program to create the colon of a tuple\n",
    "#Sample Output\n",
    "#(\"Tutor\", 'J', 23 , 56.67 , [23,12] , True)\n",
    "#Copy = ('Tutor', 'J', 23, 56.67, [23, 12], True)\n",
    "\n",
    "tuple8 = (\"Tutor\", 'J', 23 , 56.67 , [23,12] , True)\n",
    "\n",
    "colon_tuple = tuple8\n",
    "\n",
    "print('copy = ', colon_tuple)\n",
    "\n"
   ]
  },
  {
   "cell_type": "code",
   "execution_count": 25,
   "id": "9ef284b7",
   "metadata": {},
   "outputs": [
    {
     "name": "stdout",
     "output_type": "stream",
     "text": [
      "item= 2\n",
      "Repeated items of a tuple = 3\n"
     ]
    }
   ],
   "source": [
    "##9. Write a Python program to find the repeated items of a tuple\n",
    "#Sample Output\n",
    "#(2, 34, 45, 6, 7, 2, 4, 5, 78, 34, 2)\n",
    "#item = 2\n",
    "#Repeated items of a tuple = 3\n",
    "\n",
    "tuple9 = (2, 34, 45, 6, 7, 2, 4, 5, 78, 34, 2)\n",
    "\n",
    "item_count = 2\n",
    "\n",
    "repeated_item = tuple9.count(item_count)\n",
    "\n",
    "print('item=',item_count)\n",
    "\n",
    "print('Repeated items of a tuple =', repeated_item)"
   ]
  },
  {
   "cell_type": "code",
   "execution_count": 26,
   "id": "4ba6e6cb",
   "metadata": {},
   "outputs": [
    {
     "name": "stdout",
     "output_type": "stream",
     "text": [
      "8 in Tuple = True\n",
      "x in Tuple = False\n"
     ]
    }
   ],
   "source": [
    "##10. Write a Python program to check whether an element exists within a tuple\n",
    "#Sample Output\n",
    "#('T', 'u', 't', 'o', 'r', ' ', 'J', 'o', 'e', 's',8)\n",
    "#8 in Tuple = True\n",
    "#'x' in Tuple = False\n",
    "\n",
    "tuple10 = ('T', 'u', 't', 'o', 'r', ' ', 'J', 'o', 'e', 's',8)\n",
    "\n",
    "exists1 = 8 in tuple10\n",
    "exist2 = 'x' in tuple10\n",
    "\n",
    "print('8 in Tuple =',exists1)\n",
    "print('x in Tuple =',exist2) \n",
    "\n",
    "\n"
   ]
  },
  {
   "cell_type": "code",
   "execution_count": 1,
   "id": "6000c1df",
   "metadata": {},
   "outputs": [
    {
     "name": "stdout",
     "output_type": "stream",
     "text": [
      "(12, 45, 87, 54, 89, 4)\n"
     ]
    }
   ],
   "source": [
    "##11. Write a Python program to convert a list to a tuple\n",
    "#Sample Output\n",
    "#[12, 45, 87, 54, 89, 4]\n",
    "#(12, 45, 87, 54, 89, 4)\n",
    "\n",
    "list11 = [12, 45, 87, 54, 89, 4]\n",
    "\n",
    "converat_list = tuple(list11) \n",
    "\n",
    "print(converat_list)"
   ]
  },
  {
   "cell_type": "code",
   "execution_count": 2,
   "id": "96daa921",
   "metadata": {},
   "outputs": [
    {
     "name": "stdout",
     "output_type": "stream",
     "text": [
      "Remove = 56\n",
      "(23, 45, 68, 10, 45, 7, 9)\n"
     ]
    }
   ],
   "source": [
    "#12. Write a Python program to remove an item from a tuple\n",
    "#Sample Output\n",
    "#(23, 45, 56, 68, 10, 45, 7, 9)\n",
    "#Remove = 56\n",
    "#(23, 45, 68, 10, 45, 7, 9)\n",
    "\n",
    "tuple12 = (23, 45, 56, 68, 10, 45, 7, 9)\n",
    "\n",
    "Remove_num = 56\n",
    "\n",
    "new_tuple = tuple(num for num in tuple12 if num != Remove_num)\n",
    "\n",
    "print('Remove =', Remove_num)\n",
    "\n",
    "print(new_tuple)\n"
   ]
  },
  {
   "cell_type": "code",
   "execution_count": 4,
   "id": "d58a900b",
   "metadata": {},
   "outputs": [
    {
     "name": "stdout",
     "output_type": "stream",
     "text": [
      "(40, 50, 60, 70, 80)\n"
     ]
    }
   ],
   "source": [
    "##13. Write a Python program to slice a tuple\n",
    "#Sample Output\n",
    "#(10, 20, 30, 40, 50, 60, 70, 80, 90, 100)\n",
    "#(40, 50, 60, 70, 80)\n",
    "\n",
    "tuple13 = (10, 20, 30, 40, 50, 60, 70, 80, 90, 100)\n",
    "\n",
    "start_tuple = 3\n",
    "end_tuple = 8\n",
    "\n",
    "slice_tuple = tuple13[start_tuple : end_tuple]\n",
    "\n",
    "print(slice_tuple)"
   ]
  },
  {
   "cell_type": "code",
   "execution_count": 8,
   "id": "2e999694",
   "metadata": {},
   "outputs": [
    {
     "name": "stdout",
     "output_type": "stream",
     "text": [
      "Item =  78\n",
      "Index Number : 3\n"
     ]
    }
   ],
   "source": [
    "##14. Write a Python program to find the index of an item of a tuple\n",
    "#Sample Output\n",
    "#(23, 45, 67, 78, 89, 90, 34, 56)\n",
    "#Item = 78\n",
    "#Index Number : 3\n",
    "\n",
    "tuple14 = (23, 45, 67, 78, 89, 90, 34, 56)\n",
    "\n",
    "find_num = 78\n",
    "\n",
    "if find_num in tuple14:\n",
    "    index_num = tuple14.index(find_num)\n",
    "    \n",
    "else:\n",
    "        index_num = None\n",
    "        \n",
    "        \n",
    "print('Item = ', find_num)\n",
    "print('Index Number :', index_num)"
   ]
  },
  {
   "cell_type": "code",
   "execution_count": 11,
   "id": "0406f30a",
   "metadata": {},
   "outputs": [
    {
     "name": "stdout",
     "output_type": "stream",
     "text": [
      "Length : 6\n"
     ]
    }
   ],
   "source": [
    "##15. Write a Python program to find the length of a tuple\n",
    "#Sample Output\n",
    "#(\"Lion\", \"Cat\", \"Dog\", \"Panda\", \"Tiger\", \"Fox\")\n",
    "#Length : 6\n",
    "\n",
    "tuple15 = (\"Lion\", \"Cat\", \"Dog\", \"Panda\", \"Tiger\", \"Fox\")\n",
    "\n",
    "length = len(tuple15)\n",
    "\n",
    "print('Length :',length)"
   ]
  },
  {
   "cell_type": "code",
   "execution_count": 13,
   "id": "934ca61b",
   "metadata": {},
   "outputs": [
    {
     "name": "stdout",
     "output_type": "stream",
     "text": [
      "{'Name': 'Ram', 'Age': 23, 'City': 'Salem', 'Mark': 422}\n"
     ]
    }
   ],
   "source": [
    "##16. Write a Python program to convert a tuple to a dictionary\n",
    "#Sample Output\n",
    "#( (\"Name\", \"Ram\"), (\"Age\", 23), (\"City\", \"Salem\"), (\"Mark\", 422) )\n",
    "#{ 'Name': 'Ram', 'Age': 23, 'City': 'Salem', 'Mark': 422 }\n",
    "\n",
    "tuple16 = ( (\"Name\", \"Ram\"), (\"Age\", 23), (\"City\", \"Salem\"), (\"Mark\", 422) )\n",
    "\n",
    "Convert = dict(tuple16)\n",
    "\n",
    "print(Convert)\n"
   ]
  },
  {
   "cell_type": "code",
   "execution_count": 14,
   "id": "d30e8f81",
   "metadata": {},
   "outputs": [
    {
     "name": "stdout",
     "output_type": "stream",
     "text": [
      "[(10, 60, 20), (30, 90, 50)]\n"
     ]
    }
   ],
   "source": [
    "##17. Write a Python program to unzip a list of tuples into individual lists\n",
    "#Sample Output\n",
    "#[ (10,30), (60,90), (20,50) ]\n",
    "#[ (10, 60, 20), (30, 90, 50) ]\n",
    "\n",
    "list1 = [ (10,30), (60,90), (20,50) ]\n",
    "\n",
    "unzip = list(zip(*list1))\n",
    "\n",
    "print(unzip)\n"
   ]
  },
  {
   "cell_type": "code",
   "execution_count": 18,
   "id": "e2ccfb7d",
   "metadata": {},
   "outputs": [
    {
     "name": "stdout",
     "output_type": "stream",
     "text": [
      "Before Reverse : (23, 45, 67, 78, 89, 90, 34, 56)\n",
      "After Reverse : (56, 34, 90, 89, 78, 67, 45, 23)\n"
     ]
    }
   ],
   "source": [
    "##18. Write a Python program to reverse a tuple\n",
    "#Sample Output\n",
    "#Before Reverse : ( 23, 45, 67, 78, 89, 90, 34, 56 )\n",
    "#After Reverse : ( 56, 34, 90, 89, 78, 67, 45, 23 )\n",
    "\n",
    "tuple18 = ( 23, 45, 67, 78, 89, 90, 34, 56 )\n",
    "\n",
    "reverse = tuple(reversed(list(tuple18)))\n",
    "\n",
    "print('Before Reverse :', tuple18)\n",
    "print('After Reverse :',reverse)"
   ]
  },
  {
   "cell_type": "code",
   "execution_count": 19,
   "id": "26ef26bc",
   "metadata": {},
   "outputs": [
    {
     "name": "stdout",
     "output_type": "stream",
     "text": [
      "{'Name': ['Ram', 'Pooja'], 'Age': [21, 23], 'Gender': ['Male', 'Female']}\n"
     ]
    }
   ],
   "source": [
    "##19. Write a Python program to convert a list of tuples into a dictionary\n",
    "#Sample Output\n",
    "#[ (\"Name\", \"Ram\"), (\"Name\", \"Pooja\"), (\"Age\", 21), (\"Gender\", \"Male\"), (\"Age\", 23), (\"Gender\", \"Female\") ]\n",
    "#{ 'Name' : ['Ram', 'Pooja'], 'Age' : [21, 23], 'Gender' : ['Male', 'Female'] }\n",
    "\n",
    "\n",
    "# Sample list of tuples\n",
    "my_list = [(\"Name\", \"Ram\"), (\"Name\", \"Pooja\"), (\"Age\", 21), (\"Gender\", \"Male\"), (\"Age\", 23), (\"Gender\", \"Female\")]\n",
    "\n",
    "# Create an empty dictionary to store the result\n",
    "result_dict = {}\n",
    "\n",
    "# Populate the dictionary\n",
    "for key, value in my_list:\n",
    "    if key in result_dict:\n",
    "        result_dict[key].append(value)\n",
    "    else:\n",
    "        result_dict[key] = [value]\n",
    "\n",
    "# Print the resulting dictionary\n",
    "print(result_dict)\n"
   ]
  },
  {
   "cell_type": "code",
   "execution_count": 20,
   "id": "3dcd4594",
   "metadata": {},
   "outputs": [
    {
     "name": "stdout",
     "output_type": "stream",
     "text": [
      "Fruits ('watermelons', 'strawberries', 'mangoes', 'bananas', 'grapefruits', 'oranges', 'apples', 'pears')\n"
     ]
    }
   ],
   "source": [
    "##20. Write a Python program to print a tuple with string formatting\n",
    "#Sample Output\n",
    "#(\"watermelons\", \"strawberries\", \"mangoes\", \"bananas\", \"grapefruits\", \"oranges\", \"apples\", \"pears\")\n",
    "#Fruits ('watermelons', 'strawberries', 'mangoes', 'bananas', 'grapefruits', 'oranges', 'apples', 'pears')\n",
    "\n",
    "# Sample tuple\n",
    "my_tuple = (\"watermelons\", \"strawberries\", \"mangoes\", \"bananas\", \"grapefruits\", \"oranges\", \"apples\", \"pears\")\n",
    "\n",
    "# Format and print the tuple\n",
    "formatted_tuple = \"Fruits \" + str(my_tuple)\n",
    "print(formatted_tuple)\n"
   ]
  },
  {
   "cell_type": "code",
   "execution_count": 21,
   "id": "efaceb2b",
   "metadata": {},
   "outputs": [
    {
     "name": "stdout",
     "output_type": "stream",
     "text": [
      "Create a tuple with Item = (23,)\n",
      "Type = <class 'tuple'>\n"
     ]
    }
   ],
   "source": [
    "###21. Create a tuple with single item 23\n",
    "#Sample Output\n",
    "#Create a tuple with Item = 23\n",
    "#Type = tuple\n",
    "\n",
    "# Create a tuple with a single item, 23\n",
    "my_tuple = (23,)\n",
    "\n",
    "# Print the tuple and its type\n",
    "print(\"Create a tuple with Item =\", my_tuple)\n",
    "print(\"Type =\", type(my_tuple))\n"
   ]
  },
  {
   "cell_type": "code",
   "execution_count": 27,
   "id": "ad954855",
   "metadata": {},
   "outputs": [
    {
     "name": "stdout",
     "output_type": "stream",
     "text": [
      "Tuple = (11, 22, 333, 44, 55)\n",
      "11\n",
      "22\n",
      "333\n",
      "44\n",
      "55\n"
     ]
    }
   ],
   "source": [
    "##22. Unpack the tuple into 5 variables\n",
    "##Sample Output\n",
    "#Tuple = (11, 22, 333, 44, 55)\n",
    "#11\n",
    "#22\n",
    "#33\n",
    "#44\n",
    "#55\n",
    "\n",
    "Tuple = (11, 22, 333, 44, 55)\n",
    "\n",
    "var1, var2, var3, var4, var5 = Tuple\n",
    "\n",
    "print('Tuple =',Tuple)\n",
    "print(var1)\n",
    "print(var2)\n",
    "print(var3)\n",
    "print(var4)\n",
    "print(var5)\n"
   ]
  },
  {
   "cell_type": "code",
   "execution_count": 28,
   "id": "75728573",
   "metadata": {},
   "outputs": [
    {
     "name": "stdout",
     "output_type": "stream",
     "text": [
      "Before Swap A: 10\n",
      "Before Swap B: 20\n",
      "After Swap A: 20\n",
      "After Swap B: 10\n"
     ]
    }
   ],
   "source": [
    "##23. Swap two tuples in Python\n",
    "#Sample Output\n",
    "#Before Swap A : 10\n",
    "#Before Swap B : 20\n",
    "#After Swap A : 20\n",
    "#After Swap B : 10\n",
    "# Sample tuples A and B\n",
    "A = (10,)\n",
    "B = (20,)\n",
    "\n",
    "# Print the original values\n",
    "print(\"Before Swap A:\", A[0])\n",
    "print(\"Before Swap B:\", B[0])\n",
    "\n",
    "# Swap the tuples\n",
    "temp = A\n",
    "A = B\n",
    "B = temp\n",
    "\n",
    "# Print the swapped values\n",
    "print(\"After Swap A:\", A[0])\n",
    "print(\"After Swap B:\", B[0])\n",
    "\n"
   ]
  },
  {
   "cell_type": "code",
   "execution_count": 29,
   "id": "b965f1bb",
   "metadata": {},
   "outputs": [
    {
     "name": "stdout",
     "output_type": "stream",
     "text": [
      "(10, 20, 30, 40, 50, 60, 70, 80, 90, 100)\n",
      "(30, 40, 50, 60, 70, 80)\n"
     ]
    }
   ],
   "source": [
    "##24. Copy specific elements from one tuple to a new tuple\n",
    "#Sample Output\n",
    "#(10, 20, 30, 40, 50, 60, 70, 80, 90, 100)\n",
    "#(30, 40, 50, 60, 70, 80)\n",
    "\n",
    "# Sample tuple\n",
    "original_tuple = (10, 20, 30, 40, 50, 60, 70, 80, 90, 100)\n",
    "\n",
    "# Copy specific elements to a new tuple\n",
    "new_tuple = original_tuple[2:8]\n",
    "\n",
    "# Print the original and new tuples\n",
    "print(original_tuple)\n",
    "print(new_tuple)\n"
   ]
  },
  {
   "cell_type": "code",
   "execution_count": 30,
   "id": "8916d20e",
   "metadata": {},
   "outputs": [
    {
     "name": "stdout",
     "output_type": "stream",
     "text": [
      "Original Tuple: (10, 20, 30, 40, 50)\n",
      "Modified Tuple: (10, 20, 33, 40, 50)\n"
     ]
    }
   ],
   "source": [
    "##25. Modify the tuple\n",
    "#Sample Output\n",
    "#( 10, 20, 30, 40, 50 )\n",
    "#( 10, 20, 33, 40, 50 )\n",
    "\n",
    "# Sample tuple\n",
    "original_tuple = (10, 20, 30, 40, 50)\n",
    "\n",
    "# Print the original tuple\n",
    "print(\"Original Tuple:\", original_tuple)\n",
    "\n",
    "# Create a new tuple with the desired change\n",
    "modified_tuple = original_tuple[:2] + (33,) + original_tuple[3:]\n",
    "\n",
    "# Print the modified tuple\n",
    "print(\"Modified Tuple:\", modified_tuple)\n"
   ]
  },
  {
   "cell_type": "code",
   "execution_count": 31,
   "id": "59d94456",
   "metadata": {},
   "outputs": [
    {
     "name": "stdout",
     "output_type": "stream",
     "text": [
      "(('a', 53), ('b', 37), ('c', 23), ('d', 1), ('e', 18))\n",
      "[('d', 1), ('e', 18), ('c', 23), ('b', 37), ('a', 53)]\n"
     ]
    }
   ],
   "source": [
    "##26. Sort a tuple of tuples by 2nd item\n",
    "#Sample Output\n",
    "#( ('a', 53), ('b', 37), ('c', 23), ('d', 1), ('e', 18) )\n",
    "#( ('d', 1), ('e', 18), ('c', 23), ('b', 37), ('a', 53) )\n",
    "\n",
    "# Sample tuple of tuples\n",
    "tuple_of_tuples = (('a', 53), ('b', 37), ('c', 23), ('d', 1), ('e', 18))\n",
    "\n",
    "# Sort the tuple by the second item in each tuple\n",
    "sorted_tuple = sorted(tuple_of_tuples, key=lambda x: x[1])\n",
    "\n",
    "# Print the original and sorted tuples\n",
    "print(tuple_of_tuples)\n",
    "print(sorted_tuple)\n"
   ]
  },
  {
   "cell_type": "code",
   "execution_count": 32,
   "id": "e38200a6",
   "metadata": {},
   "outputs": [
    {
     "name": "stdout",
     "output_type": "stream",
     "text": [
      "(30, 50, 10, 30, 70, 50, 30)\n",
      "Number of Counts 30: 3\n"
     ]
    }
   ],
   "source": [
    "##27. Counts the number of occurrences of item 30 from a tuple\n",
    "#Sample Output\n",
    "#(30, 50, 10, 30, 70, 50, 30)\n",
    "#Number of Counts 30 : 3\n",
    "\n",
    "# Sample tuple\n",
    "my_tuple = (30, 50, 10, 30, 70, 50, 30)\n",
    "\n",
    "# Count the occurrences of 30\n",
    "count_30 = my_tuple.count(30)\n",
    "\n",
    "# Print the result\n",
    "print(my_tuple)\n",
    "print(\"Number of Counts 30:\", count_30)\n"
   ]
  },
  {
   "cell_type": "code",
   "execution_count": 33,
   "id": "65edb65b",
   "metadata": {},
   "outputs": [
    {
     "name": "stdout",
     "output_type": "stream",
     "text": [
      "A = (2, 5, 8)\n",
      "B = (6, 5, 1)\n",
      "C = (1, 4, 7)\n",
      "D = (3, 7, 2)\n",
      "Sum of Elements = (12, 21, 18)\n"
     ]
    }
   ],
   "source": [
    "##28. Write a Python program to compute element-wise sum of given tuples\n",
    "#Sample Output\n",
    "#A = (2, 5, 8)\n",
    "#B = (6, 5, 1)\n",
    "#C = (1, 4, 7)\n",
    "#D = (3, 7, 2)\n",
    "#Sum of Elements = (12, 21, 18)\n",
    "\n",
    "# Sample tuples\n",
    "A = (2, 5, 8)\n",
    "B = (6, 5, 1)\n",
    "C = (1, 4, 7)\n",
    "D = (3, 7, 2)\n",
    "\n",
    "# Initialize an empty tuple to store the sum\n",
    "sum_tuple = ()\n",
    "\n",
    "# Iterate through the tuples and compute the element-wise sum\n",
    "for i in range(len(A)):\n",
    "    sum_tuple += (A[i] + B[i] + C[i] + D[i],)\n",
    "\n",
    "# Print the original tuples and the sum\n",
    "print(\"A =\", A)\n",
    "print(\"B =\", B)\n",
    "print(\"C =\", C)\n",
    "print(\"D =\", D)\n",
    "print(\"Sum of Elements =\", sum_tuple)\n"
   ]
  },
  {
   "cell_type": "code",
   "execution_count": 34,
   "id": "b3314ce0",
   "metadata": {},
   "outputs": [
    {
     "name": "stdout",
     "output_type": "stream",
     "text": [
      "(('Ram', '89.20'), ('Siva', '76.45'), ('Pooja', '84.40'), ('Tara', '68.43'), ('Jeeva', '91.40'))\n",
      "[('Jeeva', '91.40'), ('Ram', '89.20'), ('Pooja', '84.40'), ('Siva', '76.45'), ('Tara', '68.43')]\n"
     ]
    }
   ],
   "source": [
    "##29. Write a Python program to sort a tuple by its float element\n",
    "#Sample Output\n",
    "#[ ('Ram', '89.20'), ('Siva', '76.45'), ('Pooja', '84.40'), ('Tara', '68.43'), ('Jeeva', '91.40') ]\n",
    "#[ ('Jeeva', '91.40'), ('Ram', '89.20'), ('Pooja', '84.40'), ('Siva', '76.45'), ('Tara', '68.43') ]\n",
    "\n",
    "# Sample tuple of tuples with float elements\n",
    "tuple_of_tuples = (('Ram', '89.20'), ('Siva', '76.45'), ('Pooja', '84.40'), ('Tara', '68.43'), ('Jeeva', '91.40'))\n",
    "\n",
    "# Sort the tuple by its float element\n",
    "sorted_tuple = sorted(tuple_of_tuples, key=lambda x: float(x[1]), reverse=True)\n",
    "\n",
    "# Print the original and sorted tuples\n",
    "print(tuple_of_tuples)\n",
    "print(sorted_tuple)\n"
   ]
  },
  {
   "cell_type": "code",
   "execution_count": 35,
   "id": "0f2bf75e",
   "metadata": {},
   "outputs": [
    {
     "name": "stdout",
     "output_type": "stream",
     "text": [
      "[(5, 2, 3), (4, 7, 6), (8, 9, 6)]\n",
      "Replace value = 10\n",
      "[(5, 2, 10), (4, 7, 10), (8, 9, 10)]\n"
     ]
    }
   ],
   "source": [
    "##30. Write a Python program to replace last value of tuples in a list\n",
    "#Sample Output\n",
    "#[(5, 2, 3), (4, 7, 6), (8, 9, 6)]\n",
    "#Replace value = 10\n",
    "#[(5, 2, 10),(4, 7, 10),(8, 9, 10)]\n",
    "\n",
    "# Sample list of tuples\n",
    "list_of_tuples = [(5, 2, 3), (4, 7, 6), (8, 9, 6)]\n",
    "\n",
    "# Value to replace the last element with\n",
    "replace_value = 10\n",
    "\n",
    "# Replace the last value in each tuple\n",
    "modified_list = [(t[:-1] + (replace_value,)) for t in list_of_tuples]\n",
    "\n",
    "# Print the original list and the modified list\n",
    "print(list_of_tuples)\n",
    "print(\"Replace value =\", replace_value)\n",
    "print(modified_list)\n",
    "\n"
   ]
  },
  {
   "cell_type": "code",
   "execution_count": 36,
   "id": "6a810001",
   "metadata": {},
   "outputs": [
    {
     "name": "stdout",
     "output_type": "stream",
     "text": [
      "[(47, 23), (3, 78), (22, 53), (121, 45), (7,)]\n",
      "K = 2\n",
      "[(47, 23), (22, 53)]\n"
     ]
    }
   ],
   "source": [
    "#31. Write a Python program to Extract tuples having K digit elements\n",
    "#Sample Output\n",
    "#[ (47, 23), (3, 78), (22, 53), (121, 45), (7,) ]\n",
    "#K = 2\n",
    "#[ (47, 23), (22, 53) ]\n",
    "\n",
    "# Sample list of tuples\n",
    "list_of_tuples = [(47, 23), (3, 78), (22, 53), (121, 45), (7,)]\n",
    "\n",
    "# K value for the number of digits\n",
    "K = 2\n",
    "\n",
    "# Function to count the number of digits in an element\n",
    "def count_digits(num):\n",
    "    return len(str(num))\n",
    "\n",
    "# Extract tuples with K digit elements\n",
    "filtered_list = [t for t in list_of_tuples if all(count_digits(element) == K for element in t)]\n",
    "\n",
    "# Print the original list and the filtered list\n",
    "print(list_of_tuples)\n",
    "print(\"K =\", K)\n",
    "print(filtered_list)\n"
   ]
  },
  {
   "cell_type": "code",
   "execution_count": 37,
   "id": "ab1a0add",
   "metadata": {},
   "outputs": [
    {
     "name": "stdout",
     "output_type": "stream",
     "text": [
      "[(18, 23), (2, 9), (7, 6), (9, 2), (10, 2), (23, 18)]\n",
      "{(2, 9), (23, 18), (18, 23), (9, 2)}\n"
     ]
    }
   ],
   "source": [
    "##32. Write a Python program to Extract Symmetric Tuples\n",
    "#Sample Output\n",
    "#[ (18, 23), (2, 9), (7, 6), (9, 2), (10, 2), (23, 18) ]\n",
    "#{ (2, 9), (18, 23) }\n",
    "\n",
    "# Sample list of tuples\n",
    "list_of_tuples = [(18, 23), (2, 9), (7, 6), (9, 2), (10, 2), (23, 18)]\n",
    "\n",
    "# Extract symmetric tuples\n",
    "symmetric_set = set()\n",
    "for t in list_of_tuples:\n",
    "    if t[::-1] in list_of_tuples:\n",
    "        symmetric_set.add(t)\n",
    "\n",
    "# Print the original list and the set of symmetric tuples\n",
    "print(list_of_tuples)\n",
    "print(symmetric_set)\n",
    "\n",
    "\n"
   ]
  },
  {
   "cell_type": "code",
   "execution_count": 2,
   "id": "d72fc59b",
   "metadata": {},
   "outputs": [
    {
     "name": "stdout",
     "output_type": "stream",
     "text": [
      "[(1, 2), (4, 5, 5, 7), (1, 3, 7, 4), (19, 4, 5, 3)]\n"
     ]
    }
   ],
   "source": [
    "##33. Write a Python program to Sort Tuples by their Maximum element\n",
    "#Sample Output\n",
    "#[ (4, 5, 5, 7), (1, 3, 7, 4), (19, 4, 5, 3), (1, 2) ]\n",
    "#[ (19, 4, 5, 3), (4, 5, 5, 7), (1, 3, 7, 4), (1, 2) ]\n",
    "\n",
    "def get_max_element(tup):\n",
    "    return max(tup)\n",
    "\n",
    "tuple33 = [ (4, 5, 5, 7), (1, 3, 7, 4), (19, 4, 5, 3), (1, 2) ]\n",
    "\n",
    "sorted_tuples = sorted(tuple33, key=get_max_element)\n",
    "\n",
    "print(sorted_tuples)\n",
    "\n"
   ]
  },
  {
   "cell_type": "code",
   "execution_count": 3,
   "id": "2d8e8966",
   "metadata": {},
   "outputs": [
    {
     "name": "stdout",
     "output_type": "stream",
     "text": [
      "Original Tuple: (10, 20, (30,), 40, (50, 60), 70)\n",
      "Removal of Nested Tuple: (10, 20, 40, 70)\n"
     ]
    }
   ],
   "source": [
    "##34. Write a Python program to Remove nested records from tuple\n",
    "#Sample Output\n",
    "#(10, 20, (30,), 40, (50, 60), 70)\n",
    "#Removal of Nested Tuple : (10, 20, 40, 70)\n",
    "\n",
    "\n",
    "# Sample tuple with nested records\n",
    "sample_tuple = (10, 20, (30,), 40, (50, 60), 70)\n",
    "\n",
    "# Function to remove nested tuples\n",
    "def remove_nested_tuples(tup):\n",
    "    new_tuple = ()\n",
    "    for item in tup:\n",
    "        if not isinstance(item, tuple):\n",
    "            new_tuple += (item,)\n",
    "    return new_tuple\n",
    "\n",
    "# Call the function to remove nested tuples\n",
    "result_tuple = remove_nested_tuples(sample_tuple)\n",
    "\n",
    "# Print the original and modified tuples\n",
    "print(\"Original Tuple:\", sample_tuple)\n",
    "print(\"Removal of Nested Tuple:\", result_tuple)\n"
   ]
  },
  {
   "cell_type": "code",
   "execution_count": 4,
   "id": "a2c07dd9",
   "metadata": {},
   "outputs": [
    {
     "name": "stdout",
     "output_type": "stream",
     "text": [
      "Original Tuple: (10, 20, (20, 10), 30, (40, 50, 60), 60, 70)\n",
      "Elements Frequency: {10: 2, 20: 2, 30: 1, 40: 1, 50: 1, 60: 2, 70: 1}\n"
     ]
    }
   ],
   "source": [
    "##35. Write a Python program to Elements FrequeSample Output\n",
    "#(10, 20, (20, 10), 30, (40, 50, 60), 60, 70)\n",
    "#Elements Frequency : {10: 2, 20: 2, 30: 1, 40: 1, 50: 1, 60: 2, 70: 1|}cy in Mixed Nested Tuple\n",
    "#Sample Output\n",
    "#(10, 20, (20, 10), 30, (40, 50, 60), 60, 70)\n",
    "#Elements Frequency : {10: 2, 20: 2, 30: 1, 40: 1, 50: 1, 60: 2, 70: 1|}\n",
    "\n",
    "# Sample mixed nested tuple\n",
    "sample_tuple = (10, 20, (20, 10), 30, (40, 50, 60), 60, 70)\n",
    "\n",
    "# Initialize an empty dictionary to store element frequencies\n",
    "element_count = {}\n",
    "\n",
    "# Function to count element frequencies\n",
    "def count_elements_frequency(tup, element_count):\n",
    "    for item in tup:\n",
    "        if isinstance(item, tuple):\n",
    "            count_elements_frequency(item, element_count)  # Recursively handle nested tuples\n",
    "        else:\n",
    "            element_count[item] = element_count.get(item, 0) + 1\n",
    "\n",
    "# Call the function to count element frequencies\n",
    "count_elements_frequency(sample_tuple, element_count)\n",
    "\n",
    "# Print the original tuple\n",
    "print(\"Original Tuple:\", sample_tuple)\n",
    "\n",
    "# Print the element frequencies\n",
    "print(\"Elements Frequency:\", element_count)\n"
   ]
  },
  {
   "cell_type": "code",
   "execution_count": 5,
   "id": "10de154f",
   "metadata": {},
   "outputs": [
    {
     "name": "stdout",
     "output_type": "stream",
     "text": [
      "Original Nested Tuples: [(1, 3, 5), (4, 5, 7), (1, 2, 6), (10, 9), (10,)]\n",
      "Unique Elements in Nested Tuples: [1, 2, 3, 4, 5, 6, 7, 9, 10]\n"
     ]
    }
   ],
   "source": [
    "##36. Write a Python program to get unique elements in nested tuple\n",
    "#Sample Output\n",
    "#[ (1, 3, 5), (4, 5, 7), (1, 2, 6), (10, 9), (10,) ]\n",
    "#Unique Element in Nested Tuples : [1, 3, 5, 4, 7, 2, 6, 10, 9]\n",
    "\n",
    "# Sample list of nested tuples\n",
    "nested_tuples = [(1, 3, 5), (4, 5, 7), (1, 2, 6), (10, 9), (10,)]\n",
    "\n",
    "# Initialize an empty set to store unique elements\n",
    "unique_elements = set()\n",
    "\n",
    "# Function to find unique elements in nested tuples\n",
    "def find_unique_elements(tup):\n",
    "    for item in tup:\n",
    "        if isinstance(item, tuple):\n",
    "            find_unique_elements(item)  # Recursively handle nested tuples\n",
    "        else:\n",
    "            unique_elements.add(item)\n",
    "\n",
    "# Call the function to find unique elements\n",
    "for tup in nested_tuples:\n",
    "    find_unique_elements(tup)\n",
    "\n",
    "# Convert the set of unique elements back to a list\n",
    "unique_elements_list = list(unique_elements)\n",
    "\n",
    "# Print the original list of nested tuples\n",
    "print(\"Original Nested Tuples:\", nested_tuples)\n",
    "\n",
    "# Print the unique elements\n",
    "print(\"Unique Elements in Nested Tuples:\", unique_elements_list)\n"
   ]
  },
  {
   "cell_type": "code",
   "execution_count": 6,
   "id": "b8b75b07",
   "metadata": {},
   "outputs": [
    {
     "name": "stdout",
     "output_type": "stream",
     "text": [
      "Tuple 1: (18, 23, 2, 9)\n",
      "Tuple 2: (10, 3, 11)\n",
      "Tuples after Concatenating: ((18, 23, 2, 9), (10, 3, 11))\n"
     ]
    }
   ],
   "source": [
    "##37. Write a Python program to Concatenate tuples to nested tuples\n",
    "#Sample Output\n",
    "#Tuple 1 : ((18, 23, 2, 9),)\n",
    "#Tuple 2 : ((10, 3, 11),)\n",
    "#Tuples after Concatenating : ((18, 23, 2, 9), (10, 3, 11))\n",
    "\n",
    "\n",
    "# Sample tuples\n",
    "tuple1 = (18, 23, 2, 9)\n",
    "tuple2 = (10, 3, 11)\n",
    "\n",
    "# Concatenate the tuples into a nested tuple\n",
    "concatenated_tuple = (tuple1, tuple2)\n",
    "\n",
    "# Print the original tuples and the concatenated result\n",
    "print(\"Tuple 1:\", tuple1)\n",
    "print(\"Tuple 2:\", tuple2)\n",
    "print(\"Tuples after Concatenating:\", concatenated_tuple)\n"
   ]
  },
  {
   "cell_type": "code",
   "execution_count": 7,
   "id": "97c2508b",
   "metadata": {},
   "outputs": [
    {
     "name": "stdout",
     "output_type": "stream",
     "text": [
      "Original List of Tuples: [(2, 7), (3, 7), (2, 5), (8, 7), (6, 5), (9, 8)]\n",
      "Sorted List of Tuples: [(9, 8), (2, 5), (6, 5), (2, 7), (3, 7), (8, 7)]\n"
     ]
    }
   ],
   "source": [
    "#38. Write a Python program to Sort by Frequency of second element in Tuple List\n",
    "#Sample Output\n",
    "#[ (2, 7), (3, 7), (2, 5), (8, 7), (6, 5), (9, 8) ]\n",
    "#Sorted List of tuples : [ (2, 7), (3, 7), (8, 7), (2, 5), (6, 5), (9, 8) ]\n",
    "\n",
    "# Sample list of tuples\n",
    "tuple_list = [(2, 7), (3, 7), (2, 5), (8, 7), (6, 5), (9, 8)]\n",
    "\n",
    "# Create a dictionary to count the frequency of the second elements\n",
    "frequency_dict = {}\n",
    "for tup in tuple_list:\n",
    "    frequency_dict[tup[1]] = frequency_dict.get(tup[1], 0) + 1\n",
    "\n",
    "# Custom sorting key function to sort by the frequency of the second element\n",
    "def sort_by_frequency(tup):\n",
    "    return frequency_dict[tup[1]]\n",
    "\n",
    "# Sort the list of tuples using the custom key function\n",
    "sorted_list = sorted(tuple_list, key=sort_by_frequency)\n",
    "\n",
    "# Print the original list of tuples and the sorted list\n",
    "print(\"Original List of Tuples:\", tuple_list)\n",
    "print(\"Sorted List of Tuples:\", sorted_list)\n"
   ]
  },
  {
   "cell_type": "code",
   "execution_count": 8,
   "id": "4b981e08",
   "metadata": {},
   "outputs": [
    {
     "name": "stdout",
     "output_type": "stream",
     "text": [
      "Tuple before sorting lists: ([10, 50, 60], [80, 20, 30], [70, 100, 40], (90,))\n",
      "Tuple after sorting lists: ([10, 50, 60], [20, 30, 80], [40, 70, 100], [(90,)])\n"
     ]
    }
   ],
   "source": [
    "##39. Write a Python program to Sort lists in tuple\n",
    "#Sample Output\n",
    "#( [10, 50, 60], [80, 20, 30], [70, 100, 40], (90,) )\n",
    "#Tuple after sorting list : ( [10, 50, 60], [20, 30, 80], [40, 70, 100], [90] )\n",
    "\n",
    "# Sample tuple with lists\n",
    "sample_tuple = ([10, 50, 60], [80, 20, 30], [70, 100, 40], (90,))\n",
    "\n",
    "# Sort the lists within the tuple\n",
    "sorted_tuple = tuple([sorted(lst) if isinstance(lst, list) else [lst] for lst in sample_tuple])\n",
    "\n",
    "# Print the original tuple and the sorted tuple\n",
    "print(\"Tuple before sorting lists:\", sample_tuple)\n",
    "print(\"Tuple after sorting lists:\", sorted_tuple)\n"
   ]
  },
  {
   "cell_type": "code",
   "execution_count": 9,
   "id": "735f1dfc",
   "metadata": {},
   "outputs": [
    {
     "name": "stdout",
     "output_type": "stream",
     "text": [
      "Original Tuple List: [('B', 68), ('D', 70), ('A', 67), ('C', 69)]\n",
      "Ordered Tuple List: [('A', 67), ('B', 68), ('C', 69), ('D', 70)]\n"
     ]
    }
   ],
   "source": [
    "##40. Write a Python program to Order Tuples using external List\n",
    "#Sample Output\n",
    "#[ ('B', 68), ('D', 70), ('A', 67), ('C', 69) ]\n",
    "#Ordered Tuple List : [ ('A', 67), ('B', 68), ('C', 69), ('D', 70) ]\n",
    "\n",
    "# Sample list of tuples\n",
    "tuple_list = [('B', 68), ('D', 70), ('A', 67), ('C', 69)]\n",
    "\n",
    "# External list to specify the order\n",
    "order_list = ['A', 'B', 'C', 'D']\n",
    "\n",
    "# Sort the tuple list based on the order list\n",
    "ordered_tuple_list = sorted(tuple_list, key=lambda x: order_list.index(x[0]))\n",
    "\n",
    "# Print the original tuple list and the ordered tuple list\n",
    "print(\"Original Tuple List:\", tuple_list)\n",
    "print(\"Ordered Tuple List:\", ordered_tuple_list)\n"
   ]
  },
  {
   "cell_type": "code",
   "execution_count": 15,
   "id": "729b64a7",
   "metadata": {},
   "outputs": [
    {
     "ename": "TypeError",
     "evalue": "'tuple' object is not callable",
     "output_type": "error",
     "traceback": [
      "\u001b[1;31m---------------------------------------------------------------------------\u001b[0m",
      "\u001b[1;31mTypeError\u001b[0m                                 Traceback (most recent call last)",
      "Cell \u001b[1;32mIn[15], line 20\u001b[0m\n\u001b[0;32m     17\u001b[0m intersection \u001b[38;5;241m=\u001b[39m set1 \u001b[38;5;241m&\u001b[39m set2\n\u001b[0;32m     19\u001b[0m \u001b[38;5;66;03m# Convert the intersection set back to a list of tuples\u001b[39;00m\n\u001b[1;32m---> 20\u001b[0m intersection_list \u001b[38;5;241m=\u001b[39m [\u001b[38;5;28mtuple\u001b[39m(item) \u001b[38;5;28;01mfor\u001b[39;00m item \u001b[38;5;129;01min\u001b[39;00m intersection]\n\u001b[0;32m     22\u001b[0m \u001b[38;5;66;03m# Print the original lists and the intersection\u001b[39;00m\n\u001b[0;32m     23\u001b[0m \u001b[38;5;28mprint\u001b[39m(\u001b[38;5;124m\"\u001b[39m\u001b[38;5;124mList 1:\u001b[39m\u001b[38;5;124m\"\u001b[39m, list1)\n",
      "Cell \u001b[1;32mIn[15], line 20\u001b[0m, in \u001b[0;36m<listcomp>\u001b[1;34m(.0)\u001b[0m\n\u001b[0;32m     17\u001b[0m intersection \u001b[38;5;241m=\u001b[39m set1 \u001b[38;5;241m&\u001b[39m set2\n\u001b[0;32m     19\u001b[0m \u001b[38;5;66;03m# Convert the intersection set back to a list of tuples\u001b[39;00m\n\u001b[1;32m---> 20\u001b[0m intersection_list \u001b[38;5;241m=\u001b[39m [\u001b[38;5;28mtuple\u001b[39m(item) \u001b[38;5;28;01mfor\u001b[39;00m item \u001b[38;5;129;01min\u001b[39;00m intersection]\n\u001b[0;32m     22\u001b[0m \u001b[38;5;66;03m# Print the original lists and the intersection\u001b[39;00m\n\u001b[0;32m     23\u001b[0m \u001b[38;5;28mprint\u001b[39m(\u001b[38;5;124m\"\u001b[39m\u001b[38;5;124mList 1:\u001b[39m\u001b[38;5;124m\"\u001b[39m, list1)\n",
      "\u001b[1;31mTypeError\u001b[0m: 'tuple' object is not callable"
     ]
    }
   ],
   "source": [
    "##41. Write a Python program to Filter Tuples by Kth element from List\n",
    "#Sample Output\n",
    "#[ ('B', 68), ('D', 70), ('A', 67), ('C', 69) ]\n",
    "#List of kth elements to filter = [67 , 70 , 71, 75]\n",
    "#Kth element index = 1\n",
    "#Filtered tuples : [('D', 70), ('A', 67)]\n",
    "\n",
    "# Sample lists of tuples\n",
    "list1 = [(3, 4), (5, 6), (9, 10), (4, 5)]\n",
    "list2 = [(5, 4), (3, 4), (6, 5), (9, 11)]\n",
    "\n",
    "# Convert the lists of tuples to sets of frozensets for order-irrespective comparison\n",
    "set1 = {frozenset(item) for item in list1}\n",
    "set2 = {frozenset(item) for item in list2}\n",
    "\n",
    "# Find the intersection of the sets\n",
    "intersection = set1 & set2\n",
    "\n",
    "# Convert the intersection set back to a list of tuples\n",
    "intersection_list = [tuple(item) for item in intersection]\n",
    "\n",
    "# Print the original lists and the intersection\n",
    "print(\"List 1:\", list1)\n",
    "print(\"List 2:\", list2)\n",
    "print(\"Intersection:\", intersection_list)\n"
   ]
  },
  {
   "cell_type": "code",
   "execution_count": 11,
   "id": "4aec8471",
   "metadata": {},
   "outputs": [
    {
     "name": "stdout",
     "output_type": "stream",
     "text": [
      "Original List of Tuples: [(23, 18), (9, 2), (2, 3), (9, 18), (23, 2)]\n",
      "Given Tuple = (20, 2)\n",
      "Kth Element Index = 1\n",
      "Nearest Tuple: (23, 2)\n"
     ]
    }
   ],
   "source": [
    "#42. Write a Python program to Closest Pair to Kth index element in Tuple\n",
    "#Sample Output\n",
    "#[ (23, 18), (9, 2), (2, 3), (9, 18), (23, 2) ]\n",
    "#Given Tuple = (20, 2)\n",
    "#Kth Element Index = 1\n",
    "#Nearest Tuple : (23, 18)\n",
    "\n",
    "import math\n",
    "\n",
    "# Sample list of tuples\n",
    "tuple_list = [(23, 18), (9, 2), (2, 3), (9, 18), (23, 2)]\n",
    "\n",
    "# Given target tuple\n",
    "given_tuple = (20, 2)\n",
    "\n",
    "# Kth element index\n",
    "kth_element_index = 1  # 0-based index, so 1 corresponds to the second element\n",
    "\n",
    "# Function to calculate the distance between two tuples\n",
    "def calculate_distance(tuple1, tuple2):\n",
    "    x1, y1 = tuple1\n",
    "    x2, y2 = tuple2\n",
    "    return math.sqrt((x1 - x2) ** 2 + (y1 - y2) ** 2)\n",
    "\n",
    "# Initialize variables to keep track of the closest pair and distance\n",
    "nearest_pair = None\n",
    "nearest_distance = float('inf')\n",
    "\n",
    "# Iterate through the list of tuples and find the nearest pair\n",
    "for tuple in tuple_list:\n",
    "    distance = calculate_distance(given_tuple, tuple)\n",
    "    if distance < nearest_distance:\n",
    "        nearest_distance = distance\n",
    "        nearest_pair = tuple\n",
    "\n",
    "# Print the original list of tuples, the given tuple, kth element index, and the nearest tuple\n",
    "print(\"Original List of Tuples:\", tuple_list)\n",
    "print(\"Given Tuple =\", given_tuple)\n",
    "print(\"Kth Element Index =\", kth_element_index)\n",
    "print(\"Nearest Tuple:\", nearest_pair)\n"
   ]
  },
  {
   "cell_type": "code",
   "execution_count": 14,
   "id": "a6dcf36c",
   "metadata": {
    "collapsed": true
   },
   "outputs": [
    {
     "ename": "TypeError",
     "evalue": "'tuple' object is not callable",
     "output_type": "error",
     "traceback": [
      "\u001b[1;31m---------------------------------------------------------------------------\u001b[0m",
      "\u001b[1;31mTypeError\u001b[0m                                 Traceback (most recent call last)",
      "Cell \u001b[1;32mIn[14], line 19\u001b[0m\n\u001b[0;32m     16\u001b[0m intersection \u001b[38;5;241m=\u001b[39m set1 \u001b[38;5;241m&\u001b[39m set2\n\u001b[0;32m     18\u001b[0m \u001b[38;5;66;03m# Convert the intersection set back to a list of tuples\u001b[39;00m\n\u001b[1;32m---> 19\u001b[0m intersection_list \u001b[38;5;241m=\u001b[39m [\u001b[38;5;28mtuple\u001b[39m(item) \u001b[38;5;28;01mfor\u001b[39;00m item \u001b[38;5;129;01min\u001b[39;00m intersection]\n\u001b[0;32m     21\u001b[0m \u001b[38;5;66;03m# Print the original lists and the intersection\u001b[39;00m\n\u001b[0;32m     22\u001b[0m \u001b[38;5;28mprint\u001b[39m(\u001b[38;5;124m\"\u001b[39m\u001b[38;5;124mList 1:\u001b[39m\u001b[38;5;124m\"\u001b[39m, list1)\n",
      "Cell \u001b[1;32mIn[14], line 19\u001b[0m, in \u001b[0;36m<listcomp>\u001b[1;34m(.0)\u001b[0m\n\u001b[0;32m     16\u001b[0m intersection \u001b[38;5;241m=\u001b[39m set1 \u001b[38;5;241m&\u001b[39m set2\n\u001b[0;32m     18\u001b[0m \u001b[38;5;66;03m# Convert the intersection set back to a list of tuples\u001b[39;00m\n\u001b[1;32m---> 19\u001b[0m intersection_list \u001b[38;5;241m=\u001b[39m [\u001b[38;5;28mtuple\u001b[39m(item) \u001b[38;5;28;01mfor\u001b[39;00m item \u001b[38;5;129;01min\u001b[39;00m intersection]\n\u001b[0;32m     21\u001b[0m \u001b[38;5;66;03m# Print the original lists and the intersection\u001b[39;00m\n\u001b[0;32m     22\u001b[0m \u001b[38;5;28mprint\u001b[39m(\u001b[38;5;124m\"\u001b[39m\u001b[38;5;124mList 1:\u001b[39m\u001b[38;5;124m\"\u001b[39m, list1)\n",
      "\u001b[1;31mTypeError\u001b[0m: 'tuple' object is not callable"
     ]
    }
   ],
   "source": [
    "##43. Write a Python program to Tuple List intersection (Order irrespective)\n",
    "#Sample Output\n",
    "#List 1 : [ (3, 4), (5, 6), (9, 10), (4, 5) ]\n",
    "#List 2 : [ (5, 4), (3, 4), (6, 5), (9, 11) ]\n",
    "#Intersection : { (4, 5), (5, 6), (3, 4) }\n",
    "  \n",
    "# Sample lists of tuples\n",
    "list1 = [(3, 4), (5, 6), (9, 10), (4, 5)]\n",
    "list2 = [(5, 4), (3, 4), (6, 5), (9, 11)]\n",
    "\n",
    "# Convert the lists of tuples to sets of frozensets for order-irrespective comparison\n",
    "set1 = {frozenset(item) for item in list1}\n",
    "set2 = {frozenset(item) for item in list2}\n",
    "\n",
    "# Find the intersection of the sets\n",
    "intersection = set1 & set2\n",
    "\n",
    "# Convert the intersection set back to a list of tuples\n",
    "intersection_list = [tuple(item) for item in intersection]\n",
    "\n",
    "# Print the original lists and the intersection\n",
    "print(\"List 1:\", list1)\n",
    "print(\"List 2:\", list2)\n",
    "print(\"Intersection:\", intersection_list)\n",
    "    "
   ]
  },
  {
   "cell_type": "code",
   "execution_count": 1,
   "id": "e5721094",
   "metadata": {},
   "outputs": [
    {
     "name": "stdout",
     "output_type": "stream",
     "text": [
      "list 1: [('A', 65), ('D', 68), ('B', 66)]\n",
      "list 2: [('D', 68), ('C', 67), ('A', 65)]\n",
      "Intersection of data records: [('A', 65), ('D', 68)]\n"
     ]
    }
   ],
   "source": [
    "##44. Write a Python program to Intersection in Tuple Records Data\n",
    "#Sample Output\n",
    "#list 1 : [ ('A', 65), ('D', 68), ('B', 66) ]\n",
    "#list 2 : [ ('D', 68), ('C', 67), ('A', 65) ]\n",
    "#Intersection of data records : [ ('A', 65), ('D', 68) ]\n",
    "\n",
    "# Sample lists of tuples\n",
    "list1 = [('A', 65), ('D', 68), ('B', 66)]\n",
    "list2 = [('D', 68), ('C', 67), ('A', 65)]\n",
    "\n",
    "# Find the intersection of data records\n",
    "intersection = [item for item in list1 if item in list2]\n",
    "\n",
    "# Print the original lists and the intersection\n",
    "print(\"list 1:\", list1)\n",
    "print(\"list 2:\", list2)\n",
    "print(\"Intersection of data records:\", intersection)\n"
   ]
  },
  {
   "cell_type": "code",
   "execution_count": 2,
   "id": "55a72fdf",
   "metadata": {},
   "outputs": [
    {
     "name": "stdout",
     "output_type": "stream",
     "text": [
      "Original list: [(3, 4), (1, 2), (4, 3), (5, 6)]\n",
      "Unique tuples Frequency: []\n",
      "Unique tuples Frequency Count: 0\n"
     ]
    }
   ],
   "source": [
    "##45. Write a Python program to Unique Tuple Frequency (Order Irrespective)\n",
    "#Sample Output\n",
    "#[ (3, 4), (1, 2), (4, 3), (5, 6) ]\n",
    "#Unique tuples Frequency : [(1, 2), (3, 4), (5, 6)]\n",
    "#Unique tuples Frequency Count : 3\n",
    "\n",
    "# Sample list of tuples\n",
    "list_of_tuples = [(3, 4), (1, 2), (4, 3), (5, 6)]\n",
    "\n",
    "# Create a set of sorted tuples to identify unique tuples\n",
    "unique_tuples = {tuple(sorted(t)) for t in list_of_tuples}\n",
    "\n",
    "# Count the frequency of each unique tuple\n",
    "frequency_count = {ut: list_of_tuples.count(ut) for ut in unique_tuples}\n",
    "\n",
    "# Filter out unique tuples with frequency count greater than 1\n",
    "unique_tuples_frequency = [ut for ut in frequency_count if frequency_count[ut] > 1]\n",
    "\n",
    "# Print the original list, unique tuples with frequency count, and their count\n",
    "print(\"Original list:\", list_of_tuples)\n",
    "print(\"Unique tuples Frequency:\", unique_tuples_frequency)\n",
    "print(\"Unique tuples Frequency Count:\", len(unique_tuples_frequency))\n"
   ]
  },
  {
   "cell_type": "code",
   "execution_count": 4,
   "id": "552e6d6b",
   "metadata": {},
   "outputs": [
    {
     "name": "stdout",
     "output_type": "stream",
     "text": [
      "(1, (2, (3, (4, (5, None)))))\n",
      "Summation of 1st positions: 15\n"
     ]
    }
   ],
   "source": [
    "##46. Write a Python program to Skew Nested Tuple Summation\n",
    "#Sample Output\n",
    "#(1, (2, (3, (4, (5, None)))))\n",
    "#Summation of 1st positions : 15\n",
    "\n",
    "def skew_nested_tuple_sum(tup):\n",
    "    if tup is None:\n",
    "        return 0\n",
    "    elif isinstance(tup, tuple):\n",
    "        return tup[0] + skew_nested_tuple_sum(tup[1])\n",
    "    else:\n",
    "        return tup\n",
    "\n",
    "# Sample nested tuple\n",
    "nested_tuple = (1, (2, (3, (4, (5, None)))))\n",
    "\n",
    "# Calculate the summation of 1st positions\n",
    "result = skew_nested_tuple_sum(nested_tuple)\n",
    "\n",
    "# Print the original nested tuple and the summation\n",
    "print(nested_tuple)\n",
    "print(\"Summation of 1st positions:\", result)\n"
   ]
  },
  {
   "cell_type": "code",
   "execution_count": 5,
   "id": "d9fd9619",
   "metadata": {},
   "outputs": [
    {
     "name": "stdout",
     "output_type": "stream",
     "text": [
      "(1, 0, 1, 0)\n",
      "Decimal number is: 10\n"
     ]
    }
   ],
   "source": [
    "##47. Write a Python program to Convert Binary tuple to Integer\n",
    "#Sample Output\n",
    "#(1, 0, 1, 0)\n",
    "#Decimal number is : 10\n",
    "\n",
    "# Sample binary tuple\n",
    "binary_tuple = (1, 0, 1, 0)\n",
    "\n",
    "# Convert the binary tuple to an integer\n",
    "decimal_number = int(''.join(map(str, binary_tuple)), 2)\n",
    "\n",
    "# Print the binary tuple and the corresponding decimal number\n",
    "print(binary_tuple)\n",
    "print(\"Decimal number is:\", decimal_number)\n"
   ]
  },
  {
   "cell_type": "code",
   "execution_count": 6,
   "id": "7890839a",
   "metadata": {},
   "outputs": [
    {
     "name": "stdout",
     "output_type": "stream",
     "text": [
      "Tuple 1: (10, 4, 6, 9)\n",
      "Tuple 2: (5, 2, 3, 3)\n",
      "XOR tuple: (15, 6, 5, 10)\n"
     ]
    }
   ],
   "source": [
    "##48. Write a Python program to Tuple XOR operation\n",
    "#Sample Output\n",
    "#Tuple 1 : (10, 4, 6, 9)\n",
    "#Tuple 2 : (5, 2, 3, 3)\n",
    "#XOR tuple : (15, 6, 5, 10)\n",
    "\n",
    "# Sample tuples\n",
    "tuple1 = (10, 4, 6, 9)\n",
    "tuple2 = (5, 2, 3, 3)\n",
    "\n",
    "# Perform XOR operation on corresponding elements of the tuples\n",
    "xor_tuple = tuple(x ^ y for x, y in zip(tuple1, tuple2))\n",
    "\n",
    "# Print the original tuples and the result of the XOR operation\n",
    "print(\"Tuple 1:\", tuple1)\n",
    "print(\"Tuple 2:\", tuple2)\n",
    "print(\"XOR tuple:\", xor_tuple)\n",
    "\n"
   ]
  },
  {
   "cell_type": "code",
   "execution_count": 7,
   "id": "5a07e8f7",
   "metadata": {},
   "outputs": [
    {
     "name": "stdout",
     "output_type": "stream",
     "text": [
      "Tuple 1: (10, 4, 6, 9)\n",
      "Tuple 2: (5, 2, 3, 3)\n",
      "AND operation Between Tuple: (0, 0, 2, 1)\n"
     ]
    }
   ],
   "source": [
    "##49. Write a Python program to AND operation between Tuples\n",
    "#Sample Output\n",
    "#Tuple 1 : (10, 4, 6, 9)\n",
    "#Tuple 2 : (5, 2, 3, 3)\n",
    "#AND operation Between Tuple : (0, 0, 2, 1)\n",
    "\n",
    "# Sample tuples\n",
    "tuple1 = (10, 4, 6, 9)\n",
    "tuple2 = (5, 2, 3, 3)\n",
    "\n",
    "# Perform AND operation on corresponding elements of the tuples\n",
    "and_tuple = tuple(x & y for x, y in zip(tuple1, tuple2))\n",
    "\n",
    "# Print the original tuples and the result of the AND operation\n",
    "print(\"Tuple 1:\", tuple1)\n",
    "print(\"Tuple 2:\", tuple2)\n",
    "print(\"AND operation Between Tuple:\", and_tuple)"
   ]
  },
  {
   "cell_type": "code",
   "execution_count": 8,
   "id": "f48cd79e",
   "metadata": {},
   "outputs": [
    {
     "name": "stdout",
     "output_type": "stream",
     "text": [
      "Tuple 1: (10, 4, 6, 9)\n",
      "Tuple 2: (5, 2, 3, 3)\n",
      "Elementwise AND Tuple: (0, 0, 2, 1)\n"
     ]
    }
   ],
   "source": [
    "##50. Write a Python program to Elementwise AND in tuples\n",
    "#Sample Output\n",
    "##Tuple 1 : (10, 4, 6, 9)\n",
    "#Tuple 2 : (5, 2, 3, 3)\n",
    "#Elementwise AND Tuple : (0, 0, 2, 10)\n",
    "\n",
    "# Sample tuples\n",
    "tuple1 = (10, 4, 6, 9)\n",
    "tuple2 = (5, 2, 3, 3)\n",
    "\n",
    "# Perform elementwise AND operation on corresponding elements of the tuples\n",
    "and_tuple = tuple(x & y for x, y in zip(tuple1, tuple2))\n",
    "\n",
    "# Print the original tuples and the result of the elementwise AND operation\n",
    "print(\"Tuple 1:\", tuple1)\n",
    "print(\"Tuple 2:\", tuple2)\n",
    "print(\"Elementwise AND Tuple:\", and_tuple)\n",
    "\n",
    "    \n",
    "    "
   ]
  },
  {
   "cell_type": "code",
   "execution_count": null,
   "id": "496ba7d6",
   "metadata": {},
   "outputs": [],
   "source": []
  }
 ],
 "metadata": {
  "kernelspec": {
   "display_name": "Python 3 (ipykernel)",
   "language": "python",
   "name": "python3"
  },
  "language_info": {
   "codemirror_mode": {
    "name": "ipython",
    "version": 3
   },
   "file_extension": ".py",
   "mimetype": "text/x-python",
   "name": "python",
   "nbconvert_exporter": "python",
   "pygments_lexer": "ipython3",
   "version": "3.11.4"
  }
 },
 "nbformat": 4,
 "nbformat_minor": 5
}
