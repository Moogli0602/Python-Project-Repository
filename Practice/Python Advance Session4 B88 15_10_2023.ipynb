{
 "cells": [
  {
   "cell_type": "code",
   "execution_count": 47,
   "id": "3fc7b860",
   "metadata": {},
   "outputs": [],
   "source": [
    "#### Missing Value in the Datasets ---\n",
    "import pandas as pd\n",
    "import numpy as np  #### "
   ]
  },
  {
   "cell_type": "code",
   "execution_count": 48,
   "id": "65463e9a",
   "metadata": {},
   "outputs": [
    {
     "name": "stdout",
     "output_type": "stream",
     "text": [
      "   AGE  GENDER DOMAIN  PhD YEARSEXP  UNIVERSITY UOC_POSITION OTHER_POSITION   \n",
      "0   40       0      2    1       14           1            2              ?  \\\n",
      "1   42       0      5    1       18           1            2              ?   \n",
      "\n",
      "  OTHERSTATUS USERWIKI  ... BI2 Inc1 Inc2 Inc3 Inc4 Exp1 Exp2 Exp3 Exp4 Exp5  \n",
      "0           ?        0  ...   3    5    5    5    5    4    4    4    1    2  \n",
      "1           ?        0  ...   2    4    4    3    4    2    2    4    2    4  \n",
      "\n",
      "[2 rows x 53 columns]\n"
     ]
    }
   ],
   "source": [
    "##### Reading the data  \n",
    "df = pd.read_csv(\"E:/Missing_Data.csv\",sep = ';')  ##### seperated by semi-colon\n",
    "print(df.head(2))"
   ]
  },
  {
   "cell_type": "code",
   "execution_count": 49,
   "id": "d8314a55",
   "metadata": {},
   "outputs": [],
   "source": [
    "##### Copy of the Dataframe - \n",
    "data = df.copy()"
   ]
  },
  {
   "cell_type": "code",
   "execution_count": 5,
   "id": "0aa823a6",
   "metadata": {
    "collapsed": true
   },
   "outputs": [
    {
     "name": "stdout",
     "output_type": "stream",
     "text": [
      "(913, 53)\n",
      "<class 'pandas.core.frame.DataFrame'>\n",
      "RangeIndex: 913 entries, 0 to 912\n",
      "Data columns (total 53 columns):\n",
      " #   Column          Non-Null Count  Dtype \n",
      "---  ------          --------------  ----- \n",
      " 0   AGE             913 non-null    int64 \n",
      " 1   GENDER          913 non-null    int64 \n",
      " 2   DOMAIN          913 non-null    object\n",
      " 3   PhD             913 non-null    int64 \n",
      " 4   YEARSEXP        913 non-null    object\n",
      " 5   UNIVERSITY      913 non-null    int64 \n",
      " 6   UOC_POSITION    913 non-null    object\n",
      " 7   OTHER_POSITION  913 non-null    object\n",
      " 8   OTHERSTATUS     913 non-null    object\n",
      " 9   USERWIKI        913 non-null    object\n",
      " 10  PU1             913 non-null    object\n",
      " 11  PU2             913 non-null    object\n",
      " 12  PU3             913 non-null    object\n",
      " 13  PEU1            913 non-null    object\n",
      " 14  PEU2            913 non-null    object\n",
      " 15  PEU3            913 non-null    object\n",
      " 16  ENJ1            913 non-null    object\n",
      " 17  ENJ2            913 non-null    object\n",
      " 18  Qu1             913 non-null    object\n",
      " 19  Qu2             913 non-null    object\n",
      " 20  Qu3             913 non-null    object\n",
      " 21  Qu4             913 non-null    object\n",
      " 22  Qu5             913 non-null    object\n",
      " 23  Vis1            913 non-null    object\n",
      " 24  Vis2            913 non-null    object\n",
      " 25  Vis3            913 non-null    object\n",
      " 26  Im1             913 non-null    object\n",
      " 27  Im2             913 non-null    object\n",
      " 28  Im3             913 non-null    object\n",
      " 29  SA1             913 non-null    object\n",
      " 30  SA2             913 non-null    object\n",
      " 31  SA3             913 non-null    object\n",
      " 32  Use1            913 non-null    object\n",
      " 33  Use2            913 non-null    object\n",
      " 34  Use3            913 non-null    object\n",
      " 35  Use4            913 non-null    object\n",
      " 36  Use5            913 non-null    object\n",
      " 37  Pf1             913 non-null    object\n",
      " 38  Pf2             913 non-null    object\n",
      " 39  Pf3             913 non-null    object\n",
      " 40  JR1             913 non-null    object\n",
      " 41  JR2             913 non-null    object\n",
      " 42  BI1             913 non-null    object\n",
      " 43  BI2             913 non-null    object\n",
      " 44  Inc1            913 non-null    object\n",
      " 45  Inc2            913 non-null    object\n",
      " 46  Inc3            913 non-null    object\n",
      " 47  Inc4            913 non-null    object\n",
      " 48  Exp1            913 non-null    object\n",
      " 49  Exp2            913 non-null    object\n",
      " 50  Exp3            913 non-null    object\n",
      " 51  Exp4            913 non-null    object\n",
      " 52  Exp5            913 non-null    object\n",
      "dtypes: int64(4), object(49)\n",
      "memory usage: 378.2+ KB\n",
      "None\n"
     ]
    }
   ],
   "source": [
    "##### Data Validations - \n",
    "print(df.shape)\n",
    "print(df.info())"
   ]
  },
  {
   "cell_type": "code",
   "execution_count": 50,
   "id": "e8d6aa09",
   "metadata": {},
   "outputs": [],
   "source": [
    "#### Filtering the ?   #### We replaced the ?  to Nan Value\n",
    "df[df== '?'] = np.nan"
   ]
  },
  {
   "cell_type": "code",
   "execution_count": 51,
   "id": "ff4290f0",
   "metadata": {
    "scrolled": true
   },
   "outputs": [
    {
     "data": {
      "text/html": [
       "<div>\n",
       "<style scoped>\n",
       "    .dataframe tbody tr th:only-of-type {\n",
       "        vertical-align: middle;\n",
       "    }\n",
       "\n",
       "    .dataframe tbody tr th {\n",
       "        vertical-align: top;\n",
       "    }\n",
       "\n",
       "    .dataframe thead th {\n",
       "        text-align: right;\n",
       "    }\n",
       "</style>\n",
       "<table border=\"1\" class=\"dataframe\">\n",
       "  <thead>\n",
       "    <tr style=\"text-align: right;\">\n",
       "      <th></th>\n",
       "      <th>AGE</th>\n",
       "      <th>GENDER</th>\n",
       "      <th>DOMAIN</th>\n",
       "      <th>PhD</th>\n",
       "      <th>YEARSEXP</th>\n",
       "      <th>UNIVERSITY</th>\n",
       "      <th>UOC_POSITION</th>\n",
       "      <th>OTHER_POSITION</th>\n",
       "      <th>OTHERSTATUS</th>\n",
       "      <th>USERWIKI</th>\n",
       "      <th>...</th>\n",
       "      <th>BI2</th>\n",
       "      <th>Inc1</th>\n",
       "      <th>Inc2</th>\n",
       "      <th>Inc3</th>\n",
       "      <th>Inc4</th>\n",
       "      <th>Exp1</th>\n",
       "      <th>Exp2</th>\n",
       "      <th>Exp3</th>\n",
       "      <th>Exp4</th>\n",
       "      <th>Exp5</th>\n",
       "    </tr>\n",
       "  </thead>\n",
       "  <tbody>\n",
       "    <tr>\n",
       "      <th>0</th>\n",
       "      <td>40</td>\n",
       "      <td>0</td>\n",
       "      <td>2</td>\n",
       "      <td>1</td>\n",
       "      <td>14</td>\n",
       "      <td>1</td>\n",
       "      <td>2</td>\n",
       "      <td>NaN</td>\n",
       "      <td>NaN</td>\n",
       "      <td>0</td>\n",
       "      <td>...</td>\n",
       "      <td>3</td>\n",
       "      <td>5</td>\n",
       "      <td>5</td>\n",
       "      <td>5</td>\n",
       "      <td>5</td>\n",
       "      <td>4</td>\n",
       "      <td>4</td>\n",
       "      <td>4</td>\n",
       "      <td>1</td>\n",
       "      <td>2</td>\n",
       "    </tr>\n",
       "    <tr>\n",
       "      <th>1</th>\n",
       "      <td>42</td>\n",
       "      <td>0</td>\n",
       "      <td>5</td>\n",
       "      <td>1</td>\n",
       "      <td>18</td>\n",
       "      <td>1</td>\n",
       "      <td>2</td>\n",
       "      <td>NaN</td>\n",
       "      <td>NaN</td>\n",
       "      <td>0</td>\n",
       "      <td>...</td>\n",
       "      <td>2</td>\n",
       "      <td>4</td>\n",
       "      <td>4</td>\n",
       "      <td>3</td>\n",
       "      <td>4</td>\n",
       "      <td>2</td>\n",
       "      <td>2</td>\n",
       "      <td>4</td>\n",
       "      <td>2</td>\n",
       "      <td>4</td>\n",
       "    </tr>\n",
       "    <tr>\n",
       "      <th>2</th>\n",
       "      <td>37</td>\n",
       "      <td>0</td>\n",
       "      <td>4</td>\n",
       "      <td>1</td>\n",
       "      <td>13</td>\n",
       "      <td>1</td>\n",
       "      <td>3</td>\n",
       "      <td>NaN</td>\n",
       "      <td>NaN</td>\n",
       "      <td>0</td>\n",
       "      <td>...</td>\n",
       "      <td>1</td>\n",
       "      <td>5</td>\n",
       "      <td>3</td>\n",
       "      <td>5</td>\n",
       "      <td>5</td>\n",
       "      <td>2</td>\n",
       "      <td>2</td>\n",
       "      <td>2</td>\n",
       "      <td>1</td>\n",
       "      <td>3</td>\n",
       "    </tr>\n",
       "    <tr>\n",
       "      <th>3</th>\n",
       "      <td>40</td>\n",
       "      <td>0</td>\n",
       "      <td>4</td>\n",
       "      <td>0</td>\n",
       "      <td>13</td>\n",
       "      <td>1</td>\n",
       "      <td>3</td>\n",
       "      <td>NaN</td>\n",
       "      <td>NaN</td>\n",
       "      <td>0</td>\n",
       "      <td>...</td>\n",
       "      <td>3</td>\n",
       "      <td>3</td>\n",
       "      <td>4</td>\n",
       "      <td>4</td>\n",
       "      <td>3</td>\n",
       "      <td>4</td>\n",
       "      <td>4</td>\n",
       "      <td>3</td>\n",
       "      <td>3</td>\n",
       "      <td>4</td>\n",
       "    </tr>\n",
       "  </tbody>\n",
       "</table>\n",
       "<p>4 rows × 53 columns</p>\n",
       "</div>"
      ],
      "text/plain": [
       "   AGE  GENDER DOMAIN  PhD YEARSEXP  UNIVERSITY UOC_POSITION OTHER_POSITION   \n",
       "0   40       0      2    1       14           1            2            NaN  \\\n",
       "1   42       0      5    1       18           1            2            NaN   \n",
       "2   37       0      4    1       13           1            3            NaN   \n",
       "3   40       0      4    0       13           1            3            NaN   \n",
       "\n",
       "  OTHERSTATUS USERWIKI  ... BI2 Inc1 Inc2 Inc3 Inc4 Exp1 Exp2 Exp3 Exp4 Exp5  \n",
       "0         NaN        0  ...   3    5    5    5    5    4    4    4    1    2  \n",
       "1         NaN        0  ...   2    4    4    3    4    2    2    4    2    4  \n",
       "2         NaN        0  ...   1    5    3    5    5    2    2    2    1    3  \n",
       "3         NaN        0  ...   3    3    4    4    3    4    4    3    3    4  \n",
       "\n",
       "[4 rows x 53 columns]"
      ]
     },
     "execution_count": 51,
     "metadata": {},
     "output_type": "execute_result"
    }
   ],
   "source": [
    "df.head(4)"
   ]
  },
  {
   "cell_type": "code",
   "execution_count": 52,
   "id": "e385e606",
   "metadata": {
    "collapsed": true
   },
   "outputs": [
    {
     "name": "stdout",
     "output_type": "stream",
     "text": [
      "<class 'pandas.core.frame.DataFrame'>\n",
      "RangeIndex: 913 entries, 0 to 912\n",
      "Data columns (total 53 columns):\n",
      " #   Column          Non-Null Count  Dtype \n",
      "---  ------          --------------  ----- \n",
      " 0   AGE             913 non-null    int64 \n",
      " 1   GENDER          913 non-null    int64 \n",
      " 2   DOMAIN          911 non-null    object\n",
      " 3   PhD             913 non-null    int64 \n",
      " 4   YEARSEXP        890 non-null    object\n",
      " 5   UNIVERSITY      913 non-null    int64 \n",
      " 6   UOC_POSITION    800 non-null    object\n",
      " 7   OTHER_POSITION  652 non-null    object\n",
      " 8   OTHERSTATUS     373 non-null    object\n",
      " 9   USERWIKI        909 non-null    object\n",
      " 10  PU1             906 non-null    object\n",
      " 11  PU2             902 non-null    object\n",
      " 12  PU3             908 non-null    object\n",
      " 13  PEU1            909 non-null    object\n",
      " 14  PEU2            899 non-null    object\n",
      " 15  PEU3            816 non-null    object\n",
      " 16  ENJ1            906 non-null    object\n",
      " 17  ENJ2            896 non-null    object\n",
      " 18  Qu1             906 non-null    object\n",
      " 19  Qu2             903 non-null    object\n",
      " 20  Qu3             898 non-null    object\n",
      " 21  Qu4             891 non-null    object\n",
      " 22  Qu5             884 non-null    object\n",
      " 23  Vis1            841 non-null    object\n",
      " 24  Vis2            796 non-null    object\n",
      " 25  Vis3            905 non-null    object\n",
      " 26  Im1             891 non-null    object\n",
      " 27  Im2             893 non-null    object\n",
      " 28  Im3             856 non-null    object\n",
      " 29  SA1             902 non-null    object\n",
      " 30  SA2             901 non-null    object\n",
      " 31  SA3             902 non-null    object\n",
      " 32  Use1            899 non-null    object\n",
      " 33  Use2            896 non-null    object\n",
      " 34  Use3            904 non-null    object\n",
      " 35  Use4            890 non-null    object\n",
      " 36  Use5            898 non-null    object\n",
      " 37  Pf1             902 non-null    object\n",
      " 38  Pf2             907 non-null    object\n",
      " 39  Pf3             899 non-null    object\n",
      " 40  JR1             886 non-null    object\n",
      " 41  JR2             860 non-null    object\n",
      " 42  BI1             881 non-null    object\n",
      " 43  BI2             870 non-null    object\n",
      " 44  Inc1            878 non-null    object\n",
      " 45  Inc2            878 non-null    object\n",
      " 46  Inc3            876 non-null    object\n",
      " 47  Inc4            871 non-null    object\n",
      " 48  Exp1            900 non-null    object\n",
      " 49  Exp2            902 non-null    object\n",
      " 50  Exp3            900 non-null    object\n",
      " 51  Exp4            899 non-null    object\n",
      " 52  Exp5            900 non-null    object\n",
      "dtypes: int64(4), object(49)\n",
      "memory usage: 378.2+ KB\n"
     ]
    }
   ],
   "source": [
    "df.info()"
   ]
  },
  {
   "cell_type": "code",
   "execution_count": 53,
   "id": "a23231a1",
   "metadata": {},
   "outputs": [
    {
     "data": {
      "text/plain": [
       "913"
      ]
     },
     "execution_count": 53,
     "metadata": {},
     "output_type": "execute_result"
    }
   ],
   "source": [
    "df.shape[0]"
   ]
  },
  {
   "cell_type": "code",
   "execution_count": 54,
   "id": "90d3dda9",
   "metadata": {
    "collapsed": true
   },
   "outputs": [
    {
     "data": {
      "text/plain": [
       "AGE                 0\n",
       "GENDER              0\n",
       "DOMAIN              2\n",
       "PhD                 0\n",
       "YEARSEXP           23\n",
       "UNIVERSITY          0\n",
       "UOC_POSITION      113\n",
       "OTHER_POSITION    261\n",
       "OTHERSTATUS       540\n",
       "USERWIKI            4\n",
       "PU1                 7\n",
       "PU2                11\n",
       "PU3                 5\n",
       "PEU1                4\n",
       "PEU2               14\n",
       "PEU3               97\n",
       "ENJ1                7\n",
       "ENJ2               17\n",
       "Qu1                 7\n",
       "Qu2                10\n",
       "Qu3                15\n",
       "Qu4                22\n",
       "Qu5                29\n",
       "Vis1               72\n",
       "Vis2              117\n",
       "Vis3                8\n",
       "Im1                22\n",
       "Im2                20\n",
       "Im3                57\n",
       "SA1                11\n",
       "SA2                12\n",
       "SA3                11\n",
       "Use1               14\n",
       "Use2               17\n",
       "Use3                9\n",
       "Use4               23\n",
       "Use5               15\n",
       "Pf1                11\n",
       "Pf2                 6\n",
       "Pf3                14\n",
       "JR1                27\n",
       "JR2                53\n",
       "BI1                32\n",
       "BI2                43\n",
       "Inc1               35\n",
       "Inc2               35\n",
       "Inc3               37\n",
       "Inc4               42\n",
       "Exp1               13\n",
       "Exp2               11\n",
       "Exp3               13\n",
       "Exp4               14\n",
       "Exp5               13\n",
       "dtype: int64"
      ]
     },
     "execution_count": 54,
     "metadata": {},
     "output_type": "execute_result"
    }
   ],
   "source": [
    "df.isnull().sum()"
   ]
  },
  {
   "cell_type": "code",
   "execution_count": 55,
   "id": "55be7ea5",
   "metadata": {
    "collapsed": true
   },
   "outputs": [
    {
     "name": "stdout",
     "output_type": "stream",
     "text": [
      "The percentage - \n",
      " AGE                0.00\n",
      "GENDER             0.00\n",
      "DOMAIN             0.22\n",
      "PhD                0.00\n",
      "YEARSEXP           2.52\n",
      "UNIVERSITY         0.00\n",
      "UOC_POSITION      12.38\n",
      "OTHER_POSITION    28.59\n",
      "OTHERSTATUS       59.15\n",
      "USERWIKI           0.44\n",
      "PU1                0.77\n",
      "PU2                1.20\n",
      "PU3                0.55\n",
      "PEU1               0.44\n",
      "PEU2               1.53\n",
      "PEU3              10.62\n",
      "ENJ1               0.77\n",
      "ENJ2               1.86\n",
      "Qu1                0.77\n",
      "Qu2                1.10\n",
      "Qu3                1.64\n",
      "Qu4                2.41\n",
      "Qu5                3.18\n",
      "Vis1               7.89\n",
      "Vis2              12.81\n",
      "Vis3               0.88\n",
      "Im1                2.41\n",
      "Im2                2.19\n",
      "Im3                6.24\n",
      "SA1                1.20\n",
      "SA2                1.31\n",
      "SA3                1.20\n",
      "Use1               1.53\n",
      "Use2               1.86\n",
      "Use3               0.99\n",
      "Use4               2.52\n",
      "Use5               1.64\n",
      "Pf1                1.20\n",
      "Pf2                0.66\n",
      "Pf3                1.53\n",
      "JR1                2.96\n",
      "JR2                5.81\n",
      "BI1                3.50\n",
      "BI2                4.71\n",
      "Inc1               3.83\n",
      "Inc2               3.83\n",
      "Inc3               4.05\n",
      "Inc4               4.60\n",
      "Exp1               1.42\n",
      "Exp2               1.20\n",
      "Exp3               1.42\n",
      "Exp4               1.53\n",
      "Exp5               1.42\n",
      "dtype: float64\n"
     ]
    }
   ],
   "source": [
    "per = round((df.isnull().sum()/ df.shape[0])*100,2)\n",
    "print(\"The percentage - \\n\", per)"
   ]
  },
  {
   "cell_type": "code",
   "execution_count": 56,
   "id": "2c4d82a2",
   "metadata": {},
   "outputs": [
    {
     "data": {
      "text/html": [
       "<div>\n",
       "<style scoped>\n",
       "    .dataframe tbody tr th:only-of-type {\n",
       "        vertical-align: middle;\n",
       "    }\n",
       "\n",
       "    .dataframe tbody tr th {\n",
       "        vertical-align: top;\n",
       "    }\n",
       "\n",
       "    .dataframe thead th {\n",
       "        text-align: right;\n",
       "    }\n",
       "</style>\n",
       "<table border=\"1\" class=\"dataframe\">\n",
       "  <thead>\n",
       "    <tr style=\"text-align: right;\">\n",
       "      <th></th>\n",
       "      <th>Missing_percent</th>\n",
       "    </tr>\n",
       "  </thead>\n",
       "  <tbody>\n",
       "    <tr>\n",
       "      <th>OTHERSTATUS</th>\n",
       "      <td>59.15</td>\n",
       "    </tr>\n",
       "    <tr>\n",
       "      <th>OTHER_POSITION</th>\n",
       "      <td>28.59</td>\n",
       "    </tr>\n",
       "    <tr>\n",
       "      <th>Vis2</th>\n",
       "      <td>12.81</td>\n",
       "    </tr>\n",
       "    <tr>\n",
       "      <th>UOC_POSITION</th>\n",
       "      <td>12.38</td>\n",
       "    </tr>\n",
       "    <tr>\n",
       "      <th>PEU3</th>\n",
       "      <td>10.62</td>\n",
       "    </tr>\n",
       "  </tbody>\n",
       "</table>\n",
       "</div>"
      ],
      "text/plain": [
       "                Missing_percent\n",
       "OTHERSTATUS               59.15\n",
       "OTHER_POSITION            28.59\n",
       "Vis2                      12.81\n",
       "UOC_POSITION              12.38\n",
       "PEU3                      10.62"
      ]
     },
     "execution_count": 56,
     "metadata": {},
     "output_type": "execute_result"
    }
   ],
   "source": [
    "pd.DataFrame(per,columns = ['Missing_percent']).sort_values('Missing_percent',ascending = False).head(5)"
   ]
  },
  {
   "cell_type": "code",
   "execution_count": 57,
   "id": "73a30a1a",
   "metadata": {},
   "outputs": [],
   "source": [
    "##### Above 25 % of Missing Columns are dropped\n",
    "df.drop(['OTHERSTATUS','OTHER_POSITION'],axis = 1,inplace = True)"
   ]
  },
  {
   "cell_type": "code",
   "execution_count": 58,
   "id": "1d5ffdb7",
   "metadata": {
    "collapsed": true
   },
   "outputs": [
    {
     "data": {
      "text/plain": [
       "AGE               0\n",
       "GENDER            0\n",
       "DOMAIN            2\n",
       "PhD               0\n",
       "YEARSEXP         23\n",
       "UNIVERSITY        0\n",
       "UOC_POSITION    113\n",
       "USERWIKI          4\n",
       "PU1               7\n",
       "PU2              11\n",
       "PU3               5\n",
       "PEU1              4\n",
       "PEU2             14\n",
       "PEU3             97\n",
       "ENJ1              7\n",
       "ENJ2             17\n",
       "Qu1               7\n",
       "Qu2              10\n",
       "Qu3              15\n",
       "Qu4              22\n",
       "Qu5              29\n",
       "Vis1             72\n",
       "Vis2            117\n",
       "Vis3              8\n",
       "Im1              22\n",
       "Im2              20\n",
       "Im3              57\n",
       "SA1              11\n",
       "SA2              12\n",
       "SA3              11\n",
       "Use1             14\n",
       "Use2             17\n",
       "Use3              9\n",
       "Use4             23\n",
       "Use5             15\n",
       "Pf1              11\n",
       "Pf2               6\n",
       "Pf3              14\n",
       "JR1              27\n",
       "JR2              53\n",
       "BI1              32\n",
       "BI2              43\n",
       "Inc1             35\n",
       "Inc2             35\n",
       "Inc3             37\n",
       "Inc4             42\n",
       "Exp1             13\n",
       "Exp2             11\n",
       "Exp3             13\n",
       "Exp4             14\n",
       "Exp5             13\n",
       "dtype: int64"
      ]
     },
     "execution_count": 58,
     "metadata": {},
     "output_type": "execute_result"
    }
   ],
   "source": [
    "df.isnull().sum()"
   ]
  },
  {
   "cell_type": "code",
   "execution_count": 59,
   "id": "83d0fd74",
   "metadata": {},
   "outputs": [
    {
     "data": {
      "text/plain": [
       "Index(['AGE', 'GENDER', 'DOMAIN', 'PhD', 'YEARSEXP', 'UNIVERSITY',\n",
       "       'UOC_POSITION', 'USERWIKI', 'PU1', 'PU2', 'PU3', 'PEU1', 'PEU2', 'PEU3',\n",
       "       'ENJ1', 'ENJ2', 'Qu1', 'Qu2', 'Qu3', 'Qu4', 'Qu5', 'Vis1', 'Vis2',\n",
       "       'Vis3', 'Im1', 'Im2', 'Im3', 'SA1', 'SA2', 'SA3', 'Use1', 'Use2',\n",
       "       'Use3', 'Use4', 'Use5', 'Pf1', 'Pf2', 'Pf3', 'JR1', 'JR2', 'BI1', 'BI2',\n",
       "       'Inc1', 'Inc2', 'Inc3', 'Inc4', 'Exp1', 'Exp2', 'Exp3', 'Exp4', 'Exp5'],\n",
       "      dtype='object')"
      ]
     },
     "execution_count": 59,
     "metadata": {},
     "output_type": "execute_result"
    }
   ],
   "source": [
    "df.columns"
   ]
  },
  {
   "cell_type": "code",
   "execution_count": 61,
   "id": "2ba790bd",
   "metadata": {},
   "outputs": [
    {
     "data": {
      "text/plain": [
       "51"
      ]
     },
     "execution_count": 61,
     "metadata": {},
     "output_type": "execute_result"
    }
   ],
   "source": [
    "#### Data with droppped columns\n",
    "df.shape[1]"
   ]
  },
  {
   "cell_type": "code",
   "execution_count": 62,
   "id": "69278984",
   "metadata": {},
   "outputs": [
    {
     "data": {
      "text/plain": [
       "53"
      ]
     },
     "execution_count": 62,
     "metadata": {},
     "output_type": "execute_result"
    }
   ],
   "source": [
    "#### Actual Data, number of columns\n",
    "data.shape[1]"
   ]
  },
  {
   "cell_type": "code",
   "execution_count": 66,
   "id": "dcac4f9a",
   "metadata": {
    "collapsed": true
   },
   "outputs": [
    {
     "name": "stdout",
     "output_type": "stream",
     "text": [
      "(913, 6)\n",
      "YEARSEXP    object\n",
      "Exp1        object\n",
      "Exp2        object\n",
      "Exp3        object\n",
      "Exp4        object\n",
      "Exp5        object\n",
      "dtype: object\n",
      "YEARSEXP    23\n",
      "Exp1        13\n",
      "Exp2        11\n",
      "Exp3        13\n",
      "Exp4        14\n",
      "Exp5        13\n",
      "dtype: int64\n"
     ]
    }
   ],
   "source": [
    "##### Creating Subset of Columns - Experience\n",
    "exp = df[['YEARSEXP','Exp1', 'Exp2', 'Exp3', 'Exp4', 'Exp5']]\n",
    "print(exp.shape)\n",
    "print(exp.dtypes)   #### We need to convert this colunm to int datatypes\n",
    "print(exp.isnull().sum())  ##### We need to handle missing value"
   ]
  },
  {
   "cell_type": "code",
   "execution_count": 75,
   "id": "589a25ef",
   "metadata": {
    "collapsed": true
   },
   "outputs": [
    {
     "name": "stdout",
     "output_type": "stream",
     "text": [
      "YEARSEXP    float64\n",
      "Exp1        float64\n",
      "Exp2        float64\n",
      "Exp3        float64\n",
      "Exp4        float64\n",
      "Exp5        float64\n",
      "dtype: object\n"
     ]
    }
   ],
   "source": [
    "exp1 = exp.astype('float')"
   ]
  },
  {
   "cell_type": "code",
   "execution_count": 79,
   "id": "9c840efa",
   "metadata": {
    "collapsed": true
   },
   "outputs": [
    {
     "name": "stdout",
     "output_type": "stream",
     "text": [
      "YEARSEXP    23\n",
      "Exp1        13\n",
      "Exp2        11\n",
      "Exp3        13\n",
      "Exp4        14\n",
      "Exp5        13\n",
      "dtype: int64\n"
     ]
    }
   ],
   "source": [
    "print(exp1.isna().sum())   ##### Missing Value Imputations"
   ]
  },
  {
   "cell_type": "code",
   "execution_count": 89,
   "id": "a16f5122",
   "metadata": {
    "collapsed": true
   },
   "outputs": [
    {
     "data": {
      "text/html": [
       "<div>\n",
       "<style scoped>\n",
       "    .dataframe tbody tr th:only-of-type {\n",
       "        vertical-align: middle;\n",
       "    }\n",
       "\n",
       "    .dataframe tbody tr th {\n",
       "        vertical-align: top;\n",
       "    }\n",
       "\n",
       "    .dataframe thead th {\n",
       "        text-align: right;\n",
       "    }\n",
       "</style>\n",
       "<table border=\"1\" class=\"dataframe\">\n",
       "  <thead>\n",
       "    <tr style=\"text-align: right;\">\n",
       "      <th></th>\n",
       "      <th>YEARSEXP</th>\n",
       "      <th>Exp1</th>\n",
       "      <th>Exp2</th>\n",
       "      <th>Exp3</th>\n",
       "      <th>Exp4</th>\n",
       "      <th>Exp5</th>\n",
       "    </tr>\n",
       "  </thead>\n",
       "  <tbody>\n",
       "    <tr>\n",
       "      <th>908</th>\n",
       "      <td>21.0</td>\n",
       "      <td>NaN</td>\n",
       "      <td>NaN</td>\n",
       "      <td>NaN</td>\n",
       "      <td>NaN</td>\n",
       "      <td>NaN</td>\n",
       "    </tr>\n",
       "    <tr>\n",
       "      <th>909</th>\n",
       "      <td>25.0</td>\n",
       "      <td>4.0</td>\n",
       "      <td>4.0</td>\n",
       "      <td>4.0</td>\n",
       "      <td>1.0</td>\n",
       "      <td>1.0</td>\n",
       "    </tr>\n",
       "  </tbody>\n",
       "</table>\n",
       "</div>"
      ],
      "text/plain": [
       "     YEARSEXP  Exp1  Exp2  Exp3  Exp4  Exp5\n",
       "908      21.0   NaN   NaN   NaN   NaN   NaN\n",
       "909      25.0   4.0   4.0   4.0   1.0   1.0"
      ]
     },
     "execution_count": 89,
     "metadata": {},
     "output_type": "execute_result"
    }
   ],
   "source": [
    "exp1.loc[[908,909]]"
   ]
  },
  {
   "cell_type": "code",
   "execution_count": 84,
   "id": "bc6131f8",
   "metadata": {
    "collapsed": true
   },
   "outputs": [
    {
     "data": {
      "text/plain": [
       "YEARSEXP    10.0\n",
       "Exp1         3.0\n",
       "Exp2         4.0\n",
       "Exp3         4.0\n",
       "Exp4         1.0\n",
       "Exp5         2.0\n",
       "dtype: float64"
      ]
     },
     "execution_count": 84,
     "metadata": {},
     "output_type": "execute_result"
    }
   ],
   "source": [
    "exp1.median()"
   ]
  },
  {
   "cell_type": "code",
   "execution_count": 85,
   "id": "79cae58a",
   "metadata": {
    "collapsed": true
   },
   "outputs": [
    {
     "data": {
      "text/html": [
       "<div>\n",
       "<style scoped>\n",
       "    .dataframe tbody tr th:only-of-type {\n",
       "        vertical-align: middle;\n",
       "    }\n",
       "\n",
       "    .dataframe tbody tr th {\n",
       "        vertical-align: top;\n",
       "    }\n",
       "\n",
       "    .dataframe thead th {\n",
       "        text-align: right;\n",
       "    }\n",
       "</style>\n",
       "<table border=\"1\" class=\"dataframe\">\n",
       "  <thead>\n",
       "    <tr style=\"text-align: right;\">\n",
       "      <th></th>\n",
       "      <th>YEARSEXP</th>\n",
       "      <th>Exp1</th>\n",
       "      <th>Exp2</th>\n",
       "      <th>Exp3</th>\n",
       "      <th>Exp4</th>\n",
       "      <th>Exp5</th>\n",
       "    </tr>\n",
       "  </thead>\n",
       "  <tbody>\n",
       "    <tr>\n",
       "      <th>0</th>\n",
       "      <td>14.0</td>\n",
       "      <td>4.0</td>\n",
       "      <td>4.0</td>\n",
       "      <td>4.0</td>\n",
       "      <td>1.0</td>\n",
       "      <td>2.0</td>\n",
       "    </tr>\n",
       "    <tr>\n",
       "      <th>1</th>\n",
       "      <td>18.0</td>\n",
       "      <td>2.0</td>\n",
       "      <td>2.0</td>\n",
       "      <td>4.0</td>\n",
       "      <td>2.0</td>\n",
       "      <td>4.0</td>\n",
       "    </tr>\n",
       "    <tr>\n",
       "      <th>2</th>\n",
       "      <td>13.0</td>\n",
       "      <td>2.0</td>\n",
       "      <td>2.0</td>\n",
       "      <td>2.0</td>\n",
       "      <td>1.0</td>\n",
       "      <td>3.0</td>\n",
       "    </tr>\n",
       "    <tr>\n",
       "      <th>3</th>\n",
       "      <td>13.0</td>\n",
       "      <td>4.0</td>\n",
       "      <td>4.0</td>\n",
       "      <td>3.0</td>\n",
       "      <td>3.0</td>\n",
       "      <td>4.0</td>\n",
       "    </tr>\n",
       "    <tr>\n",
       "      <th>4</th>\n",
       "      <td>8.0</td>\n",
       "      <td>5.0</td>\n",
       "      <td>5.0</td>\n",
       "      <td>5.0</td>\n",
       "      <td>4.0</td>\n",
       "      <td>4.0</td>\n",
       "    </tr>\n",
       "    <tr>\n",
       "      <th>...</th>\n",
       "      <td>...</td>\n",
       "      <td>...</td>\n",
       "      <td>...</td>\n",
       "      <td>...</td>\n",
       "      <td>...</td>\n",
       "      <td>...</td>\n",
       "    </tr>\n",
       "    <tr>\n",
       "      <th>908</th>\n",
       "      <td>21.0</td>\n",
       "      <td>3.0</td>\n",
       "      <td>4.0</td>\n",
       "      <td>4.0</td>\n",
       "      <td>1.0</td>\n",
       "      <td>2.0</td>\n",
       "    </tr>\n",
       "    <tr>\n",
       "      <th>909</th>\n",
       "      <td>25.0</td>\n",
       "      <td>4.0</td>\n",
       "      <td>4.0</td>\n",
       "      <td>4.0</td>\n",
       "      <td>1.0</td>\n",
       "      <td>1.0</td>\n",
       "    </tr>\n",
       "    <tr>\n",
       "      <th>910</th>\n",
       "      <td>9.0</td>\n",
       "      <td>5.0</td>\n",
       "      <td>5.0</td>\n",
       "      <td>5.0</td>\n",
       "      <td>4.0</td>\n",
       "      <td>1.0</td>\n",
       "    </tr>\n",
       "    <tr>\n",
       "      <th>911</th>\n",
       "      <td>10.0</td>\n",
       "      <td>4.0</td>\n",
       "      <td>4.0</td>\n",
       "      <td>2.0</td>\n",
       "      <td>1.0</td>\n",
       "      <td>1.0</td>\n",
       "    </tr>\n",
       "    <tr>\n",
       "      <th>912</th>\n",
       "      <td>12.0</td>\n",
       "      <td>2.0</td>\n",
       "      <td>3.0</td>\n",
       "      <td>3.0</td>\n",
       "      <td>1.0</td>\n",
       "      <td>1.0</td>\n",
       "    </tr>\n",
       "  </tbody>\n",
       "</table>\n",
       "<p>913 rows × 6 columns</p>\n",
       "</div>"
      ],
      "text/plain": [
       "     YEARSEXP  Exp1  Exp2  Exp3  Exp4  Exp5\n",
       "0        14.0   4.0   4.0   4.0   1.0   2.0\n",
       "1        18.0   2.0   2.0   4.0   2.0   4.0\n",
       "2        13.0   2.0   2.0   2.0   1.0   3.0\n",
       "3        13.0   4.0   4.0   3.0   3.0   4.0\n",
       "4         8.0   5.0   5.0   5.0   4.0   4.0\n",
       "..        ...   ...   ...   ...   ...   ...\n",
       "908      21.0   3.0   4.0   4.0   1.0   2.0\n",
       "909      25.0   4.0   4.0   4.0   1.0   1.0\n",
       "910       9.0   5.0   5.0   5.0   4.0   1.0\n",
       "911      10.0   4.0   4.0   2.0   1.0   1.0\n",
       "912      12.0   2.0   3.0   3.0   1.0   1.0\n",
       "\n",
       "[913 rows x 6 columns]"
      ]
     },
     "execution_count": 85,
     "metadata": {},
     "output_type": "execute_result"
    }
   ],
   "source": [
    "####### Replacing the Missing Values with 0\n",
    "exp1.fillna(exp1.median())"
   ]
  },
  {
   "cell_type": "code",
   "execution_count": null,
   "id": "b27a58c5",
   "metadata": {},
   "outputs": [],
   "source": [
    "####### Replacing the Missing Values with Mean\n",
    "exp1.fillna(exp1.mean())"
   ]
  },
  {
   "cell_type": "code",
   "execution_count": null,
   "id": "165bbeb2",
   "metadata": {},
   "outputs": [],
   "source": [
    "####### Replacing the Missing Values with Median\n",
    "exp1.fillna(exp1.median())"
   ]
  },
  {
   "cell_type": "code",
   "execution_count": 88,
   "id": "686b73cc",
   "metadata": {
    "collapsed": true
   },
   "outputs": [
    {
     "data": {
      "text/html": [
       "<div>\n",
       "<style scoped>\n",
       "    .dataframe tbody tr th:only-of-type {\n",
       "        vertical-align: middle;\n",
       "    }\n",
       "\n",
       "    .dataframe tbody tr th {\n",
       "        vertical-align: top;\n",
       "    }\n",
       "\n",
       "    .dataframe thead th {\n",
       "        text-align: right;\n",
       "    }\n",
       "</style>\n",
       "<table border=\"1\" class=\"dataframe\">\n",
       "  <thead>\n",
       "    <tr style=\"text-align: right;\">\n",
       "      <th></th>\n",
       "      <th>YEARSEXP</th>\n",
       "      <th>Exp1</th>\n",
       "      <th>Exp2</th>\n",
       "      <th>Exp3</th>\n",
       "      <th>Exp4</th>\n",
       "      <th>Exp5</th>\n",
       "    </tr>\n",
       "  </thead>\n",
       "  <tbody>\n",
       "    <tr>\n",
       "      <th>0</th>\n",
       "      <td>14.0</td>\n",
       "      <td>4.0</td>\n",
       "      <td>4.0</td>\n",
       "      <td>4.0</td>\n",
       "      <td>1.0</td>\n",
       "      <td>2.0</td>\n",
       "    </tr>\n",
       "    <tr>\n",
       "      <th>1</th>\n",
       "      <td>18.0</td>\n",
       "      <td>2.0</td>\n",
       "      <td>2.0</td>\n",
       "      <td>4.0</td>\n",
       "      <td>2.0</td>\n",
       "      <td>4.0</td>\n",
       "    </tr>\n",
       "    <tr>\n",
       "      <th>2</th>\n",
       "      <td>13.0</td>\n",
       "      <td>2.0</td>\n",
       "      <td>2.0</td>\n",
       "      <td>2.0</td>\n",
       "      <td>1.0</td>\n",
       "      <td>3.0</td>\n",
       "    </tr>\n",
       "    <tr>\n",
       "      <th>3</th>\n",
       "      <td>13.0</td>\n",
       "      <td>4.0</td>\n",
       "      <td>4.0</td>\n",
       "      <td>3.0</td>\n",
       "      <td>3.0</td>\n",
       "      <td>4.0</td>\n",
       "    </tr>\n",
       "    <tr>\n",
       "      <th>4</th>\n",
       "      <td>8.0</td>\n",
       "      <td>5.0</td>\n",
       "      <td>5.0</td>\n",
       "      <td>5.0</td>\n",
       "      <td>4.0</td>\n",
       "      <td>4.0</td>\n",
       "    </tr>\n",
       "    <tr>\n",
       "      <th>...</th>\n",
       "      <td>...</td>\n",
       "      <td>...</td>\n",
       "      <td>...</td>\n",
       "      <td>...</td>\n",
       "      <td>...</td>\n",
       "      <td>...</td>\n",
       "    </tr>\n",
       "    <tr>\n",
       "      <th>908</th>\n",
       "      <td>21.0</td>\n",
       "      <td>4.0</td>\n",
       "      <td>4.0</td>\n",
       "      <td>4.0</td>\n",
       "      <td>1.0</td>\n",
       "      <td>1.0</td>\n",
       "    </tr>\n",
       "    <tr>\n",
       "      <th>909</th>\n",
       "      <td>25.0</td>\n",
       "      <td>4.0</td>\n",
       "      <td>4.0</td>\n",
       "      <td>4.0</td>\n",
       "      <td>1.0</td>\n",
       "      <td>1.0</td>\n",
       "    </tr>\n",
       "    <tr>\n",
       "      <th>910</th>\n",
       "      <td>9.0</td>\n",
       "      <td>5.0</td>\n",
       "      <td>5.0</td>\n",
       "      <td>5.0</td>\n",
       "      <td>4.0</td>\n",
       "      <td>1.0</td>\n",
       "    </tr>\n",
       "    <tr>\n",
       "      <th>911</th>\n",
       "      <td>10.0</td>\n",
       "      <td>4.0</td>\n",
       "      <td>4.0</td>\n",
       "      <td>2.0</td>\n",
       "      <td>1.0</td>\n",
       "      <td>1.0</td>\n",
       "    </tr>\n",
       "    <tr>\n",
       "      <th>912</th>\n",
       "      <td>12.0</td>\n",
       "      <td>2.0</td>\n",
       "      <td>3.0</td>\n",
       "      <td>3.0</td>\n",
       "      <td>1.0</td>\n",
       "      <td>1.0</td>\n",
       "    </tr>\n",
       "  </tbody>\n",
       "</table>\n",
       "<p>913 rows × 6 columns</p>\n",
       "</div>"
      ],
      "text/plain": [
       "     YEARSEXP  Exp1  Exp2  Exp3  Exp4  Exp5\n",
       "0        14.0   4.0   4.0   4.0   1.0   2.0\n",
       "1        18.0   2.0   2.0   4.0   2.0   4.0\n",
       "2        13.0   2.0   2.0   2.0   1.0   3.0\n",
       "3        13.0   4.0   4.0   3.0   3.0   4.0\n",
       "4         8.0   5.0   5.0   5.0   4.0   4.0\n",
       "..        ...   ...   ...   ...   ...   ...\n",
       "908      21.0   4.0   4.0   4.0   1.0   1.0\n",
       "909      25.0   4.0   4.0   4.0   1.0   1.0\n",
       "910       9.0   5.0   5.0   5.0   4.0   1.0\n",
       "911      10.0   4.0   4.0   2.0   1.0   1.0\n",
       "912      12.0   2.0   3.0   3.0   1.0   1.0\n",
       "\n",
       "[913 rows x 6 columns]"
      ]
     },
     "execution_count": 88,
     "metadata": {},
     "output_type": "execute_result"
    }
   ],
   "source": [
    "#### Relacing the missing values with frontvalues - \n",
    "exp1.fillna(method = 'ffill')"
   ]
  },
  {
   "cell_type": "code",
   "execution_count": null,
   "id": "94d80082",
   "metadata": {},
   "outputs": [],
   "source": [
    "#### Relacing the missing values with backvalues - \n",
    "exp1.fillna(method = 'bfill')"
   ]
  },
  {
   "cell_type": "code",
   "execution_count": 90,
   "id": "e15d42ad",
   "metadata": {},
   "outputs": [],
   "source": [
    "####### Permanently Replacing the Missing Values with Median\n",
    "exp1 = exp1.fillna(exp1.median())"
   ]
  },
  {
   "cell_type": "code",
   "execution_count": 91,
   "id": "79e5da0a",
   "metadata": {
    "collapsed": true
   },
   "outputs": [
    {
     "name": "stdout",
     "output_type": "stream",
     "text": [
      "YEARSEXP    0\n",
      "Exp1        0\n",
      "Exp2        0\n",
      "Exp3        0\n",
      "Exp4        0\n",
      "Exp5        0\n",
      "dtype: int64\n"
     ]
    }
   ],
   "source": [
    "print(exp1.isnull().sum())"
   ]
  },
  {
   "cell_type": "code",
   "execution_count": 92,
   "id": "7c023775",
   "metadata": {},
   "outputs": [],
   "source": [
    "###### Seaborn  - Its a very creative package for charts and graphs\n",
    "##### You can styles your Visualisations very beatifully over here\n",
    "import seaborn as sns"
   ]
  },
  {
   "cell_type": "code",
   "execution_count": 95,
   "id": "ffd958eb",
   "metadata": {
    "collapsed": true
   },
   "outputs": [
    {
     "data": {
      "text/plain": [
       "['anagrams',\n",
       " 'anscombe',\n",
       " 'attention',\n",
       " 'brain_networks',\n",
       " 'car_crashes',\n",
       " 'diamonds',\n",
       " 'dots',\n",
       " 'dowjones',\n",
       " 'exercise',\n",
       " 'flights',\n",
       " 'fmri',\n",
       " 'geyser',\n",
       " 'glue',\n",
       " 'healthexp',\n",
       " 'iris',\n",
       " 'mpg',\n",
       " 'penguins',\n",
       " 'planets',\n",
       " 'seaice',\n",
       " 'taxis',\n",
       " 'tips',\n",
       " 'titanic']"
      ]
     },
     "execution_count": 95,
     "metadata": {},
     "output_type": "execute_result"
    }
   ],
   "source": [
    "sns.get_dataset_names()   ###### Inbuilt Datasets present in Seaborn"
   ]
  },
  {
   "cell_type": "code",
   "execution_count": 96,
   "id": "a3ef61f4",
   "metadata": {},
   "outputs": [
    {
     "name": "stdout",
     "output_type": "stream",
     "text": [
      "   total_bill   tip     sex smoker  day    time  size\n",
      "0       16.99  1.01  Female     No  Sun  Dinner     2\n",
      "1       10.34  1.66    Male     No  Sun  Dinner     3\n"
     ]
    }
   ],
   "source": [
    "df = sns.load_dataset('tips')\n",
    "print(df.head(2))"
   ]
  },
  {
   "cell_type": "code",
   "execution_count": 103,
   "id": "910a9d3e",
   "metadata": {},
   "outputs": [
    {
     "name": "stdout",
     "output_type": "stream",
     "text": [
      "['Sun', 'Sat', 'Thur', 'Fri']\n",
      "Categories (4, object): ['Thur', 'Fri', 'Sat', 'Sun']\n",
      "['Female', 'Male']\n",
      "Categories (2, object): ['Male', 'Female']\n",
      "['No', 'Yes']\n",
      "Categories (2, object): ['Yes', 'No']\n",
      "['Dinner', 'Lunch']\n",
      "Categories (2, object): ['Lunch', 'Dinner']\n"
     ]
    }
   ],
   "source": [
    "print(df.day.unique())\n",
    "print(df.sex.unique())\n",
    "print(df.smoker.unique())\n",
    "print(df.time.unique())"
   ]
  },
  {
   "cell_type": "code",
   "execution_count": 108,
   "id": "449fd52e",
   "metadata": {
    "collapsed": true
   },
   "outputs": [
    {
     "data": {
      "text/plain": [
       "<Axes: ylabel='sex'>"
      ]
     },
     "execution_count": 108,
     "metadata": {},
     "output_type": "execute_result"
    },
    {
     "data": {
      "image/png": "[encoded data removed]",
      "text/plain": [
       "<Figure size 640x480 with 1 Axes>"
      ]
     },
     "metadata": {},
     "output_type": "display_data"
    }
   ],
   "source": [
    "df.sex.value_counts().plot(kind = 'barh')   #### Pandas "
   ]
  },
  {
   "cell_type": "code",
   "execution_count": 122,
   "id": "d9e7ddae",
   "metadata": {
    "collapsed": true
   },
   "outputs": [
    {
     "data": {
      "text/plain": [
       "<Axes: xlabel='sex'>"
      ]
     },
     "execution_count": 122,
     "metadata": {},
     "output_type": "execute_result"
    },
    {
     "data": {
      "image/png": "[encoded data removed]",
      "text/plain": [
       "<Figure size 640x480 with 1 Axes>"
      ]
     },
     "metadata": {},
     "output_type": "display_data"
    }
   ],
   "source": [
    "df.groupby('sex')['total_bill'].sum().plot(kind = 'bar')"
   ]
  },
  {
   "cell_type": "code",
   "execution_count": 109,
   "id": "31c2b6d1",
   "metadata": {
    "collapsed": true
   },
   "outputs": [
    {
     "data": {
      "text/plain": [
       "<Axes: xlabel='sex', ylabel='count'>"
      ]
     },
     "execution_count": 109,
     "metadata": {},
     "output_type": "execute_result"
    },
    {
     "data": {
      "image/png": "[encoded data removed]",
      "text/plain": [
       "<Figure size 640x480 with 1 Axes>"
      ]
     },
     "metadata": {},
     "output_type": "display_data"
    }
   ],
   "source": [
    "sns.countplot(x = 'sex', data = df)   #### Seabron"
   ]
  },
  {
   "cell_type": "code",
   "execution_count": 116,
   "id": "0ed3816c",
   "metadata": {
    "collapsed": true
   },
   "outputs": [
    {
     "data": {
      "text/plain": [
       "<Axes: xlabel='day', ylabel='count'>"
      ]
     },
     "execution_count": 116,
     "metadata": {},
     "output_type": "execute_result"
    },
    {
     "data": {
      "image/png": "[encoded data removed]",
      "text/plain": [
       "<Figure size 640x480 with 1 Axes>"
      ]
     },
     "metadata": {},
     "output_type": "display_data"
    }
   ],
   "source": [
    "sns.countplot(x = 'day', data = df,palette= 'spring')"
   ]
  },
  {
   "cell_type": "code",
   "execution_count": 124,
   "id": "c1302ddc",
   "metadata": {
    "collapsed": true
   },
   "outputs": [
    {
     "data": {
      "text/plain": [
       "<Axes: xlabel='sex', ylabel='total_bill'>"
      ]
     },
     "execution_count": 124,
     "metadata": {},
     "output_type": "execute_result"
    },
    {
     "data": {
      "image/png": "[encoded data removed]",
      "text/plain": [
       "<Figure size 640x480 with 1 Axes>"
      ]
     },
     "metadata": {},
     "output_type": "display_data"
    }
   ],
   "source": [
    "sns.barplot(x = 'sex', y = 'total_bill', hue ='day', \n",
    "            data = df, estimator='sum',errorbar=None)"
   ]
  },
  {
   "cell_type": "code",
   "execution_count": 126,
   "id": "d3412088",
   "metadata": {
    "collapsed": true
   },
   "outputs": [
    {
     "data": {
      "text/plain": [
       "<Axes: xlabel='total_bill', ylabel='day'>"
      ]
     },
     "execution_count": 126,
     "metadata": {},
     "output_type": "execute_result"
    },
    {
     "data": {
      "image/png": "[encoded data removed]",
      "text/plain": [
       "<Figure size 640x480 with 1 Axes>"
      ]
     },
     "metadata": {},
     "output_type": "display_data"
    }
   ],
   "source": [
    "sns.barplot(x = 'total_bill', y = 'day',hue = 'sex',\n",
    "            data = df, estimator='sum',errorbar=None) ### Horizontal Bar chart with distribution of sex"
   ]
  },
  {
   "cell_type": "code",
   "execution_count": 129,
   "id": "ceaa4019",
   "metadata": {},
   "outputs": [
    {
     "data": {
      "text/plain": [
       "<Axes: xlabel='total_bill'>"
      ]
     },
     "execution_count": 129,
     "metadata": {},
     "output_type": "execute_result"
    },
    {
     "data": {
      "image/png": "[encoded data removed]",
      "text/plain": [
       "<Figure size 640x480 with 1 Axes>"
      ]
     },
     "metadata": {},
     "output_type": "display_data"
    }
   ],
   "source": [
    "sns.boxplot(x = df['total_bill'])  #### Total_bill has an outlier"
   ]
  },
  {
   "cell_type": "code",
   "execution_count": 131,
   "id": "a389e96e",
   "metadata": {},
   "outputs": [
    {
     "data": {
      "text/plain": [
       "13.3475"
      ]
     },
     "execution_count": 131,
     "metadata": {},
     "output_type": "execute_result"
    }
   ],
   "source": [
    "Q1 = df['total_bill'].quantile(0.25)\n",
    "Q1"
   ]
  },
  {
   "cell_type": "code",
   "execution_count": 132,
   "id": "7ed4c734",
   "metadata": {},
   "outputs": [
    {
     "data": {
      "text/plain": [
       "24.127499999999998"
      ]
     },
     "execution_count": 132,
     "metadata": {},
     "output_type": "execute_result"
    }
   ],
   "source": [
    "Q3 = df['total_bill'].quantile(0.75)\n",
    "Q3"
   ]
  },
  {
   "cell_type": "code",
   "execution_count": 133,
   "id": "550acc4a",
   "metadata": {},
   "outputs": [
    {
     "data": {
      "text/plain": [
       "10.779999999999998"
      ]
     },
     "execution_count": 133,
     "metadata": {},
     "output_type": "execute_result"
    }
   ],
   "source": [
    "IQR = Q3 - Q1\n",
    "IQR"
   ]
  },
  {
   "cell_type": "code",
   "execution_count": 134,
   "id": "f96a1295",
   "metadata": {},
   "outputs": [
    {
     "data": {
      "text/plain": [
       "40.29749999999999"
      ]
     },
     "execution_count": 134,
     "metadata": {},
     "output_type": "execute_result"
    }
   ],
   "source": [
    "upper = Q3 + (1.5*IQR)\n",
    "upper"
   ]
  },
  {
   "cell_type": "code",
   "execution_count": 140,
   "id": "e96e17e6",
   "metadata": {},
   "outputs": [
    {
     "data": {
      "text/plain": [
       "-2.8224999999999945"
      ]
     },
     "execution_count": 140,
     "metadata": {},
     "output_type": "execute_result"
    }
   ],
   "source": [
    "lower = Q1 - (1.5*IQR)\n",
    "lower"
   ]
  },
  {
   "cell_type": "code",
   "execution_count": 139,
   "id": "9a4664d0",
   "metadata": {
    "collapsed": true
   },
   "outputs": [
    {
     "data": {
      "text/html": [
       "<div>\n",
       "<style scoped>\n",
       "    .dataframe tbody tr th:only-of-type {\n",
       "        vertical-align: middle;\n",
       "    }\n",
       "\n",
       "    .dataframe tbody tr th {\n",
       "        vertical-align: top;\n",
       "    }\n",
       "\n",
       "    .dataframe thead th {\n",
       "        text-align: right;\n",
       "    }\n",
       "</style>\n",
       "<table border=\"1\" class=\"dataframe\">\n",
       "  <thead>\n",
       "    <tr style=\"text-align: right;\">\n",
       "      <th></th>\n",
       "      <th>total_bill</th>\n",
       "      <th>tip</th>\n",
       "      <th>sex</th>\n",
       "      <th>smoker</th>\n",
       "      <th>day</th>\n",
       "      <th>time</th>\n",
       "      <th>size</th>\n",
       "    </tr>\n",
       "  </thead>\n",
       "  <tbody>\n",
       "    <tr>\n",
       "      <th>59</th>\n",
       "      <td>40.29</td>\n",
       "      <td>6.73</td>\n",
       "      <td>Male</td>\n",
       "      <td>No</td>\n",
       "      <td>Sat</td>\n",
       "      <td>Dinner</td>\n",
       "      <td>4</td>\n",
       "    </tr>\n",
       "    <tr>\n",
       "      <th>102</th>\n",
       "      <td>40.29</td>\n",
       "      <td>2.50</td>\n",
       "      <td>Female</td>\n",
       "      <td>Yes</td>\n",
       "      <td>Sat</td>\n",
       "      <td>Dinner</td>\n",
       "      <td>3</td>\n",
       "    </tr>\n",
       "    <tr>\n",
       "      <th>142</th>\n",
       "      <td>40.29</td>\n",
       "      <td>5.00</td>\n",
       "      <td>Male</td>\n",
       "      <td>No</td>\n",
       "      <td>Thur</td>\n",
       "      <td>Lunch</td>\n",
       "      <td>5</td>\n",
       "    </tr>\n",
       "    <tr>\n",
       "      <th>156</th>\n",
       "      <td>40.29</td>\n",
       "      <td>5.00</td>\n",
       "      <td>Male</td>\n",
       "      <td>No</td>\n",
       "      <td>Sun</td>\n",
       "      <td>Dinner</td>\n",
       "      <td>6</td>\n",
       "    </tr>\n",
       "    <tr>\n",
       "      <th>170</th>\n",
       "      <td>40.29</td>\n",
       "      <td>10.00</td>\n",
       "      <td>Male</td>\n",
       "      <td>Yes</td>\n",
       "      <td>Sat</td>\n",
       "      <td>Dinner</td>\n",
       "      <td>3</td>\n",
       "    </tr>\n",
       "    <tr>\n",
       "      <th>182</th>\n",
       "      <td>40.29</td>\n",
       "      <td>3.50</td>\n",
       "      <td>Male</td>\n",
       "      <td>Yes</td>\n",
       "      <td>Sun</td>\n",
       "      <td>Dinner</td>\n",
       "      <td>3</td>\n",
       "    </tr>\n",
       "    <tr>\n",
       "      <th>184</th>\n",
       "      <td>40.29</td>\n",
       "      <td>3.00</td>\n",
       "      <td>Male</td>\n",
       "      <td>Yes</td>\n",
       "      <td>Sun</td>\n",
       "      <td>Dinner</td>\n",
       "      <td>2</td>\n",
       "    </tr>\n",
       "    <tr>\n",
       "      <th>197</th>\n",
       "      <td>40.29</td>\n",
       "      <td>5.00</td>\n",
       "      <td>Female</td>\n",
       "      <td>Yes</td>\n",
       "      <td>Thur</td>\n",
       "      <td>Lunch</td>\n",
       "      <td>4</td>\n",
       "    </tr>\n",
       "    <tr>\n",
       "      <th>212</th>\n",
       "      <td>40.29</td>\n",
       "      <td>9.00</td>\n",
       "      <td>Male</td>\n",
       "      <td>No</td>\n",
       "      <td>Sat</td>\n",
       "      <td>Dinner</td>\n",
       "      <td>4</td>\n",
       "    </tr>\n",
       "  </tbody>\n",
       "</table>\n",
       "</div>"
      ],
      "text/plain": [
       "     total_bill    tip     sex smoker   day    time  size\n",
       "59        40.29   6.73    Male     No   Sat  Dinner     4\n",
       "102       40.29   2.50  Female    Yes   Sat  Dinner     3\n",
       "142       40.29   5.00    Male     No  Thur   Lunch     5\n",
       "156       40.29   5.00    Male     No   Sun  Dinner     6\n",
       "170       40.29  10.00    Male    Yes   Sat  Dinner     3\n",
       "182       40.29   3.50    Male    Yes   Sun  Dinner     3\n",
       "184       40.29   3.00    Male    Yes   Sun  Dinner     2\n",
       "197       40.29   5.00  Female    Yes  Thur   Lunch     4\n",
       "212       40.29   9.00    Male     No   Sat  Dinner     4"
      ]
     },
     "execution_count": 139,
     "metadata": {},
     "output_type": "execute_result"
    }
   ],
   "source": [
    "df[df['total_bill']==40.29]"
   ]
  },
  {
   "cell_type": "code",
   "execution_count": 136,
   "id": "00ac9b2b",
   "metadata": {},
   "outputs": [],
   "source": [
    "##### np.where\n",
    "df['total_bill'] = np.where(df['total_bill']>40.29,40.29,df['total_bill'])"
   ]
  },
  {
   "cell_type": "code",
   "execution_count": 137,
   "id": "f0a415e7",
   "metadata": {
    "collapsed": true
   },
   "outputs": [
    {
     "data": {
      "text/plain": [
       "<Axes: xlabel='total_bill'>"
      ]
     },
     "execution_count": 137,
     "metadata": {},
     "output_type": "execute_result"
    },
    {
     "data": {
      "image/png": "[encoded data removed]",
      "text/plain": [
       "<Figure size 640x480 with 1 Axes>"
      ]
     },
     "metadata": {},
     "output_type": "display_data"
    }
   ],
   "source": [
    "###### Outliers are Imputed with the Upper Threshold Limit\n",
    "sns.boxplot(x = df['total_bill'])"
   ]
  },
  {
   "cell_type": "code",
   "execution_count": 141,
   "id": "6c874d81",
   "metadata": {
    "collapsed": true
   },
   "outputs": [
    {
     "data": {
      "text/plain": [
       "<Axes: xlabel='tip'>"
      ]
     },
     "execution_count": 141,
     "metadata": {},
     "output_type": "execute_result"
    },
    {
     "data": {
      "image/png": "[encoded data removed]",
      "text/plain": [
       "<Figure size 640x480 with 1 Axes>"
      ]
     },
     "metadata": {},
     "output_type": "display_data"
    }
   ],
   "source": [
    "sns.boxplot(x = df['tip'])"
   ]
  },
  {
   "cell_type": "code",
   "execution_count": 143,
   "id": "01fb03c1",
   "metadata": {
    "collapsed": true
   },
   "outputs": [
    {
     "data": {
      "text/plain": [
       "<seaborn.axisgrid.FacetGrid at 0x279b03986d0>"
      ]
     },
     "execution_count": 143,
     "metadata": {},
     "output_type": "execute_result"
    },
    {
     "data": {
      "image/png": "[encoded data removed]",
      "text/plain": [
       "<Figure size 500x500 with 1 Axes>"
      ]
     },
     "metadata": {},
     "output_type": "display_data"
    }
   ],
   "source": [
    "sns.displot(df['tip'])"
   ]
  },
  {
   "cell_type": "code",
   "execution_count": 144,
   "id": "fd89e286",
   "metadata": {},
   "outputs": [
    {
     "data": {
      "text/plain": [
       "1.4654510370979401"
      ]
     },
     "execution_count": 144,
     "metadata": {},
     "output_type": "execute_result"
    }
   ],
   "source": [
    "df['tip'].skew()"
   ]
  },
  {
   "cell_type": "code",
   "execution_count": 146,
   "id": "836ac420",
   "metadata": {
    "collapsed": true
   },
   "outputs": [
    {
     "data": {
      "text/plain": [
       "<seaborn.axisgrid.FacetGrid at 0x279affeab90>"
      ]
     },
     "execution_count": 146,
     "metadata": {},
     "output_type": "execute_result"
    },
    {
     "data": {
      "image/png": "[encoded data removed]",
      "text/plain": [
       "<Figure size 500x500 with 1 Axes>"
      ]
     },
     "metadata": {},
     "output_type": "display_data"
    }
   ],
   "source": [
    "sns.displot(df['total_bill'])"
   ]
  },
  {
   "cell_type": "code",
   "execution_count": 152,
   "id": "b6bc2701",
   "metadata": {},
   "outputs": [],
   "source": [
    "c = df[['total_bill','tip','size']].corr()"
   ]
  },
  {
   "cell_type": "code",
   "execution_count": 154,
   "id": "f0f0a50d",
   "metadata": {
    "collapsed": true
   },
   "outputs": [
    {
     "data": {
      "text/plain": [
       "<Axes: >"
      ]
     },
     "execution_count": 154,
     "metadata": {},
     "output_type": "execute_result"
    },
    {
     "data": {
      "image/png": "[encoded data removed]",
      "text/plain": [
       "<Figure size 640x480 with 2 Axes>"
      ]
     },
     "metadata": {},
     "output_type": "display_data"
    }
   ],
   "source": [
    "sns.heatmap(c,annot = True,cmap = 'RdBu')"
   ]
  },
  {
   "cell_type": "code",
   "execution_count": null,
   "id": "8ebab0cb",
   "metadata": {},
   "outputs": [],
   "source": [
    "###### All assignments related to Pandas, Tableau  -2 , 1 Assignment  - Data Analysis"
   ]
  }
 ],
 "metadata": {
  "kernelspec": {
   "display_name": "Python 3 (ipykernel)",
   "language": "python",
   "name": "python3"
  },
  "language_info": {
   "codemirror_mode": {
    "name": "ipython",
    "version": 3
   },
   "file_extension": ".py",
   "mimetype": "text/x-python",
   "name": "python",
   "nbconvert_exporter": "python",
   "pygments_lexer": "ipython3",
   "version": "3.11.3"
  }
 },
 "nbformat": 4,
 "nbformat_minor": 5
}
