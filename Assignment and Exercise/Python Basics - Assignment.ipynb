{
 "cells": [
  {
   "cell_type": "code",
   "execution_count": 16,
   "id": "69088366",
   "metadata": {},
   "outputs": [
    {
     "name": "stdout",
     "output_type": "stream",
     "text": [
      "how are you ?\n"
     ]
    }
   ],
   "source": [
    "##Simple Message: Store a message in a variable, and then print that message.\n",
    "\n",
    "a = \"how are you ?\"\n",
    "print(a)"
   ]
  },
  {
   "cell_type": "code",
   "execution_count": 17,
   "id": "cc7d1766",
   "metadata": {},
   "outputs": [
    {
     "name": "stdout",
     "output_type": "stream",
     "text": [
      "we are very good People\n",
      "Your are very better People\n"
     ]
    }
   ],
   "source": [
    "##Store a message in a variable and print that message. \n",
    "##Then change the value of your variable to a new message and print the new message.\n",
    "s = \"we are very good People\"\n",
    "print(s)\n",
    "s1 = s.replace(\"we\",\"Your\").replace(\"good\",\"better\")\n",
    "print(s1)"
   ]
  },
  {
   "cell_type": "code",
   "execution_count": 19,
   "id": "c2d593a5",
   "metadata": {},
   "outputs": [
    {
     "name": "stdout",
     "output_type": "stream",
     "text": [
      "Hello Eric, would you like to learn some Python today?\n"
     ]
    }
   ],
   "source": [
    "##Store a person’s name in a variable and print a message to that person. \n",
    "##Your message should be simple, such as, “Hello Eric, would you like to learn some Python today?”\n",
    "person_name = \"Eric\"\n",
    "message = f\"Hello {person_name}, would you like to learn some Python today?\"\n",
    "print(message)"
   ]
  },
  {
   "cell_type": "code",
   "execution_count": 23,
   "id": "1c41b1d0",
   "metadata": {},
   "outputs": [
    {
     "name": "stdout",
     "output_type": "stream",
     "text": [
      "Albert Einstein once said,“A person who never made a mistake never tried anything new.”\n"
     ]
    }
   ],
   "source": [
    "##Find a quote from a famous person you admire. Print the quote and the name of its author. \n",
    "##Your output should look something like the following, \n",
    "##including the quotation marks: Albert Einstein once said, “A person who never made a mistake never tried anything new.”\n",
    "\n",
    "v = \"Albert Einstein once said,\"\n",
    "v1 = \"“A person who never made a mistake never tried anything new.”\"\n",
    "print(v+v1)"
   ]
  },
  {
   "cell_type": "code",
   "execution_count": 25,
   "id": "5bffca80",
   "metadata": {},
   "outputs": [
    {
     "name": "stdout",
     "output_type": "stream",
     "text": [
      "Albert Einstein once said, \"A person who never made a mistake never tried anything new.\"\n"
     ]
    }
   ],
   "source": [
    "#Repeat Exercise 4, but this time store the famous person’s name in a \n",
    "##variable called famous_person. Then compose your message and store it in a new variable called message. Print your message.\n",
    "famous_person = \"Albert Einstein\"\n",
    "quote = \"A person who never made a mistake never tried anything new.\"\n",
    "message = f'{famous_person} once said, \"{quote}\"'\n",
    "print(message)\n"
   ]
  },
  {
   "cell_type": "code",
   "execution_count": 26,
   "id": "75a9205f",
   "metadata": {},
   "outputs": [
    {
     "name": "stdout",
     "output_type": "stream",
     "text": [
      "8\n",
      "8\n",
      "8\n",
      "8.0\n"
     ]
    }
   ],
   "source": [
    "##write addition, subtraction, multiplication, and division operations that each result in the number 8. \n",
    "##Be sure to enclose your operations in print statements to see the results. You should create four lines that look like this: print (5 + 3)\n",
    "##Your output should simply be four lines with the number 8 appearing once on each line\n",
    "\n",
    "# Addition\n",
    "print(5 + 3)  # Output: 8\n",
    "\n",
    "# Subtraction\n",
    "print(10 - 2)  # Output: 8\n",
    "\n",
    "# Multiplication\n",
    "print(4 * 2)  # Output: 8\n",
    "\n",
    "# Division\n",
    "print(16 / 2)  # Output: 8.0"
   ]
  },
  {
   "cell_type": "code",
   "execution_count": 27,
   "id": "c3059429",
   "metadata": {},
   "outputs": [
    {
     "name": "stdout",
     "output_type": "stream",
     "text": [
      "My favorite number is 42.\n"
     ]
    }
   ],
   "source": [
    "##Store your favourite number in a variable. Then, using that variable, create a message that reveals your favourite number.\n",
    "##Print that message\n",
    "\n",
    "favorite_number = 42\n",
    "message = f\"My favorite number is {favorite_number}.\"\n",
    "print(message)"
   ]
  },
  {
   "cell_type": "code",
   "execution_count": 28,
   "id": "8850e537",
   "metadata": {},
   "outputs": [
    {
     "name": "stdout",
     "output_type": "stream",
     "text": [
      "My name is Avinash and current date is 19/09/2023\n",
      "My favorite number is 42.\n",
      "8\n",
      "8\n",
      "8\n",
      "8.0\n"
     ]
    }
   ],
   "source": [
    "##Choose two of the programs you’ve written and add at least one comment to each. If you don’t have anything specific to write because your programs \n",
    "#are too simple at this point, just add your name and the current date at the top of each program file. Then write one sentence describing what the program does\n",
    "\n",
    "name = \"Avinash\"\n",
    "current_date = \"19/09/2023\"\n",
    "print(f\"My name is {name} and current date is {current_date}\")\n",
    "favorite_number = 42\n",
    "message = f\"My favorite number is {favorite_number}.\"\n",
    "print(message)\n",
    "\n",
    "# Addition\n",
    "print(5 + 3)  # Output: 8\n",
    "\n",
    "# Subtraction\n",
    "print(10 - 2)  # Output: 8\n",
    "\n",
    "# Multiplication\n",
    "print(4 * 2)  # Output: 8\n",
    "\n",
    "# Division\n",
    "print(16 / 2)  # Output: 8.0\n"
   ]
  },
  {
   "cell_type": "code",
   "execution_count": 31,
   "id": "2aeedd2d",
   "metadata": {},
   "outputs": [
    {
     "name": "stdout",
     "output_type": "stream",
     "text": [
      "Avinash\n",
      "Ajit\n",
      "Raju\n",
      "Suraj\n"
     ]
    }
   ],
   "source": [
    "##Store the names of a few of your friends in a list called names. Print each person’s name by accessing each element in the list, one at a time\n",
    "\n",
    "names = [\"Avinash\",\"Ajit\",\"Raju\",\"Suraj\"]\n",
    "\n",
    "for name in names:\n",
    "    print(name)"
   ]
  },
  {
   "cell_type": "code",
   "execution_count": 34,
   "id": "16930242",
   "metadata": {},
   "outputs": [
    {
     "name": "stdout",
     "output_type": "stream",
     "text": [
      "Hello, Avinash! I hope you're doing good.\n",
      "Hello, Ajit! I hope you're doing good.\n",
      "Hello, Raju! I hope you're doing good.\n",
      "Hello, Suraj! I hope you're doing good.\n"
     ]
    }
   ],
   "source": [
    "##Start with the list you used in Exercise 9, but instead of just printing each person’s name, print a message to them. The text of each message should \n",
    "##be the same, but each message should be personalized with the person’s name.\n",
    "\n",
    "names = [\"Avinash\",\"Ajit\",\"Raju\",\"Suraj\"]\n",
    "\n",
    "message_template = \"Hello, {}! I hope you're doing good.\"\n",
    "\n",
    "for name in names:\n",
    "    personalized_message = message_template.format(name)\n",
    "    print(personalized_message)"
   ]
  },
  {
   "cell_type": "code",
   "execution_count": 35,
   "id": "d00ba161",
   "metadata": {},
   "outputs": [
    {
     "name": "stdout",
     "output_type": "stream",
     "text": [
      "I would like to own a Honda car.\n",
      "I would like to own a Toyota car.\n",
      "I would like to own a Ford car.\n",
      "I would like to own a BMW car.\n",
      "I would like to own a Tesla car.\n"
     ]
    }
   ],
   "source": [
    "#Think of your favourite mode of transportation, such as a motorcycle or a car, and make a list that stores several examples. Use your list to print a \n",
    "#series of statements about these items, such as “I would like to own a Honda motorcycle.”\n",
    "car_brands = [\"Honda\", \"Toyota\", \"Ford\", \"BMW\", \"Tesla\"]\n",
    "\n",
    "for brand in car_brands:\n",
    "    print(f\"I would like to own a {brand} car.\")"
   ]
  },
  {
   "cell_type": "code",
   "execution_count": null,
   "id": "b1334c02",
   "metadata": {},
   "outputs": [],
   "source": []
  }
 ],
 "metadata": {
  "kernelspec": {
   "display_name": "Python 3 (ipykernel)",
   "language": "python",
   "name": "python3"
  },
  "language_info": {
   "codemirror_mode": {
    "name": "ipython",
    "version": 3
   },
   "file_extension": ".py",
   "mimetype": "text/x-python",
   "name": "python",
   "nbconvert_exporter": "python",
   "pygments_lexer": "ipython3",
   "version": "3.11.4"
  }
 },
 "nbformat": 4,
 "nbformat_minor": 5
}
