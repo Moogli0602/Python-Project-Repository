{
 "cells": [
  {
   "cell_type": "code",
   "execution_count": 3,
   "id": "1c9a1d24",
   "metadata": {},
   "outputs": [],
   "source": [
    "# #### Set \n",
    "# if you want to represent a group of unique values as a single entity,\n",
    "# then we should go for set\n",
    "# Duplicates are not allowed\n",
    "# Insertion ordere is not preserved, we can sort\n",
    "# Indexing and slicing are not allowed\n",
    "# set objects are mutable once we create set objects we can perform changes\n",
    "# {} - It should be filled with values\n",
    "# You can mathematical opertions like union, intersection, diffference etc on set objects."
   ]
  },
  {
   "cell_type": "code",
   "execution_count": 6,
   "id": "43b63bb8",
   "metadata": {},
   "outputs": [
    {
     "name": "stdout",
     "output_type": "stream",
     "text": [
      "{1, 2, 3, 4, 5}\n",
      "<class 'set'>\n"
     ]
    }
   ],
   "source": [
    "s = {1,2,3,4,5}\n",
    "print(s)\n",
    "print(type(s))"
   ]
  },
  {
   "cell_type": "code",
   "execution_count": 9,
   "id": "9f2ff44d",
   "metadata": {},
   "outputs": [
    {
     "name": "stdout",
     "output_type": "stream",
     "text": [
      "{56, 90, 78}\n"
     ]
    }
   ],
   "source": [
    "s = set([56,78,90, 90])\n",
    "print(s)"
   ]
  },
  {
   "cell_type": "code",
   "execution_count": 12,
   "id": "87e5d69b",
   "metadata": {},
   "outputs": [
    {
     "ename": "TypeError",
     "evalue": "'set' object is not subscriptable",
     "output_type": "error",
     "traceback": [
      "\u001b[1;31m---------------------------------------------------------------------------\u001b[0m",
      "\u001b[1;31mTypeError\u001b[0m                                 Traceback (most recent call last)",
      "Cell \u001b[1;32mIn[12], line 1\u001b[0m\n\u001b[1;32m----> 1\u001b[0m s[\u001b[38;5;241m0\u001b[39m:\u001b[38;5;241m2\u001b[39m]\n",
      "\u001b[1;31mTypeError\u001b[0m: 'set' object is not subscriptable"
     ]
    }
   ],
   "source": [
    "s[0:2]"
   ]
  },
  {
   "cell_type": "code",
   "execution_count": 10,
   "id": "3375062a",
   "metadata": {},
   "outputs": [
    {
     "name": "stdout",
     "output_type": "stream",
     "text": [
      "<class 'list'>\n"
     ]
    }
   ],
   "source": [
    "l = [20,30,40,50]\n",
    "print(type(l))"
   ]
  },
  {
   "cell_type": "code",
   "execution_count": 11,
   "id": "4c18aea5",
   "metadata": {},
   "outputs": [
    {
     "name": "stdout",
     "output_type": "stream",
     "text": [
      "(20, 30, 40, 50)\n"
     ]
    }
   ],
   "source": [
    "t = tuple(l)\n",
    "print(t)"
   ]
  },
  {
   "cell_type": "code",
   "execution_count": 13,
   "id": "6797dbd2",
   "metadata": {},
   "outputs": [],
   "source": [
    "##### Important Functions of Set - \n",
    "# 1. add(x)\n",
    "# add items x to the set\n",
    "s.add(\"Rahul\")"
   ]
  },
  {
   "cell_type": "code",
   "execution_count": 14,
   "id": "4eadbf00",
   "metadata": {},
   "outputs": [
    {
     "name": "stdout",
     "output_type": "stream",
     "text": [
      "{56, 90, 78, 'Rahul'}\n"
     ]
    }
   ],
   "source": [
    "print(s)"
   ]
  },
  {
   "cell_type": "code",
   "execution_count": 15,
   "id": "df335f53",
   "metadata": {},
   "outputs": [
    {
     "name": "stdout",
     "output_type": "stream",
     "text": [
      "{40, 10, 20, 30}\n"
     ]
    }
   ],
   "source": [
    "### 2. update (x,y,z)\n",
    "# To add multiple items to the set\n",
    "# It should be either in list or in range\n",
    "\n",
    "s1 = {10,20,30,40}\n",
    "print(s1)"
   ]
  },
  {
   "cell_type": "code",
   "execution_count": 16,
   "id": "e178be4e",
   "metadata": {},
   "outputs": [
    {
     "name": "stdout",
     "output_type": "stream",
     "text": [
      "[90, 80, 70, 60, 50, 40]\n"
     ]
    }
   ],
   "source": [
    "l = [90,80,70,60,50,40]\n",
    "print(l)"
   ]
  },
  {
   "cell_type": "code",
   "execution_count": 17,
   "id": "496f14fa",
   "metadata": {},
   "outputs": [
    {
     "name": "stdout",
     "output_type": "stream",
     "text": [
      "{70, 40, 10, 80, 50, 20, 90, 60, 30}\n"
     ]
    }
   ],
   "source": [
    "s1.update(l)\n",
    "print(s1)"
   ]
  },
  {
   "cell_type": "code",
   "execution_count": 19,
   "id": "5a276eeb",
   "metadata": {},
   "outputs": [],
   "source": [
    "s2 = {\"Rahul\", \"Sonali\"}\n",
    "s1.update(s2)"
   ]
  },
  {
   "cell_type": "code",
   "execution_count": 20,
   "id": "43cd5510",
   "metadata": {},
   "outputs": [
    {
     "name": "stdout",
     "output_type": "stream",
     "text": [
      "{70, 40, 10, 80, 50, 20, 'Rahul', 90, 60, 'Sonali', 30}\n"
     ]
    }
   ],
   "source": [
    "print(s1)"
   ]
  },
  {
   "cell_type": "code",
   "execution_count": 18,
   "id": "072da9d8",
   "metadata": {},
   "outputs": [
    {
     "name": "stdout",
     "output_type": "stream",
     "text": [
      "{70, 40, 10, 80, 50, 20, 90, 60, 30}\n"
     ]
    }
   ],
   "source": [
    "#### 3. Copy()\n",
    "### Cloning \n",
    "p = s1.copy()\n",
    "print(p)"
   ]
  },
  {
   "cell_type": "code",
   "execution_count": 21,
   "id": "f4879bed",
   "metadata": {},
   "outputs": [
    {
     "name": "stdout",
     "output_type": "stream",
     "text": [
      "{40, 10, 80, 50, 20, 'Rahul', 90, 60, 'Sonali', 30}\n"
     ]
    }
   ],
   "source": [
    "#### 4. pop() It will remove random element from the set\n",
    "s1.pop()\n",
    "print(s1)"
   ]
  },
  {
   "cell_type": "code",
   "execution_count": 22,
   "id": "65c4831d",
   "metadata": {},
   "outputs": [
    {
     "data": {
      "text/plain": [
       "40"
      ]
     },
     "execution_count": 22,
     "metadata": {},
     "output_type": "execute_result"
    }
   ],
   "source": [
    "s1.pop()"
   ]
  },
  {
   "cell_type": "code",
   "execution_count": 23,
   "id": "54a9e965",
   "metadata": {},
   "outputs": [
    {
     "data": {
      "text/plain": [
       "{10, 20, 30, 50, 60, 80, 90, 'Rahul', 'Sonali'}"
      ]
     },
     "execution_count": 23,
     "metadata": {},
     "output_type": "execute_result"
    }
   ],
   "source": [
    "s1"
   ]
  },
  {
   "cell_type": "code",
   "execution_count": 24,
   "id": "a37f7a9f",
   "metadata": {},
   "outputs": [
    {
     "name": "stdout",
     "output_type": "stream",
     "text": [
      "{80, 90, 60}\n"
     ]
    },
    {
     "ename": "KeyError",
     "evalue": "100",
     "output_type": "error",
     "traceback": [
      "\u001b[1;31m---------------------------------------------------------------------------\u001b[0m",
      "\u001b[1;31mKeyError\u001b[0m                                  Traceback (most recent call last)",
      "Cell \u001b[1;32mIn[24], line 6\u001b[0m\n\u001b[0;32m      4\u001b[0m s\u001b[38;5;241m.\u001b[39mremove(\u001b[38;5;241m70\u001b[39m)\n\u001b[0;32m      5\u001b[0m \u001b[38;5;28mprint\u001b[39m(s)\n\u001b[1;32m----> 6\u001b[0m s\u001b[38;5;241m.\u001b[39mremove(\u001b[38;5;241m100\u001b[39m)\n",
      "\u001b[1;31mKeyError\u001b[0m: 100"
     ]
    }
   ],
   "source": [
    "### 5. remove() It removes sepecified element from the set\n",
    "\n",
    "s = {90,80,70,60}\n",
    "s.remove(70)\n",
    "print(s)\n",
    "s.remove(100)"
   ]
  },
  {
   "cell_type": "code",
   "execution_count": 25,
   "id": "67d8fb17",
   "metadata": {},
   "outputs": [
    {
     "name": "stdout",
     "output_type": "stream",
     "text": [
      "{2, 4, 6, 7, 9}\n"
     ]
    }
   ],
   "source": [
    "t = {6,4,2,7,9}\n",
    "print(t)"
   ]
  },
  {
   "cell_type": "code",
   "execution_count": 26,
   "id": "4e2bd4e4",
   "metadata": {},
   "outputs": [
    {
     "data": {
      "text/plain": [
       "{7, 9}"
      ]
     },
     "execution_count": 26,
     "metadata": {},
     "output_type": "execute_result"
    }
   ],
   "source": [
    "rm = [2,4,6]\n",
    "\n",
    "r = t - set(rm)\n",
    "r"
   ]
  },
  {
   "cell_type": "code",
   "execution_count": 28,
   "id": "95ac021e",
   "metadata": {},
   "outputs": [
    {
     "name": "stdout",
     "output_type": "stream",
     "text": [
      "{80, 90, 60}\n"
     ]
    }
   ],
   "source": [
    "#### 6. discard ##### It remove specified item from the set\n",
    "s = {90,80,70,60}\n",
    "s.discard(70)\n",
    "print(s)\n",
    "s.discard(100)"
   ]
  },
  {
   "cell_type": "code",
   "execution_count": 29,
   "id": "59f5317c",
   "metadata": {},
   "outputs": [
    {
     "name": "stdout",
     "output_type": "stream",
     "text": [
      "{40, 10, 20, 30}\n"
     ]
    }
   ],
   "source": [
    "### Clear () To remove all elements from set\n",
    "s = {10,20,30,40}\n",
    "print(s)"
   ]
  },
  {
   "cell_type": "code",
   "execution_count": 30,
   "id": "6dd64f92",
   "metadata": {},
   "outputs": [
    {
     "name": "stdout",
     "output_type": "stream",
     "text": [
      "set()\n"
     ]
    }
   ],
   "source": [
    "s.clear()\n",
    "print(s)"
   ]
  },
  {
   "cell_type": "code",
   "execution_count": 37,
   "id": "baf873b7",
   "metadata": {},
   "outputs": [
    {
     "name": "stdout",
     "output_type": "stream",
     "text": [
      "{50, 20, 40, 10, 30, 'Rahul'}\n"
     ]
    }
   ],
   "source": [
    "##### Mathematical Operations on Set ---\n",
    "###  1. union() ### x.union(y) or x|y\n",
    "### we can use this function to return all elements present in both sets\n",
    "x = {10,20,30}\n",
    "y = {30,40,50,\"Rahul\"}\n",
    "z = x.union(y)\n",
    "print(z)"
   ]
  },
  {
   "cell_type": "code",
   "execution_count": 36,
   "id": "5e567723",
   "metadata": {},
   "outputs": [
    {
     "name": "stdout",
     "output_type": "stream",
     "text": [
      "{50, 20, 40, 10, 30, 'Rahul'}\n"
     ]
    }
   ],
   "source": [
    "print(x)"
   ]
  },
  {
   "cell_type": "code",
   "execution_count": 38,
   "id": "f9057065",
   "metadata": {},
   "outputs": [
    {
     "data": {
      "text/plain": [
       "{30}"
      ]
     },
     "execution_count": 38,
     "metadata": {},
     "output_type": "execute_result"
    }
   ],
   "source": [
    "#### 2. Intersection\n",
    "### x.intersection(y) or x&y\n",
    "### RReturns common element present in both x and y\n",
    "x.intersection(y)"
   ]
  },
  {
   "cell_type": "code",
   "execution_count": 40,
   "id": "708c77df",
   "metadata": {},
   "outputs": [
    {
     "name": "stdout",
     "output_type": "stream",
     "text": [
      "{50, 60}\n"
     ]
    }
   ],
   "source": [
    "#### 3. Difference\n",
    "#### x.differeence(y) or x -y\n",
    "##### returns the element present in x but not in y\n",
    "x = {10,20,30,40}\n",
    "y = {30,40,50,60}\n",
    "print(y.difference(x))"
   ]
  },
  {
   "cell_type": "code",
   "execution_count": 41,
   "id": "28cd240d",
   "metadata": {},
   "outputs": [
    {
     "name": "stdout",
     "output_type": "stream",
     "text": [
      "{10, 50, 20, 60}\n"
     ]
    }
   ],
   "source": [
    "####4. Symmetric Difference\n",
    "#### x.symmetric_difference(y) or x^y\n",
    "#### returns element present in either x or y but not in both\n",
    "x = {10,20,30,40}\n",
    "y = {30,40,50,60}\n",
    "print(x.symmetric_difference(y))"
   ]
  },
  {
   "cell_type": "code",
   "execution_count": 47,
   "id": "4f4e4bc0",
   "metadata": {},
   "outputs": [
    {
     "name": "stdout",
     "output_type": "stream",
     "text": [
      "{'i', 'o', 'n', 'a', 'l', 'S'}\n"
     ]
    }
   ],
   "source": [
    "#### Membership Operators in Set (in and not in)\n",
    "s = set(\"Sonali\")  ##### Another way of Tokenizing of words\n",
    "print(s)"
   ]
  },
  {
   "cell_type": "code",
   "execution_count": 45,
   "id": "1f06db8f",
   "metadata": {},
   "outputs": [
    {
     "name": "stdout",
     "output_type": "stream",
     "text": [
      "True\n"
     ]
    }
   ],
   "source": [
    "print('k' not in s)"
   ]
  },
  {
   "cell_type": "code",
   "execution_count": 48,
   "id": "d5035989",
   "metadata": {},
   "outputs": [],
   "source": [
    "##### Dictionary Data Structure\n",
    "#### we can use listm tuple, set to represent group mof individual objects \n",
    "###if you want to create group of obejcts as key and value pairs then we should go for dict\n",
    "# name - \"Sonali\"\n",
    "# age - 27\n",
    "\n",
    "#### Dupliate keys are not allowed but values can be duplicated\n",
    "#### Hetrogenous objects are allowed for both key and value\n",
    "#### Insertion order is not preserved\n",
    "#### Dictionaries are Mutable objects\n",
    "### Dictionaries are Dynamic\n",
    "##### Indexing and slicing are not applicable"
   ]
  },
  {
   "cell_type": "code",
   "execution_count": 49,
   "id": "c2e54a1a",
   "metadata": {},
   "outputs": [
    {
     "name": "stdout",
     "output_type": "stream",
     "text": [
      "{}\n",
      "<class 'dict'>\n"
     ]
    }
   ],
   "source": [
    "d = {}\n",
    "print(d)\n",
    "print(type(d))"
   ]
  },
  {
   "cell_type": "code",
   "execution_count": 50,
   "id": "065ee523",
   "metadata": {},
   "outputs": [
    {
     "name": "stdout",
     "output_type": "stream",
     "text": [
      "{1: 'rahul', 2: 'Rohan', 3: 'sheetal'}\n"
     ]
    }
   ],
   "source": [
    "d  = {1 : 'rahul', 2: 'Rohan', 3:'sheetal'}\n",
    "print(d)"
   ]
  },
  {
   "cell_type": "code",
   "execution_count": 51,
   "id": "acbd96c4",
   "metadata": {},
   "outputs": [
    {
     "data": {
      "text/plain": [
       "'rahul'"
      ]
     },
     "execution_count": 51,
     "metadata": {},
     "output_type": "execute_result"
    }
   ],
   "source": [
    "d[1]"
   ]
  },
  {
   "cell_type": "code",
   "execution_count": 52,
   "id": "26afc730",
   "metadata": {},
   "outputs": [
    {
     "data": {
      "text/plain": [
       "'sheetal'"
      ]
     },
     "execution_count": 52,
     "metadata": {},
     "output_type": "execute_result"
    }
   ],
   "source": [
    "d[3]"
   ]
  },
  {
   "cell_type": "code",
   "execution_count": 53,
   "id": "29deeecf",
   "metadata": {},
   "outputs": [],
   "source": [
    "d[4] = \"Bose\""
   ]
  },
  {
   "cell_type": "code",
   "execution_count": 54,
   "id": "15d3c47e",
   "metadata": {},
   "outputs": [
    {
     "data": {
      "text/plain": [
       "{1: 'rahul', 2: 'Rohan', 3: 'sheetal', 4: 'Bose'}"
      ]
     },
     "execution_count": 54,
     "metadata": {},
     "output_type": "execute_result"
    }
   ],
   "source": [
    "d"
   ]
  },
  {
   "cell_type": "code",
   "execution_count": 55,
   "id": "1ce90e3e",
   "metadata": {
    "collapsed": true
   },
   "outputs": [
    {
     "ename": "KeyError",
     "evalue": "9",
     "output_type": "error",
     "traceback": [
      "\u001b[1;31m---------------------------------------------------------------------------\u001b[0m",
      "\u001b[1;31mKeyError\u001b[0m                                  Traceback (most recent call last)",
      "Cell \u001b[1;32mIn[55], line 1\u001b[0m\n\u001b[1;32m----> 1\u001b[0m d[\u001b[38;5;241m9\u001b[39m]\n",
      "\u001b[1;31mKeyError\u001b[0m: 9"
     ]
    }
   ],
   "source": [
    "d[9] b #### you can only access data based on avaiable keys"
   ]
  },
  {
   "cell_type": "code",
   "execution_count": 56,
   "id": "c4ed4ac2",
   "metadata": {},
   "outputs": [
    {
     "name": "stdout",
     "output_type": "stream",
     "text": [
      "{1: 'rahul', 2: 'Rohan', 3: 'sheetal'}\n"
     ]
    }
   ],
   "source": [
    "del d[4]\n",
    "print(d)"
   ]
  },
  {
   "cell_type": "code",
   "execution_count": 57,
   "id": "730a5aaf",
   "metadata": {},
   "outputs": [
    {
     "name": "stdout",
     "output_type": "stream",
     "text": [
      "{1: 'rahul', 2: 'Rohan', 3: 'sheetal', 5: 'John'}\n"
     ]
    }
   ],
   "source": [
    "d[5] = \"John\"\n",
    "print(d)"
   ]
  },
  {
   "cell_type": "code",
   "execution_count": 58,
   "id": "95a47239",
   "metadata": {},
   "outputs": [
    {
     "data": {
      "text/plain": [
       "{23: 'ABC', 89: 'DEF'}"
      ]
     },
     "execution_count": 58,
     "metadata": {},
     "output_type": "execute_result"
    }
   ],
   "source": [
    "s = {23 : 'ABC', 89: 'DEF'}\n",
    "s"
   ]
  },
  {
   "cell_type": "code",
   "execution_count": 59,
   "id": "148b081e",
   "metadata": {},
   "outputs": [
    {
     "name": "stdout",
     "output_type": "stream",
     "text": [
      "{1: 'rahul', 2: 'Rohan', 3: 'sheetal', 5: 'John', 23: 'ABC', 89: 'DEF'}\n"
     ]
    }
   ],
   "source": [
    "d.update(s)\n",
    "print(d)"
   ]
  },
  {
   "cell_type": "code",
   "execution_count": 61,
   "id": "e072ee93",
   "metadata": {},
   "outputs": [
    {
     "name": "stdout",
     "output_type": "stream",
     "text": [
      "{'name': 'Ram'}\n"
     ]
    }
   ],
   "source": [
    "n = {'name' : 'Ram'}\n",
    "print(n)"
   ]
  },
  {
   "cell_type": "code",
   "execution_count": 62,
   "id": "f5a596ee",
   "metadata": {},
   "outputs": [
    {
     "name": "stdout",
     "output_type": "stream",
     "text": [
      "{'name': ['Rahul', 'Rohan', 'Sita'], 'Age': [12, 25, 26]}\n"
     ]
    }
   ],
   "source": [
    "n = {'name':['Rahul', \"Rohan\", \"Sita\"], 'Age':[12,25,26]}\n",
    "print(n)"
   ]
  },
  {
   "cell_type": "code",
   "execution_count": 63,
   "id": "fdc7eacc",
   "metadata": {},
   "outputs": [
    {
     "name": "stdout",
     "output_type": "stream",
     "text": [
      "{}\n"
     ]
    }
   ],
   "source": [
    "n.clear()\n",
    "print(n)"
   ]
  },
  {
   "cell_type": "code",
   "execution_count": 64,
   "id": "e93769ae",
   "metadata": {},
   "outputs": [
    {
     "data": {
      "text/plain": [
       "6"
      ]
     },
     "execution_count": 64,
     "metadata": {},
     "output_type": "execute_result"
    }
   ],
   "source": [
    "len(d)"
   ]
  },
  {
   "cell_type": "code",
   "execution_count": 66,
   "id": "48a0c5b9",
   "metadata": {},
   "outputs": [
    {
     "data": {
      "text/plain": [
       "dict_keys([1, 2, 3, 5, 23, 89])"
      ]
     },
     "execution_count": 66,
     "metadata": {},
     "output_type": "execute_result"
    }
   ],
   "source": [
    "d.keys()"
   ]
  },
  {
   "cell_type": "code",
   "execution_count": 67,
   "id": "9267f25f",
   "metadata": {},
   "outputs": [
    {
     "data": {
      "text/plain": [
       "dict_values(['rahul', 'Rohan', 'sheetal', 'John', 'ABC', 'DEF'])"
      ]
     },
     "execution_count": 67,
     "metadata": {},
     "output_type": "execute_result"
    }
   ],
   "source": [
    "d.values()"
   ]
  },
  {
   "cell_type": "code",
   "execution_count": 68,
   "id": "eb97fb95",
   "metadata": {},
   "outputs": [
    {
     "data": {
      "text/plain": [
       "dict_items([(1, 'rahul'), (2, 'Rohan'), (3, 'sheetal'), (5, 'John'), (23, 'ABC'), (89, 'DEF')])"
      ]
     },
     "execution_count": 68,
     "metadata": {},
     "output_type": "execute_result"
    }
   ],
   "source": [
    "d.items()"
   ]
  },
  {
   "cell_type": "code",
   "execution_count": 69,
   "id": "43a26a5d",
   "metadata": {},
   "outputs": [
    {
     "data": {
      "text/plain": [
       "'Rohan'"
      ]
     },
     "execution_count": 69,
     "metadata": {},
     "output_type": "execute_result"
    }
   ],
   "source": [
    "#### pop (key)\n",
    "d.pop(2)"
   ]
  },
  {
   "cell_type": "code",
   "execution_count": 70,
   "id": "f15b09c5",
   "metadata": {},
   "outputs": [
    {
     "data": {
      "text/plain": [
       "{1: 'rahul', 3: 'sheetal', 5: 'John', 23: 'ABC', 89: 'DEF'}"
      ]
     },
     "execution_count": 70,
     "metadata": {},
     "output_type": "execute_result"
    }
   ],
   "source": [
    "d"
   ]
  },
  {
   "cell_type": "code",
   "execution_count": 71,
   "id": "60037430",
   "metadata": {},
   "outputs": [
    {
     "data": {
      "text/plain": [
       "(89, 'DEF')"
      ]
     },
     "execution_count": 71,
     "metadata": {},
     "output_type": "execute_result"
    }
   ],
   "source": [
    "###  popitem   It removes any arbitary elements from the dictionary\n",
    "d.popitem()"
   ]
  },
  {
   "cell_type": "code",
   "execution_count": 72,
   "id": "e543feac",
   "metadata": {},
   "outputs": [
    {
     "data": {
      "text/plain": [
       "{1: 'rahul', 3: 'sheetal', 5: 'John', 23: 'ABC'}"
      ]
     },
     "execution_count": 72,
     "metadata": {},
     "output_type": "execute_result"
    }
   ],
   "source": [
    "d"
   ]
  },
  {
   "cell_type": "code",
   "execution_count": 73,
   "id": "cc137b40",
   "metadata": {},
   "outputs": [
    {
     "data": {
      "text/plain": [
       "{1: 'rahul', 3: 'sheetal', 5: 'John', 23: 'ABC'}"
      ]
     },
     "execution_count": 73,
     "metadata": {},
     "output_type": "execute_result"
    }
   ],
   "source": [
    "e  = d.copy()\n",
    "e"
   ]
  },
  {
   "cell_type": "code",
   "execution_count": 75,
   "id": "7a74500a",
   "metadata": {},
   "outputs": [
    {
     "data": {
      "text/plain": [
       "[0, 1, 2, 3, 4]"
      ]
     },
     "execution_count": 75,
     "metadata": {},
     "output_type": "execute_result"
    }
   ],
   "source": [
    "#### Range - We can create range of values - \n",
    "list(range(5))"
   ]
  },
  {
   "cell_type": "code",
   "execution_count": 77,
   "id": "2f7528c4",
   "metadata": {},
   "outputs": [
    {
     "data": {
      "text/plain": [
       "[1, 3, 5, 7, 9, 11, 13, 15, 17, 19, 21, 23]"
      ]
     },
     "execution_count": 77,
     "metadata": {},
     "output_type": "execute_result"
    }
   ],
   "source": [
    "list(range(1,25,2))"
   ]
  },
  {
   "cell_type": "code",
   "execution_count": 79,
   "id": "f853c0bc",
   "metadata": {},
   "outputs": [
    {
     "name": "stdout",
     "output_type": "stream",
     "text": [
      "1\n",
      "4\n",
      "7\n",
      "10\n",
      "13\n"
     ]
    }
   ],
   "source": [
    "for a in range(1,15,3):  ### start, end, step\n",
    "    print(a)"
   ]
  },
  {
   "cell_type": "code",
   "execution_count": 80,
   "id": "1a8012cc",
   "metadata": {},
   "outputs": [
    {
     "name": "stdout",
     "output_type": "stream",
     "text": [
      "None\n"
     ]
    }
   ],
   "source": [
    "##### None nothing No values are associated\n",
    "### if the value isw not available, then to handle such type of cases None are introduced.\n",
    "a = None\n",
    "print(a)"
   ]
  },
  {
   "cell_type": "code",
   "execution_count": 83,
   "id": "120957d2",
   "metadata": {},
   "outputs": [
    {
     "name": "stdout",
     "output_type": "stream",
     "text": [
      "Rahul is a good boy\n",
      ", he plays very well\n",
      "Rahul is a good boy\t he plays very well\n"
     ]
    }
   ],
   "source": [
    "##### Escape Characters\n",
    "### \\n == New Line\n",
    "print(\"Rahul is a good boy\\n, he plays very well\")\n",
    "#### \\t  == Horizontal Tab\n",
    "print(\"Rahul is a good boy\\t he plays very well\")\n"
   ]
  },
  {
   "cell_type": "code",
   "execution_count": 85,
   "id": "b5c8cd9a",
   "metadata": {},
   "outputs": [
    {
     "name": "stdout",
     "output_type": "stream",
     "text": [
      "13\n",
      "7\n",
      "30\n",
      "3.3333333333333335\n",
      "1\n",
      "3\n",
      "1000\n"
     ]
    }
   ],
   "source": [
    "### Operators in Python\n",
    "### 1. Arithmetic Operators\n",
    "#### + , - , * , / , %, // , **\n",
    "a = 10\n",
    "b = 3\n",
    "print(a+b)\n",
    "print(a-b)\n",
    "print(a*b)\n",
    "print(a/b)\n",
    "print(a%b)   ### Reminder \n",
    "print(a//b)   ##### Floor\n",
    "print(a**b)"
   ]
  },
  {
   "cell_type": "code",
   "execution_count": 86,
   "id": "3c834387",
   "metadata": {},
   "outputs": [],
   "source": [
    "#### In string there are 2 operator + and *"
   ]
  },
  {
   "cell_type": "code",
   "execution_count": 89,
   "id": "92943505",
   "metadata": {},
   "outputs": [
    {
     "name": "stdout",
     "output_type": "stream",
     "text": [
      "False\n",
      "False\n",
      "True\n",
      "True\n"
     ]
    }
   ],
   "source": [
    "#### Relational Operators (>, >= , < ,<=)\n",
    "a = 10\n",
    "b = 20\n",
    "print(a>b)\n",
    "print(a>=b)\n",
    "print(a<b)\n",
    "print(a<=b)"
   ]
  },
  {
   "cell_type": "code",
   "execution_count": 90,
   "id": "4101d247",
   "metadata": {},
   "outputs": [],
   "source": [
    "#### Bool Data TYpe\n",
    "#### True and False"
   ]
  },
  {
   "cell_type": "code",
   "execution_count": 91,
   "id": "18110f1a",
   "metadata": {},
   "outputs": [
    {
     "name": "stdout",
     "output_type": "stream",
     "text": [
      "2\n"
     ]
    }
   ],
   "source": [
    "#### In Python True represents as 1 and False represents as 0\n",
    "a = True\n",
    "b = True\n",
    "print(a+b)"
   ]
  },
  {
   "cell_type": "code",
   "execution_count": 92,
   "id": "1bae0b38",
   "metadata": {},
   "outputs": [
    {
     "name": "stdout",
     "output_type": "stream",
     "text": [
      "False\n"
     ]
    }
   ],
   "source": [
    "print(True > True)"
   ]
  },
  {
   "cell_type": "code",
   "execution_count": 93,
   "id": "b00aaf9a",
   "metadata": {},
   "outputs": [
    {
     "name": "stdout",
     "output_type": "stream",
     "text": [
      "True\n"
     ]
    }
   ],
   "source": [
    "print(True >= True)"
   ]
  },
  {
   "cell_type": "code",
   "execution_count": 95,
   "id": "052a04bc",
   "metadata": {},
   "outputs": [
    {
     "name": "stdout",
     "output_type": "stream",
     "text": [
      "False\n"
     ]
    }
   ],
   "source": [
    "print(0 > True)"
   ]
  },
  {
   "cell_type": "code",
   "execution_count": 97,
   "id": "4b4a9986",
   "metadata": {},
   "outputs": [
    {
     "name": "stdout",
     "output_type": "stream",
     "text": [
      "False\n"
     ]
    }
   ],
   "source": [
    "print(True != True)"
   ]
  },
  {
   "cell_type": "code",
   "execution_count": 98,
   "id": "ad38c63b",
   "metadata": {},
   "outputs": [],
   "source": [
    "#### Logical operators and , or , not"
   ]
  },
  {
   "cell_type": "code",
   "execution_count": 99,
   "id": "fccd1a6c",
   "metadata": {},
   "outputs": [],
   "source": [
    "# and  =  if both arguments are True then the results are True\n",
    "# or = if atleast one argument is True then result is True\n",
    "# not  = complement"
   ]
  },
  {
   "cell_type": "code",
   "execution_count": 101,
   "id": "c0d8eac2",
   "metadata": {},
   "outputs": [
    {
     "data": {
      "text/plain": [
       "True"
      ]
     },
     "execution_count": 101,
     "metadata": {},
     "output_type": "execute_result"
    }
   ],
   "source": [
    "True and True"
   ]
  },
  {
   "cell_type": "code",
   "execution_count": 102,
   "id": "451296e2",
   "metadata": {},
   "outputs": [
    {
     "data": {
      "text/plain": [
       "True"
      ]
     },
     "execution_count": 102,
     "metadata": {},
     "output_type": "execute_result"
    }
   ],
   "source": [
    "True or False"
   ]
  },
  {
   "cell_type": "code",
   "execution_count": 105,
   "id": "d3dc2527",
   "metadata": {},
   "outputs": [
    {
     "data": {
      "text/plain": [
       "False"
      ]
     },
     "execution_count": 105,
     "metadata": {},
     "output_type": "execute_result"
    }
   ],
   "source": [
    "not True"
   ]
  },
  {
   "cell_type": "code",
   "execution_count": 106,
   "id": "719ce24a",
   "metadata": {},
   "outputs": [
    {
     "data": {
      "text/plain": [
       "20"
      ]
     },
     "execution_count": 106,
     "metadata": {},
     "output_type": "execute_result"
    }
   ],
   "source": [
    "### if the 1st argumen tis 0, then the rsult is zero other wise the result i y\n",
    "10 and 20"
   ]
  },
  {
   "cell_type": "code",
   "execution_count": 107,
   "id": "782b0304",
   "metadata": {},
   "outputs": [
    {
     "data": {
      "text/plain": [
       "0"
      ]
     },
     "execution_count": 107,
     "metadata": {},
     "output_type": "execute_result"
    }
   ],
   "source": [
    "0 and 20"
   ]
  },
  {
   "cell_type": "code",
   "execution_count": 108,
   "id": "cce169a2",
   "metadata": {},
   "outputs": [
    {
     "data": {
      "text/plain": [
       "10"
      ]
     },
     "execution_count": 108,
     "metadata": {},
     "output_type": "execute_result"
    }
   ],
   "source": [
    "#### x or y\n",
    "### if x is true then the result is x other wise result is y\n",
    "10 or 20"
   ]
  },
  {
   "cell_type": "code",
   "execution_count": 109,
   "id": "f2a4b4b4",
   "metadata": {},
   "outputs": [
    {
     "data": {
      "text/plain": [
       "20"
      ]
     },
     "execution_count": 109,
     "metadata": {},
     "output_type": "execute_result"
    }
   ],
   "source": [
    "0 or 20"
   ]
  },
  {
   "cell_type": "code",
   "execution_count": 110,
   "id": "1907d02f",
   "metadata": {},
   "outputs": [],
   "source": [
    "##### Modules in Python  - Modules are bascially packages which stores differnt dunctions related\n",
    "#### to that module\n",
    "#### import module_name\n",
    "#### from module_name import functions\n",
    "#### import module_name as alias"
   ]
  },
  {
   "cell_type": "code",
   "execution_count": 114,
   "id": "88d83550",
   "metadata": {},
   "outputs": [],
   "source": [
    "import math as m"
   ]
  },
  {
   "cell_type": "code",
   "execution_count": 115,
   "id": "a3e88057",
   "metadata": {},
   "outputs": [
    {
     "data": {
      "text/plain": [
       "2.0"
      ]
     },
     "execution_count": 115,
     "metadata": {},
     "output_type": "execute_result"
    }
   ],
   "source": [
    "m.sqrt(4)"
   ]
  },
  {
   "cell_type": "code",
   "execution_count": 116,
   "id": "4b224bd3",
   "metadata": {},
   "outputs": [
    {
     "data": {
      "text/plain": [
       "3.141592653589793"
      ]
     },
     "execution_count": 116,
     "metadata": {},
     "output_type": "execute_result"
    }
   ],
   "source": [
    "m.pi"
   ]
  },
  {
   "cell_type": "code",
   "execution_count": 118,
   "id": "f9b1a182",
   "metadata": {},
   "outputs": [],
   "source": [
    "from math import sqrt,pi"
   ]
  },
  {
   "cell_type": "code",
   "execution_count": 119,
   "id": "8a0ee7f0",
   "metadata": {},
   "outputs": [
    {
     "data": {
      "text/plain": [
       "4.0"
      ]
     },
     "execution_count": 119,
     "metadata": {},
     "output_type": "execute_result"
    }
   ],
   "source": [
    "sqrt(16)"
   ]
  },
  {
   "cell_type": "code",
   "execution_count": 120,
   "id": "10fb8f6e",
   "metadata": {},
   "outputs": [
    {
     "data": {
      "text/plain": [
       "3.141592653589793"
      ]
     },
     "execution_count": 120,
     "metadata": {},
     "output_type": "execute_result"
    }
   ],
   "source": [
    "pi"
   ]
  },
  {
   "cell_type": "code",
   "execution_count": 127,
   "id": "feb613af",
   "metadata": {},
   "outputs": [],
   "source": [
    "import datetime"
   ]
  },
  {
   "cell_type": "code",
   "execution_count": 131,
   "id": "f876322b",
   "metadata": {},
   "outputs": [
    {
     "name": "stdout",
     "output_type": "stream",
     "text": [
      "1996-12-11\n",
      "<class 'datetime.date'>\n"
     ]
    }
   ],
   "source": [
    "k = datetime.date(1996,12,11)\n",
    "print(k)\n",
    "print(type(k))"
   ]
  },
  {
   "cell_type": "code",
   "execution_count": 135,
   "id": "4996daa8",
   "metadata": {},
   "outputs": [
    {
     "name": "stdout",
     "output_type": "stream",
     "text": [
      "2023-09-30\n"
     ]
    }
   ],
   "source": [
    "t = datetime.date.today()\n",
    "print(t)"
   ]
  },
  {
   "cell_type": "code",
   "execution_count": 137,
   "id": "2d019ec8",
   "metadata": {},
   "outputs": [
    {
     "name": "stdout",
     "output_type": "stream",
     "text": [
      "Current Year -  2023\n",
      "Current Month -  9\n",
      "Current Day -  30\n"
     ]
    }
   ],
   "source": [
    "print(\"Current Year - \", t.year)\n",
    "print(\"Current Month - \",t.month)\n",
    "print(\"Current Day - \", t.day)"
   ]
  },
  {
   "cell_type": "code",
   "execution_count": 138,
   "id": "a493cc82",
   "metadata": {},
   "outputs": [],
   "source": [
    "from datetime import time"
   ]
  },
  {
   "cell_type": "code",
   "execution_count": 139,
   "id": "ab10aa51",
   "metadata": {},
   "outputs": [
    {
     "name": "stdout",
     "output_type": "stream",
     "text": [
      "11:34:56\n"
     ]
    }
   ],
   "source": [
    "t = time(11,34,56)\n",
    "print(t)"
   ]
  },
  {
   "cell_type": "code",
   "execution_count": 142,
   "id": "4d445e1b",
   "metadata": {},
   "outputs": [
    {
     "name": "stdout",
     "output_type": "stream",
     "text": [
      "Hour -  11\n",
      "Minutes 34\n",
      "Seconds -  56\n"
     ]
    }
   ],
   "source": [
    "print(\"Hour - \", t.hour)\n",
    "print(\"Minutes\", t.minute)\n",
    "print(\"Seconds - \", t.second)"
   ]
  },
  {
   "cell_type": "code",
   "execution_count": 143,
   "id": "3481ab4c",
   "metadata": {},
   "outputs": [],
   "source": [
    "#### Write a program taking input from user and calculate the area of a circle"
   ]
  },
  {
   "cell_type": "code",
   "execution_count": 147,
   "id": "a16e9924",
   "metadata": {},
   "outputs": [
    {
     "name": "stdout",
     "output_type": "stream",
     "text": [
      "Enter the Radius - 2\n",
      "12.566370614359172\n"
     ]
    }
   ],
   "source": [
    "### pi r sqaure  ##### \n",
    "radius = int(input(\"Enter the Radius - \"))\n",
    "aoc = pi*(radius**2)\n",
    "print(aoc)"
   ]
  },
  {
   "cell_type": "code",
   "execution_count": null,
   "id": "f9b9bfcf",
   "metadata": {},
   "outputs": [],
   "source": []
  }
 ],
 "metadata": {
  "kernelspec": {
   "display_name": "Python 3 (ipykernel)",
   "language": "python",
   "name": "python3"
  },
  "language_info": {
   "codemirror_mode": {
    "name": "ipython",
    "version": 3
   },
   "file_extension": ".py",
   "mimetype": "text/x-python",
   "name": "python",
   "nbconvert_exporter": "python",
   "pygments_lexer": "ipython3",
   "version": "3.11.3"
  }
 },
 "nbformat": 4,
 "nbformat_minor": 5
}
