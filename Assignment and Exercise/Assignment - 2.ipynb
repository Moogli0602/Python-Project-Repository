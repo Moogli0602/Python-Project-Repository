{
 "cells": [
  {
   "cell_type": "code",
   "execution_count": 4,
   "id": "bc923ef8",
   "metadata": {},
   "outputs": [
    {
     "name": "stdout",
     "output_type": "stream",
     "text": [
      "Enter Ramesh basic salary350000\n",
      "Ramesh gross salary is : 560000.0\n"
     ]
    }
   ],
   "source": [
    "##Ramesh's basic salary is input through the keyboard. His dearness allowance is 40% of basic salary, and house rent allowance is 20% of basic salary. Write a program to calculate his gross salary\n",
    "\n",
    "basic_Sal = float(input ('Enter Ramesh basic salary'))\n",
    "dearness_allowance = 0.4 * basic_Sal\n",
    "houserent_allowance = 0.2 * basic_Sal\n",
    "gross_sal = basic_Sal + dearness_allowance + houserent_allowance\n",
    "print(f\"Ramesh gross salary is : {gross_sal}\")6. Write a program to calculate the salary as per the following table"
   ]
  },
  {
   "cell_type": "code",
   "execution_count": 5,
   "id": "8945eb5a",
   "metadata": {},
   "outputs": [
    {
     "name": "stdout",
     "output_type": "stream",
     "text": [
      "Enter the distance between two cities (in kilometers): 15\n",
      "Distance in meters: 15000.0 meters\n",
      "Distance in feet: 49212.6 feet\n",
      "Distance in inches: 590551.2 inches\n",
      "Distance in centimeters: 1500000.0 centimeters\n"
     ]
    }
   ],
   "source": [
    "#The distance between two cities (in km.) is input through the keyboard. Write a program  to convert and print this distance in meters, feet, inches and centimeters.\n",
    "\n",
    "# Get the distance in kilometers from the user\n",
    "distance_in_km = float(input(\"Enter the distance between two cities (in kilometers): \"))\n",
    "\n",
    "# Constants for conversion factors\n",
    "meters_per_kilometer = 1000\n",
    "feet_per_meter = 3.28084\n",
    "inches_per_foot = 12\n",
    "centimeters_per_meter = 100\n",
    "\n",
    "# Convert the distance to meters, feet, inches, and centimeters\n",
    "distance_in_meters = distance_in_km * meters_per_kilometer\n",
    "distance_in_feet = distance_in_meters * feet_per_meter\n",
    "distance_in_inches = distance_in_feet * inches_per_foot\n",
    "distance_in_centimeters = distance_in_meters * centimeters_per_meter\n",
    "\n",
    "# Display the converted distances\n",
    "print(f\"Distance in meters: {distance_in_meters} meters\")\n",
    "print(f\"Distance in feet: {distance_in_feet} feet\")\n",
    "print(f\"Distance in inches: {distance_in_inches} inches\")\n",
    "print(f\"Distance in centimeters: {distance_in_centimeters} centimeters\")\n"
   ]
  },
  {
   "cell_type": "code",
   "execution_count": 6,
   "id": "df08c0d7",
   "metadata": {},
   "outputs": [
    {
     "name": "stdout",
     "output_type": "stream",
     "text": [
      "Enter marks obtained in subject 1: 12\n",
      "Enter marks obtained in subject 2: 125\n",
      "Invalid input! Marks should be between 0 and 100.\n",
      "Enter marks obtained in subject 3: 125\n",
      "Invalid input! Marks should be between 0 and 100.\n",
      "Enter marks obtained in subject 4: 11\n",
      "Enter marks obtained in subject 5: 25\n",
      "Aggregate marks obtained: 48.0 out of 500\n",
      "Percentage marks obtained: 9.60%\n"
     ]
    }
   ],
   "source": [
    "##3. If the marks obtained by a student in five different subjects are input through the \n",
    "#keyboard, find out the aggregate marks and percentage marks obtained by the student. \n",
    "#Assume that the maximum marks that can be obtained by a student in each subject is 100.\n",
    "\n",
    "# Initialize variables to store total marks and maximum marks per subject\n",
    "total_marks = 0\n",
    "max_marks_per_subject = 100  # Maximum marks in each subject\n",
    "\n",
    "# Input marks for each subject\n",
    "for i in range(5):\n",
    "    subject_marks = float(input(f\"Enter marks obtained in subject {i + 1}: \"))\n",
    "    \n",
    "    # Check if the entered marks are within the valid range (0 to 100)\n",
    "    if 0 <= subject_marks <= 100:\n",
    "        total_marks += subject_marks\n",
    "    else:\n",
    "        print(\"Invalid input! Marks should be between 0 and 100.\")\n",
    "        exit()  # Exit the program if invalid marks are entered\n",
    "\n",
    "# Calculate the aggregate marks and percentage\n",
    "aggregate_marks = total_marks\n",
    "percentage_marks = (total_marks / (5 * max_marks_per_subject)) * 100\n",
    "\n",
    "# Display the results\n",
    "print(f\"Aggregate marks obtained: {aggregate_marks} out of {5 * max_marks_per_subject}\")\n",
    "print(f\"Percentage marks obtained: {percentage_marks:.2f}%\")\n"
   ]
  },
  {
   "cell_type": "code",
   "execution_count": 1,
   "id": "1a7a9569",
   "metadata": {},
   "outputs": [
    {
     "name": "stdout",
     "output_type": "stream",
     "text": [
      "Enter the temperature in Fahrenheit: 36\n",
      "The temperature in Celsius is: 2.22 °C\n"
     ]
    }
   ],
   "source": [
    "##4. Temperature of a city in Fahrenheit degrees is input through the keyboard. Write a \n",
    "##program to convert this temperature into Centigrade degrees.\n",
    "\n",
    "# Get the temperature in Fahrenheit from the user\n",
    "fahrenheit = float(input(\"Enter the temperature in Fahrenheit: \"))\n",
    "\n",
    "# Convert Fahrenheit to Celsius using the formula: (Fahrenheit - 32) * 5/9\n",
    "celsius = (fahrenheit - 32) * 5/9\n",
    "\n",
    "# Display the temperature in Celsius\n",
    "print(f\"The temperature in Celsius is: {celsius:.2f} °C\")\n"
   ]
  },
  {
   "cell_type": "code",
   "execution_count": 2,
   "id": "8b38a0bc",
   "metadata": {},
   "outputs": [
    {
     "name": "stdout",
     "output_type": "stream",
     "text": [
      "Enter the length of the rectangle: 45\n",
      "Enter the breadth of the rectangle: 56\n",
      "Enter the radius of the circle: 45\n",
      "Rectangle Area: 2520.0\n",
      "Rectangle Perimeter: 202.0\n",
      "Circle Area: 6361.725123519331\n",
      "Circle Circumference: 282.7433388230814\n"
     ]
    }
   ],
   "source": [
    "##5. The length & breadth of a rectangle and radius of a circle are input through the \n",
    "#keyboard. Write a program to calculate the area & perimeter of the rectangle, and the area \n",
    "#& circumference of the circle\n",
    "\n",
    "# Get the length and breadth of the rectangle from the user\n",
    "length = float(input(\"Enter the length of the rectangle: \"))\n",
    "breadth = float(input(\"Enter the breadth of the rectangle: \"))\n",
    "\n",
    "# Get the radius of the circle from the user\n",
    "radius = float(input(\"Enter the radius of the circle: \"))\n",
    "\n",
    "# Calculate the area and perimeter of the rectangle\n",
    "rectangle_area = length * breadth\n",
    "rectangle_perimeter = 2 * (length + breadth)\n",
    "\n",
    "# Import the math module for using pi\n",
    "import math\n",
    "\n",
    "# Calculate the area and circumference of the circle\n",
    "circle_area = math.pi * (radius ** 2)\n",
    "circle_circumference = 2 * math.pi * radius\n",
    "\n",
    "# Display the results\n",
    "print(f\"Rectangle Area: {rectangle_area}\")\n",
    "print(f\"Rectangle Perimeter: {rectangle_perimeter}\")\n",
    "print(f\"Circle Area: {circle_area}\")\n",
    "print(f\"Circle Circumference: {circle_circumference}\")\n"
   ]
  },
  {
   "cell_type": "code",
   "execution_count": 3,
   "id": "d03d82c1",
   "metadata": {},
   "outputs": [
    {
     "name": "stdout",
     "output_type": "stream",
     "text": [
      "Enter the value for C: 12\n",
      "Enter the value for D: 25\n",
      "Original values - C: 12.0, D: 25.0\n",
      "Interchanged values - C: 25.0, D: 12.0\n"
     ]
    }
   ],
   "source": [
    "#6. Two numbers are input through the keyboard into two locations C and D. Write a \n",
    "#program to interchange the contents of C and D.\n",
    "# Get the two numbers from the user and store them in variables C and D\n",
    "C = float(input(\"Enter the value for C: \"))\n",
    "D = float(input(\"Enter the value for D: \"))\n",
    "\n",
    "# Display the original values of C and D\n",
    "print(f\"Original values - C: {C}, D: {D}\")\n",
    "\n",
    "# Interchange the contents of C and D using a temporary variable\n",
    "temp = C\n",
    "C = D\n",
    "D = temp\n",
    "\n",
    "# Display the new values of C and D after interchange\n",
    "print(f\"Interchanged values - C: {C}, D: {D}\")\n"
   ]
  },
  {
   "cell_type": "code",
   "execution_count": 5,
   "id": "0ea0125a",
   "metadata": {},
   "outputs": [
    {
     "name": "stdout",
     "output_type": "stream",
     "text": [
      "Enter a five-digit number: 45612\n",
      "The sum of the digits is: 18\n"
     ]
    }
   ],
   "source": [
    "##7. If a five-digit number is input through the keyboard, write a program to calculate the \n",
    "#sum of its digits. ( Hint: Use the modulus operator '%')\n",
    "# Get the five-digit number from the user\n",
    "number = int(input(\"Enter a five-digit number: \"))\n",
    "\n",
    "# Ensure that the input is a five-digit number\n",
    "if 10000 <= number <= 99999:\n",
    "    # Initialize a variable to store the sum of digits\n",
    "    sum_of_digits = 0\n",
    "\n",
    "    # Use a loop to extract and sum the digits\n",
    "    while number > 0:\n",
    "        digit = number % 10\n",
    "        sum_of_digits += digit\n",
    "        number //= 10\n",
    "\n",
    "    # Display the sum of the digits\n",
    "    print(f\"The sum of the digits is: {sum_of_digits}\")\n",
    "else:\n",
    "    print(\"Please enter a valid five-digit number.\")\n"
   ]
  },
  {
   "cell_type": "code",
   "execution_count": 6,
   "id": "8e45e09f",
   "metadata": {},
   "outputs": [
    {
     "name": "stdout",
     "output_type": "stream",
     "text": [
      "Enter a five-digit number: 12345\n",
      "The reversed number is: 54321\n"
     ]
    }
   ],
   "source": [
    "##8. If a five-digit number is input through the keyboard, write a program to reverse the number.\n",
    "\n",
    "# Get the five-digit number from the user\n",
    "number = int(input(\"Enter a five-digit number: \"))\n",
    "\n",
    "# Ensure that the input is a five-digit number\n",
    "if 10000 <= number <= 99999:\n",
    "    # Initialize a variable to store the reversed number\n",
    "    reversed_number = 0\n",
    "\n",
    "    # Use a loop to reverse the number\n",
    "    while number > 0:\n",
    "        digit = number % 10\n",
    "        reversed_number = reversed_number * 10 + digit\n",
    "        number //= 10\n",
    "\n",
    "    # Display the reversed number\n",
    "    print(f\"The reversed number is: {reversed_number}\")\n",
    "else:\n",
    "    print(\"Please enter a valid five-digit number.\")\n"
   ]
  },
  {
   "cell_type": "code",
   "execution_count": 7,
   "id": "62909752",
   "metadata": {},
   "outputs": [
    {
     "name": "stdout",
     "output_type": "stream",
     "text": [
      "Enter a four-digit number: 4561\n",
      "The sum of the first and last digits is: 5\n"
     ]
    }
   ],
   "source": [
    "##9. If a four-digit number is input through the keyboard, write a program to obtain the sum of the first and last digit of this number\n",
    "\n",
    "# Get the four-digit number from the user\n",
    "number = int(input(\"Enter a four-digit number: \"))\n",
    "\n",
    "# Ensure that the input is a four-digit number\n",
    "if 1000 <= number <= 9999:\n",
    "    # Extract the first digit (thousands place)\n",
    "    first_digit = number // 1000\n",
    "\n",
    "    # Extract the last digit (ones place)\n",
    "    last_digit = number % 10\n",
    "\n",
    "    # Calculate the sum of the first and last digits\n",
    "    sum_of_first_and_last = first_digit + last_digit\n",
    "\n",
    "    # Display the sum of the first and last digits\n",
    "    print(f\"The sum of the first and last digits is: {sum_of_first_and_last}\")\n",
    "else:\n",
    "    print(\"Please enter a valid four-digit number.\")\n"
   ]
  },
  {
   "cell_type": "code",
   "execution_count": 8,
   "id": "246df1a2",
   "metadata": {},
   "outputs": [
    {
     "name": "stdout",
     "output_type": "stream",
     "text": [
      "Total number of illiterate men: 13600.0\n",
      "Total number of illiterate women: 13600.0\n"
     ]
    }
   ],
   "source": [
    "##10. In a town, the percentage of men is 52. The percentage of total literacy is 48. If total \n",
    "#percentage of literate men is 35 of the total population, write a program to find the total \n",
    "#number of illiterate men and women if the population of the town is 80,000.\n",
    "\n",
    "# Total population of the town\n",
    "total_population = 80000\n",
    "\n",
    "# Percentage of men in the town\n",
    "percentage_men = 52\n",
    "\n",
    "# Percentage of total literacy in the town\n",
    "percentage_literacy = 48\n",
    "\n",
    "# Percentage of literate men in the town\n",
    "percentage_literate_men = 35\n",
    "\n",
    "# Calculate the number of men in the town\n",
    "total_men = (percentage_men / 100) * total_population\n",
    "\n",
    "# Calculate the number of literate men in the town\n",
    "total_literate_men = (percentage_literate_men / 100) * total_population\n",
    "\n",
    "# Calculate the number of literate women in the town\n",
    "total_literate_women = (percentage_literacy / 100) * total_population\n",
    "\n",
    "# Calculate the number of illiterate men in the town\n",
    "total_illiterate_men = total_men - total_literate_men\n",
    "\n",
    "# Calculate the number of illiterate women in the town\n",
    "total_illiterate_women = total_population - (total_literate_men + total_literate_women)\n",
    "\n",
    "# Display the results\n",
    "print(f\"Total number of illiterate men: {total_illiterate_men}\")\n",
    "print(f\"Total number of illiterate women: {total_illiterate_women}\")\n"
   ]
  },
  {
   "cell_type": "code",
   "execution_count": 9,
   "id": "28c82449",
   "metadata": {},
   "outputs": [
    {
     "name": "stdout",
     "output_type": "stream",
     "text": [
      "Enter the amount to be withdrawn in hundreds: 456\n",
      "Number of 100s: 456\n",
      "Number of 50s: 1\n",
      "Number of 10s: 1\n"
     ]
    }
   ],
   "source": [
    "##11. A cashier has currency notes of denominations 10, 50 and 100. If the amount to be \n",
    "#withdrawn is input through the keyboard in hundreds, find the total number of currency \n",
    "#notes of each denomination the cashier will have to give to the withdrawer\n",
    "\n",
    "# Get the amount to be withdrawn in hundreds from the user\n",
    "amount_in_hundreds = int(input(\"Enter the amount to be withdrawn in hundreds: \"))\n",
    "\n",
    "# Calculate the number of 100s, 50s, and 10s\n",
    "number_of_100s = amount_in_hundreds\n",
    "number_of_50s = 0\n",
    "number_of_10s = 0\n",
    "\n",
    "# Calculate the remaining amount after giving out 100s\n",
    "remaining_amount = amount_in_hundreds % 10\n",
    "\n",
    "# If there is a remaining amount, calculate the number of 50s and 10s\n",
    "if remaining_amount > 0:\n",
    "    number_of_50s = remaining_amount // 5\n",
    "    number_of_10s = remaining_amount % 5\n",
    "\n",
    "# Display the results\n",
    "print(f\"Number of 100s: {number_of_100s}\")\n",
    "print(f\"Number of 50s: {number_of_50s}\")\n",
    "print(f\"Number of 10s: {number_of_10s}\")\n"
   ]
  },
  {
   "cell_type": "code",
   "execution_count": 10,
   "id": "b4c99b4c",
   "metadata": {},
   "outputs": [
    {
     "name": "stdout",
     "output_type": "stream",
     "text": [
      "Enter the total selling price of 15 items: 15\n",
      "Enter the total profit earned on 15 items: 1588\n",
      "The cost price of one item is: -104.87\n"
     ]
    }
   ],
   "source": [
    "##12. If the total selling price of 15 items and the total profit earned on them is input through \n",
    "#the keyboard, write a program to find the cost price of one item.\n",
    "\n",
    "# Get the total selling price of 15 items from the user\n",
    "total_selling_price = float(input(\"Enter the total selling price of 15 items: \"))\n",
    "\n",
    "# Get the total profit earned on the 15 items from the user\n",
    "total_profit = float(input(\"Enter the total profit earned on 15 items: \"))\n",
    "\n",
    "# Calculate the cost price of one item using the formula: Cost Price = (Total Selling Price - Total Profit) / 15\n",
    "cost_price_per_item = (total_selling_price - total_profit) / 15\n",
    "\n",
    "# Display the cost price of one item\n",
    "print(f\"The cost price of one item is: {cost_price_per_item:.2f}\")\n"
   ]
  },
  {
   "cell_type": "code",
   "execution_count": 11,
   "id": "6f3ac260",
   "metadata": {},
   "outputs": [
    {
     "name": "stdout",
     "output_type": "stream",
     "text": [
      "Enter a five-digit number: 45612\n",
      "The new number is: 56723\n"
     ]
    }
   ],
   "source": [
    "##13. If a five-digit number is input through the keyboard, write a program to print a new \n",
    "#number by adding one to each of its digits. For example, if the number that is input is \n",
    "#12391 then the output should be displayed as 23402.\n",
    "\n",
    "# Get the five-digit number from the user\n",
    "number = input(\"Enter a five-digit number: \")\n",
    "\n",
    "# Check if the input is a five-digit number\n",
    "if len(number) == 5 and number.isdigit():\n",
    "    # Initialize an empty string to store the new number\n",
    "    new_number = \"\"\n",
    "\n",
    "    # Iterate through each digit and add one to it\n",
    "    for digit in number:\n",
    "        new_digit = str((int(digit) + 1) % 10)\n",
    "        new_number += new_digit\n",
    "\n",
    "    # Display the new number\n",
    "    print(f\"The new number is: {new_number}\")\n",
    "else:\n",
    "    print(\"Please enter a valid five-digit number.\")\n"
   ]
  },
  {
   "cell_type": "markdown",
   "id": "dba45993",
   "metadata": {},
   "source": [
    "# Task -II"
   ]
  },
  {
   "cell_type": "code",
   "execution_count": 12,
   "id": "eb061de8",
   "metadata": {},
   "outputs": [
    {
     "name": "stdout",
     "output_type": "stream",
     "text": [
      "Enter the quantity purchased: 45\n",
      "Enter the price per item: 45\n",
      "Total expenses: $1822.50\n"
     ]
    }
   ],
   "source": [
    "#1. While purchasing certain items, a discount of 10% is offered if the quantity purchased is \n",
    "#more than 10. If quantity and price per item are input through the keyboard, write a \n",
    "#program to calculate the total expenses.\n",
    "# Get the quantity and price per item from the user\n",
    "quantity = int(input(\"Enter the quantity purchased: \"))\n",
    "price_per_item = float(input(\"Enter the price per item: \"))\n",
    "\n",
    "# Calculate the total expenses\n",
    "total_expenses = quantity * price_per_item\n",
    "\n",
    "# Check if the quantity is more than 10 to apply the discount\n",
    "if quantity > 10:\n",
    "    discount = 0.10 * total_expenses  # 10% discount\n",
    "    total_expenses -= discount\n",
    "\n",
    "# Display the total expenses\n",
    "print(f\"Total expenses: ${total_expenses:.2f}\")\n"
   ]
  },
  {
   "cell_type": "code",
   "execution_count": 14,
   "id": "805fe7fe",
   "metadata": {},
   "outputs": [
    {
     "name": "stdout",
     "output_type": "stream",
     "text": [
      "Enter the current year: 2014\n",
      "Enter the year of joining: 2023\n",
      "The employee is not eligible for a bonus.\n"
     ]
    }
   ],
   "source": [
    "##2. The current year and the year in which the employee joined the organization are entered \n",
    "#through the keyboard. If the number of years for which the employee has served the \n",
    "#organization is greater than 3 then a bonus of Rs. 2500/- is given to the employee. If the \n",
    "#years of service are not greater than 3, then the program should do nothing.\n",
    "\n",
    "# Get the current year and the year of joining from the user\n",
    "current_year = int(input(\"Enter the current year: \"))\n",
    "joining_year = int(input(\"Enter the year of joining: \"))\n",
    "\n",
    "# Calculate the years of service\n",
    "years_of_service = current_year - joining_year\n",
    "\n",
    "# Check if the employee has served for more than 3 years\n",
    "if years_of_service > 3:\n",
    "    bonus_amount = 2500  # Bonus amount if years of service > 3\n",
    "    print(f\"The employee is eligible for a bonus of Rs. {bonus_amount}\")\n",
    "else:\n",
    "    print(\"The employee is not eligible for a bonus.\")\n"
   ]
  },
  {
   "cell_type": "code",
   "execution_count": 15,
   "id": "fff2c86c",
   "metadata": {},
   "outputs": [
    {
     "name": "stdout",
     "output_type": "stream",
     "text": [
      "Enter the employee's basic salary: 2500\n",
      "The employee's gross salary is: Rs. 5450.00\n"
     ]
    }
   ],
   "source": [
    "##3. If his basic salary is less than Rs. 1500, then HRA = 10% of basic salary and DA = 90% of \n",
    "#basic salary. If his salary is either equal to or above Rs. 1500, then HRA = Rs. 500 and DA = \n",
    "#98% of basic salary. If the employee's salary is input through the keyboard write a program \n",
    "#to find his gross salary\n",
    "\n",
    "# Get the basic salary from the user\n",
    "basic_salary = float(input(\"Enter the employee's basic salary: \"))\n",
    "\n",
    "# Check if the basic salary is less than Rs. 1500\n",
    "if basic_salary < 1500:\n",
    "    HRA = 0.10 * basic_salary\n",
    "    DA = 0.90 * basic_salary\n",
    "else:\n",
    "    HRA = 500\n",
    "    DA = 0.98 * basic_salary\n",
    "\n",
    "# Calculate the gross salary by adding basic salary, HRA, and DA\n",
    "gross_salary = basic_salary + HRA + DA\n",
    "\n",
    "# Display the gross salary\n",
    "print(f\"The employee's gross salary is: Rs. {gross_salary:.2f}\")\n",
    "\n"
   ]
  },
  {
   "cell_type": "code",
   "execution_count": 16,
   "id": "22c36e98",
   "metadata": {},
   "outputs": [
    {
     "name": "stdout",
     "output_type": "stream",
     "text": [
      "Enter marks obtained in subject 1: 63\n",
      "Enter marks obtained in subject 2: 15\n",
      "Enter marks obtained in subject 3: 156\n",
      "Enter marks obtained in subject 4: 125\n",
      "Enter marks obtained in subject 5: 136\n",
      "The student has achieved: First division\n"
     ]
    }
   ],
   "source": [
    "#4. The marks obtained by a student in 5 different subjects are input through the keyboard. \n",
    "#The student gets a division as per the following rules: Write a program to calculate the \n",
    "#division obtained by the student.\n",
    "#a. Percentage above or equal to 60 - First division\n",
    "#b. Percentage between 50 and 59 - Second division\n",
    "#c. Percentage between 40 and 49 - Third division\n",
    "#d. Percentage less than 40 – Fail\n",
    "\n",
    "\n",
    "# Get the marks obtained by the student in 5 subjects through the keyboard\n",
    "marks = []\n",
    "for i in range(5):\n",
    "    subject_marks = float(input(f\"Enter marks obtained in subject {i + 1}: \"))\n",
    "    marks.append(subject_marks)\n",
    "\n",
    "# Calculate the total marks and percentage\n",
    "total_marks = sum(marks)\n",
    "percentage = (total_marks / (5 * 100)) * 100\n",
    "\n",
    "# Determine the division based on the percentage\n",
    "if percentage >= 60:\n",
    "    division = \"First division\"\n",
    "elif 50 <= percentage <= 59:\n",
    "    division = \"Second division\"\n",
    "elif 40 <= percentage <= 49:\n",
    "    division = \"Third division\"\n",
    "else:\n",
    "    division = \"Fail\"\n",
    "\n",
    "# Display the division obtained by the student\n",
    "print(f\"The student has achieved: {division}\")\n"
   ]
  },
  {
   "cell_type": "code",
   "execution_count": 17,
   "id": "6c4aae57",
   "metadata": {},
   "outputs": [
    {
     "name": "stdout",
     "output_type": "stream",
     "text": [
      "Is the driver married? (yes/no): yes\n",
      "Enter driver's gender (male/female): Male\n",
      "Enter driver's age: 22\n",
      "The driver is eligible for insurance.\n"
     ]
    }
   ],
   "source": [
    "#5. A company insures its drivers in the following cases:\n",
    "#a. If the driver is married.\n",
    "#b. If the driver is unmarried, male & above 30 years of age.\n",
    "#c. If the driver is unmarried, female & above 25 years of age\n",
    "\n",
    "# Get driver's marital status, gender, and age from the user\n",
    "marital_status = input(\"Is the driver married? (yes/no): \").lower()\n",
    "gender = input(\"Enter driver's gender (male/female): \").lower()\n",
    "age = int(input(\"Enter driver's age: \"))\n",
    "\n",
    "# Check eligibility for insurance based on the provided conditions\n",
    "if marital_status == \"yes\":\n",
    "    eligibility = \"The driver is eligible for insurance.\"\n",
    "elif marital_status == \"no\" and gender == \"male\" and age > 30:\n",
    "    eligibility = \"The driver is eligible for insurance.\"\n",
    "elif marital_status == \"no\" and gender == \"female\" and age > 25:\n",
    "    eligibility = \"The driver is eligible for insurance.\"\n",
    "else:\n",
    "    eligibility = \"The driver is not eligible for insurance.\"\n",
    "\n",
    "# Display the eligibility result\n",
    "print(eligibility)\n"
   ]
  },
  {
   "cell_type": "code",
   "execution_count": 18,
   "id": "684d1da5",
   "metadata": {},
   "outputs": [
    {
     "name": "stdout",
     "output_type": "stream",
     "text": [
      "Enter gender (male/female): Male\n",
      "Enter years of service: 12\n",
      "Enter qualifications (graduate/post-graduate): graduate\n",
      "The calculated salary is: 10000\n"
     ]
    }
   ],
   "source": [
    "#6. Write a program to calculate the salary as per the following table\n",
    "# Get the gender, years of service, and qualifications from the user\n",
    "gender = input(\"Enter gender (male/female): \").lower()\n",
    "years_of_service = int(input(\"Enter years of service: \"))\n",
    "qualifications = input(\"Enter qualifications (graduate/post-graduate): \").lower()\n",
    "\n",
    "# Initialize the base salary\n",
    "base_salary = 0\n",
    "\n",
    "# Determine the base salary based on gender, years of service, and qualifications\n",
    "if gender == \"male\":\n",
    "    if years_of_service >= 10:\n",
    "        if qualifications == \"post-graduate\":\n",
    "            base_salary = 15000\n",
    "        else:\n",
    "            base_salary = 10000\n",
    "    else:\n",
    "        if qualifications == \"post-graduate\":\n",
    "            base_salary = 10000\n",
    "        else:\n",
    "            base_salary = 7000\n",
    "elif gender == \"female\":\n",
    "    if years_of_service >= 10:\n",
    "        if qualifications == \"post-graduate\":\n",
    "            base_salary = 12000\n",
    "        else:\n",
    "            base_salary = 9000\n",
    "    else:\n",
    "        if qualifications == \"post-graduate\":\n",
    "            base_salary = 10000\n",
    "        else:\n",
    "            base_salary = 6000\n",
    "\n",
    "# Display the calculated salary\n",
    "print(f\"The calculated salary is: {base_salary}\")\n"
   ]
  },
  {
   "cell_type": "code",
   "execution_count": 19,
   "id": "1fe736a6",
   "metadata": {},
   "outputs": [
    {
     "name": "stdout",
     "output_type": "stream",
     "text": [
      "Enter the cost price: 123\n",
      "Enter the selling price: 175\n",
      "The seller has made a Profit of Rs. 52.00\n"
     ]
    }
   ],
   "source": [
    "#7. If cost price and selling price of an item is input through the keyboard, write a program \n",
    "#to determine whether the seller has made profit or incurred loss. Also determine how \n",
    "#much profit he made or loss he incurred\n",
    "\n",
    "# Get the cost price and selling price from the user\n",
    "cost_price = float(input(\"Enter the cost price: \"))\n",
    "selling_price = float(input(\"Enter the selling price: \"))\n",
    "\n",
    "# Calculate profit or loss\n",
    "profit_or_loss = selling_price - cost_price\n",
    "\n",
    "# Determine if the seller made a profit or incurred a loss\n",
    "if profit_or_loss > 0:\n",
    "    result = \"Profit\"\n",
    "    amount = profit_or_loss\n",
    "elif profit_or_loss < 0:\n",
    "    result = \"Loss\"\n",
    "    amount = abs(profit_or_loss)\n",
    "else:\n",
    "    result = \"No Profit, No Loss\"\n",
    "    amount = 0\n",
    "\n",
    "# Display the result and the amount of profit or loss\n",
    "print(f\"The seller has made a {result} of Rs. {amount:.2f}\")\n"
   ]
  },
  {
   "cell_type": "code",
   "execution_count": 20,
   "id": "9cdc30bd",
   "metadata": {},
   "outputs": [
    {
     "name": "stdout",
     "output_type": "stream",
     "text": [
      "Enter an integer: 12\n",
      "12 is an even number.\n"
     ]
    }
   ],
   "source": [
    "##8. Any integer is input through the keyboard. Write a program to find out whether it is an \n",
    "#odd number or even number. (Hint: Use the % (modulus) operator)\n",
    "\n",
    "# Get an integer from the user\n",
    "number = int(input(\"Enter an integer: \"))\n",
    "\n",
    "# Use the modulus operator to check if it's odd or even\n",
    "if number % 2 == 0:\n",
    "    print(f\"{number} is an even number.\")\n",
    "else:\n",
    "    print(f\"{number} is an odd number.\")\n"
   ]
  },
  {
   "cell_type": "code",
   "execution_count": 21,
   "id": "f115bfcd",
   "metadata": {},
   "outputs": [
    {
     "name": "stdout",
     "output_type": "stream",
     "text": [
      "Enter a five-digit number: 12302\n",
      "The original and reversed numbers are not equal.\n"
     ]
    }
   ],
   "source": [
    "#9. A five-digit number is entered through the keyboard. Write a program to obtain the \n",
    "#reversed number and to determine whether the original and reversed numbers are equal \n",
    "#or not.\n",
    "\n",
    "# Get the five-digit number from the user\n",
    "number = int(input(\"Enter a five-digit number: \"))\n",
    "\n",
    "# Ensure that the input is a five-digit number\n",
    "if 10000 <= number <= 99999:\n",
    "    # Calculate the reversed number\n",
    "    reversed_number = 0\n",
    "    temp = number\n",
    "    while temp > 0:\n",
    "        digit = temp % 10\n",
    "        reversed_number = reversed_number * 10 + digit\n",
    "        temp //= 10\n",
    "\n",
    "    # Determine if the original and reversed numbers are equal\n",
    "    if number == reversed_number:\n",
    "        print(\"The original and reversed numbers are equal.\")\n",
    "    else:\n",
    "\n",
    "        print(\"The original and reversed numbers are not equal.\")\n",
    "else:\n",
    "    print(\"Please enter a valid five-digit number.\")\n"
   ]
  },
  {
   "cell_type": "code",
   "execution_count": 22,
   "id": "1d84bdf6",
   "metadata": {},
   "outputs": [
    {
     "name": "stdout",
     "output_type": "stream",
     "text": [
      "Enter Ram's age: 12\n",
      "Enter Shyam's age: 12\n",
      "Enter Ajay's age: 12\n",
      "The youngest among Ram, Shyam, and Ajay is Ajay with an age of 12 years.\n"
     ]
    }
   ],
   "source": [
    "#10. If the ages of Ram, Shyam and Ajay are input through the keyboard, write a program to \n",
    "#determine the youngest of the three\n",
    "\n",
    "# Get the ages of Ram, Shyam, and Ajay from the user\n",
    "ram_age = int(input(\"Enter Ram's age: \"))\n",
    "shyam_age = int(input(\"Enter Shyam's age: \"))\n",
    "ajay_age = int(input(\"Enter Ajay's age: \"))\n",
    "\n",
    "# Determine the youngest among the three\n",
    "youngest_age = min(ram_age, shyam_age, ajay_age)\n",
    "\n",
    "# Determine the name of the youngest person\n",
    "youngest_name = \"\"\n",
    "if youngest_age == ram_age:\n",
    "    youngest_name = \"Ram\"\n",
    "if youngest_age == shyam_age:\n",
    "    youngest_name = \"Shyam\"\n",
    "if youngest_age == ajay_age:\n",
    "    youngest_name = \"Ajay\"\n",
    "\n",
    "# Display the name of the youngest person\n",
    "print(f\"The youngest among Ram, Shyam, and Ajay is {youngest_name} with an age of {youngest_age} years.\")\n"
   ]
  },
  {
   "cell_type": "code",
   "execution_count": 23,
   "id": "b655ae89",
   "metadata": {},
   "outputs": [
    {
     "name": "stdout",
     "output_type": "stream",
     "text": [
      "Enter the first angle of the triangle (in degrees): 45\n",
      "Enter the second angle of the triangle (in degrees): 12\n",
      "Enter the third angle of the triangle (in degrees): 23\n",
      "The triangle is not valid.\n"
     ]
    }
   ],
   "source": [
    "##11. Write a program to check whether a triangle is valid or not, when the three angles of \n",
    "#the triangle are entered through the keyboard. A triangle is valid if the sum of all the three \n",
    "#angles is equal to 180 degrees.\n",
    "\n",
    "# Get the three angles of the triangle from the user\n",
    "angle1 = float(input(\"Enter the first angle of the triangle (in degrees): \"))\n",
    "angle2 = float(input(\"Enter the second angle of the triangle (in degrees): \"))\n",
    "angle3 = float(input(\"Enter the third angle of the triangle (in degrees): \"))\n",
    "\n",
    "# Check if the triangle is valid\n",
    "if angle1 + angle2 + angle3 == 180:\n",
    "    print(\"The triangle is valid.\")\n",
    "else:\n",
    "    print(\"The triangle is not valid.\")\n"
   ]
  },
  {
   "cell_type": "code",
   "execution_count": 24,
   "id": "ef71620e",
   "metadata": {},
   "outputs": [
    {
     "name": "stdout",
     "output_type": "stream",
     "text": [
      "Enter a number: 12\n",
      "The absolute value of 12.0 is 12.0\n"
     ]
    }
   ],
   "source": [
    "##12. Find the absolute value of a number entered through the keyboard.\n",
    "\n",
    "# Get a number from the user\n",
    "number = float(input(\"Enter a number: \"))\n",
    "\n",
    "# Calculate the absolute value using the abs() function\n",
    "absolute_value = abs(number)\n",
    "\n",
    "# Display the absolute value\n",
    "print(f\"The absolute value of {number} is {absolute_value}\")\n"
   ]
  },
  {
   "cell_type": "code",
   "execution_count": 25,
   "id": "261aa615",
   "metadata": {},
   "outputs": [
    {
     "name": "stdout",
     "output_type": "stream",
     "text": [
      "Enter the length of the rectangle: 14\n",
      "Enter the breadth of the rectangle: 156\n",
      "The area of the rectangle is greater than its perimeter.\n"
     ]
    }
   ],
   "source": [
    "##13. Given the length and breadth of a rectangle, write a program to find whether the area \n",
    "#of the rectangle is greater than its perimeter. For example, the area of the rectangle with \n",
    "#length = 5 and breadth = 4 is greater than its perimeter\n",
    "\n",
    "# Get the length and breadth of the rectangle from the user\n",
    "length = float(input(\"Enter the length of the rectangle: \"))\n",
    "breadth = float(input(\"Enter the breadth of the rectangle: \"))\n",
    "\n",
    "# Calculate the area and perimeter of the rectangle\n",
    "area = length * breadth\n",
    "perimeter = 2 * (length + breadth)\n",
    "\n",
    "# Determine if the area is greater than the perimeter\n",
    "if area > perimeter:\n",
    "    print(f\"The area of the rectangle is greater than its perimeter.\")\n",
    "else:\n",
    "    print(f\"The perimeter of the rectangle is greater than its area.\")\n"
   ]
  },
  {
   "cell_type": "code",
   "execution_count": 26,
   "id": "50b2879a",
   "metadata": {},
   "outputs": [
    {
     "name": "stdout",
     "output_type": "stream",
     "text": [
      "Enter a year: 45\n",
      "45 is not a leap year.\n"
     ]
    }
   ],
   "source": [
    "##14. Any year is entered through the keyboard, write a program to determine whether the \n",
    "#year is leap or not. Use the logical operators && and ||.\n",
    "\n",
    "# Get the year from the user\n",
    "year = int(input(\"Enter a year: \"))\n",
    "\n",
    "# Check if the year is a leap year\n",
    "is_leap_year = (year % 4 == 0) and ((year % 100 != 0) or (year % 400 == 0))\n",
    "\n",
    "# Determine and display the result\n",
    "if is_leap_year:\n",
    "    print(f\"{year} is a leap year.\")\n",
    "else:\n",
    "    print(f\"{year} is not a leap year.\")\n",
    "\n",
    "\n"
   ]
  },
  {
   "cell_type": "code",
   "execution_count": 27,
   "id": "9436e6e2",
   "metadata": {},
   "outputs": [
    {
     "name": "stdout",
     "output_type": "stream",
     "text": [
      "Enter the hardness of the steel: 45\n",
      "Enter the carbon content of the steel: 45\n",
      "Enter the tensile strength of the steel: 98\n",
      "The grade of the steel is: 5\n"
     ]
    }
   ],
   "source": [
    "##15. A certain grade of steel is graded according to the following conditions:\n",
    "#i. Hardness must be greater than 50\n",
    "#ii. Carbon content must be less than 0.7\n",
    "#iii. Tensile strength must be greater than 5600\n",
    "#The grades are as follows:\n",
    "#i. Grade is 10 if all three conditions are met\n",
    "#ii. Grade is 9 if conditions (i) and (ii) are met\n",
    "#iii. Grade is 8 if conditions (ii) and (iii) are met\n",
    "#iv. Grade is 7 if conditions (i) and (iii) are met\n",
    "#v. Grade is 6 if only one condition is met\n",
    "#vi. Grade is 5 if none of the conditions are met\n",
    "#Write a program, which will require the user to give values of hardness, carbon content and \n",
    "#tensile strength of the steel under consideration and output the grade of the steel.\n",
    "# Get the values of hardness, carbon content, and tensile strength from the user\n",
    "hardness = float(input(\"Enter the hardness of the steel: \"))\n",
    "carbon_content = float(input(\"Enter the carbon content of the steel: \"))\n",
    "tensile_strength = float(input(\"Enter the tensile strength of the steel: \"))\n",
    "\n",
    "# Initialize the grade to 5 (Grade 5 by default)\n",
    "grade = 5\n",
    "\n",
    "# Check the conditions to determine the grade\n",
    "if hardness > 50 and carbon_content < 0.7 and tensile_strength > 5600:\n",
    "    grade = 10\n",
    "elif hardness > 50 and carbon_content < 0.7:\n",
    "    grade = 9\n",
    "elif carbon_content < 0.7 and tensile_strength > 5600:\n",
    "    grade = 8\n",
    "elif hardness > 50 and tensile_strength > 5600:\n",
    "    grade = 7\n",
    "elif hardness > 50 or carbon_content < 0.7 or tensile_strength > 5600:\n",
    "    grade = 6\n",
    "\n",
    "# Display the grade of the steel\n",
    "print(f\"The grade of the steel is: {grade}\")\n"
   ]
  },
  {
   "cell_type": "code",
   "execution_count": 28,
   "id": "0133dd30",
   "metadata": {},
   "outputs": [
    {
     "name": "stdout",
     "output_type": "stream",
     "text": [
      "Enter the number of days the member is late: 45\n",
      "Your membership is cancelled due to the book being returned after 30 days.\n",
      "No fine for returning the book on time.\n"
     ]
    }
   ],
   "source": [
    "##16. A library charges a fine for every book returned late. For first 5 days the fine is 50 \n",
    "#paise, for 6-10 days fine is one rupee and above 10 days fine is 5 rupees. If you return the \n",
    "#book after 30 days your membership will be cancelled. Write a program to accept the \n",
    "#number of days the member is late to return the book and display the fine or the \n",
    "#appropriate message\n",
    "# Get the number of days the member is late to return the book from the user\n",
    "days_late = int(input(\"Enter the number of days the member is late: \"))\n",
    "\n",
    "# Initialize the fine amount\n",
    "fine = 0\n",
    "\n",
    "# Determine the fine based on the number of days late\n",
    "if days_late <= 5:\n",
    "    fine = 0.50 * days_late  # 50 paise per day for the first 5 days\n",
    "elif 6 <= days_late <= 10:\n",
    "    fine = 1 * days_late  # 1 rupee per day for 6-10 days\n",
    "elif days_late > 10 and days_late <= 30:\n",
    "    fine = 5 * days_late  # 5 rupees per day for more than 10 days, but up to 30 days\n",
    "elif days_late > 30:\n",
    "    print(\"Your membership is cancelled due to the book being returned after 30 days.\")\n",
    "    exit()\n",
    "\n",
    "# Display the fine or a message\n",
    "if fine > 0:\n",
    "    print(f\"The fine for returning the book {days_late} days late is: Rs. {fine:.2f}\")\n",
    "else:\n",
    "    print(\"No fine for returning the book on time.\")\n"
   ]
  },
  {
   "cell_type": "code",
   "execution_count": 1,
   "id": "a634cc3f",
   "metadata": {},
   "outputs": [
    {
     "name": "stdout",
     "output_type": "stream",
     "text": [
      "Enter the time taken by the worker (in hours): 45\n",
      "The worker is: Leave the Company\n"
     ]
    }
   ],
   "source": [
    "##17. In a company, worker efficiency is determined on the basis of the time required for a \n",
    "#worker to complete a particular job. If the time taken by the worker is between 2 – 3 \n",
    "#hours, then the worker is said to be highly efficient. If the time required by the worker is \n",
    "#between 3 – 4 hours, then the worker is ordered to improve speed. If the time taken is \n",
    "#between 4 – 5 hours, the worker is given training to improve his speed, and if the time \n",
    "#taken by the worker is more than 5 hours, then the worker has to leave the company. If the \n",
    "#time taken by the worker is input through the keyboard, find the efficiency of the worker\n",
    "\n",
    "# Get the time taken by the worker to complete the job from the user\n",
    "time_taken = float(input(\"Enter the time taken by the worker (in hours): \"))\n",
    "\n",
    "# Determine the efficiency of the worker based on the time taken\n",
    "efficiency = \"\"\n",
    "\n",
    "if 2 <= time_taken <= 3:\n",
    "    efficiency = \"Highly Efficient\"\n",
    "elif 3 < time_taken <= 4:\n",
    "    efficiency = \"Improve Speed\"\n",
    "elif 4 < time_taken <= 5:\n",
    "    efficiency = \"Speed Training\"\n",
    "else:\n",
    "    efficiency = \"Leave the Company\"\n",
    "\n",
    "# Display the worker's efficiency\n",
    "print(f\"The worker is: {efficiency}\")\n",
    "\n"
   ]
  },
  {
   "cell_type": "markdown",
   "id": "0932e60f",
   "metadata": {},
   "source": [
    "# Task -III "
   ]
  },
  {
   "cell_type": "code",
   "execution_count": 2,
   "id": "b52da35e",
   "metadata": {},
   "outputs": [
    {
     "name": "stdout",
     "output_type": "stream",
     "text": [
      "Enter a number: 45\n",
      "The factors of 45 are: [1, 3, 5, 9, 15, 45]\n"
     ]
    }
   ],
   "source": [
    "#1. Write a program to find the factor of the given number.\n",
    "\n",
    "# Get the number from the user\n",
    "number = int(input(\"Enter a number: \"))\n",
    "\n",
    "# Initialize an empty list to store the factors\n",
    "factors = []\n",
    "\n",
    "# Iterate from 1 to the number and check for factors\n",
    "for i in range(1, number + 1):\n",
    "    if number % i == 0:\n",
    "        factors.append(i)\n",
    "\n",
    "# Display the factors of the number\n",
    "print(f\"The factors of {number} are: {factors}\")\n"
   ]
  },
  {
   "cell_type": "code",
   "execution_count": 3,
   "id": "eeb4891a",
   "metadata": {},
   "outputs": [
    {
     "name": "stdout",
     "output_type": "stream",
     "text": [
      "Enter a number: 45\n",
      "45 is not a prime number.\n"
     ]
    }
   ],
   "source": [
    "#2. Write a program to find whether the given number is prime or not\n",
    "# Get the number from the user\n",
    "number = int(input(\"Enter a number: \"))\n",
    "\n",
    "# Check if the number is less than 2 (not prime)\n",
    "if number < 2:\n",
    "    is_prime = False\n",
    "else:\n",
    "    is_prime = True\n",
    "\n",
    "    # Check for divisors from 2 to the square root of the number\n",
    "    for i in range(2, int(number**0.5) + 1):\n",
    "        if number % i == 0:\n",
    "            is_prime = False\n",
    "            break\n",
    "\n",
    "# Display the result\n",
    "if is_prime:\n",
    "    print(f\"{number} is a prime number.\")\n",
    "else:\n",
    "    print(f\"{number} is not a prime number.\")\n"
   ]
  },
  {
   "cell_type": "code",
   "execution_count": 4,
   "id": "acd1bdd0",
   "metadata": {},
   "outputs": [
    {
     "name": "stdout",
     "output_type": "stream",
     "text": [
      "Enter a number: 45\n",
      "45 is not an Armstrong number.\n"
     ]
    }
   ],
   "source": [
    "#3. Write a program to find the given number is Armstrong number or not.\n",
    "\n",
    "# Get the number from the user\n",
    "number = int(input(\"Enter a number: \"))\n",
    "\n",
    "# Convert the number to a string to count its digits\n",
    "num_str = str(number)\n",
    "\n",
    "# Calculate the number of digits in the number\n",
    "num_digits = len(num_str)\n",
    "\n",
    "# Initialize a variable to store the sum of digit powers\n",
    "sum_of_powers = 0\n",
    "\n",
    "# Calculate the sum of digits raised to the power of the number of digits\n",
    "for digit in num_str:\n",
    "    sum_of_powers += int(digit) ** num_digits\n",
    "\n",
    "# Check if the number is an Armstrong number\n",
    "if number == sum_of_powers:\n",
    "    print(f\"{number} is an Armstrong number.\")\n",
    "else:\n",
    "    print(f\"{number} is not an Armstrong number.\")\n"
   ]
  },
  {
   "cell_type": "code",
   "execution_count": 5,
   "id": "83696cf9",
   "metadata": {},
   "outputs": [
    {
     "name": "stdout",
     "output_type": "stream",
     "text": [
      "Armstrong numbers between 100 and 999 are:\n",
      "153\n",
      "370\n",
      "371\n",
      "407\n"
     ]
    }
   ],
   "source": [
    "#4. Write a program to print the Armstrong numbers between 100 to 999.\n",
    "# Function to check if a number is an Armstrong number\n",
    "def is_armstrong(number):\n",
    "    num_str = str(number)\n",
    "    num_digits = len(num_str)\n",
    "    sum_of_powers = sum(int(digit) ** num_digits for digit in num_str)\n",
    "    return number == sum_of_powers\n",
    "\n",
    "# Find and print Armstrong numbers between 100 and 999\n",
    "armstrong_numbers = [num for num in range(100, 1000) if is_armstrong(num)]\n",
    "\n",
    "# Display the Armstrong numbers\n",
    "print(\"Armstrong numbers between 100 and 999 are:\")\n",
    "for num in armstrong_numbers:\n",
    "    print(num)\n"
   ]
  },
  {
   "cell_type": "code",
   "execution_count": 6,
   "id": "b6adf198",
   "metadata": {},
   "outputs": [
    {
     "name": "stdout",
     "output_type": "stream",
     "text": [
      "Enter the start of the range: 45\n",
      "Enter the end of the range: 46\n",
      "Number of even numbers in the range: 1\n",
      "Number of odd numbers in the range: 1\n"
     ]
    }
   ],
   "source": [
    "#5. Write a program to count and print the number of odd and even numbers.\n",
    "# Get the range from the user\n",
    "start = int(input(\"Enter the start of the range: \"))\n",
    "end = int(input(\"Enter the end of the range: \"))\n",
    "\n",
    "# Initialize counters for even and odd numbers\n",
    "even_count = 0\n",
    "odd_count = 0\n",
    "\n",
    "# Iterate through the range and count even and odd numbers\n",
    "for num in range(start, end + 1):\n",
    "    if num % 2 == 0:\n",
    "        even_count += 1\n",
    "    else:\n",
    "        odd_count += 1\n",
    "\n",
    "# Display the counts of even and odd numbers\n",
    "print(f\"Number of even numbers in the range: {even_count}\")\n",
    "print(f\"Number of odd numbers in the range: {odd_count}\")\n"
   ]
  },
  {
   "cell_type": "code",
   "execution_count": 7,
   "id": "c037755a",
   "metadata": {},
   "outputs": [
    {
     "name": "stdout",
     "output_type": "stream",
     "text": [
      "Enter the number of digits (n): 45\n",
      "Enter a 45-digit number: 45\n",
      "Please enter a 45-digit number.\n"
     ]
    }
   ],
   "source": [
    "#6. Write a program to find the reverse of n digit number using While loop\n",
    "\n",
    "# Get an n-digit number from the user\n",
    "n = int(input(\"Enter the number of digits (n): \"))\n",
    "if n <= 0:\n",
    "    print(\"Please enter a valid positive integer for n.\")\n",
    "else:\n",
    "    number = int(input(f\"Enter a {n}-digit number: \"))\n",
    "\n",
    "    # Check if the number has exactly n digits\n",
    "    if len(str(number)) != n:\n",
    "        print(f\"Please enter a {n}-digit number.\")\n",
    "    else:\n",
    "        # Initialize variables for the reversed number and a copy of the original number\n",
    "        reversed_number = 0\n",
    "        original_number = number\n",
    "\n",
    "        # Reverse the n-digit number using a while loop\n",
    "        while number > 0:\n",
    "            digit = number % 10\n",
    "            reversed_number = reversed_number * 10 + digit\n",
    "            number //= 10\n",
    "\n",
    "        # Display the reversed number\n",
    "        print(f\"The reverse of {original_number} is {reversed_number}\")\n",
    "\n"
   ]
  },
  {
   "cell_type": "code",
   "execution_count": 8,
   "id": "107e7fbc",
   "metadata": {},
   "outputs": [
    {
     "name": "stdout",
     "output_type": "stream",
     "text": [
      "Enter a decimal number: 456\n",
      "The binary representation is: 111001000\n"
     ]
    }
   ],
   "source": [
    "#7. Write a program to find the binary number from given decimal number.\n",
    "\n",
    "# Get the decimal number from the user\n",
    "decimal_number = int(input(\"Enter a decimal number: \"))\n",
    "\n",
    "# Initialize an empty string to store the binary representation\n",
    "binary_number = \"\"\n",
    "\n",
    "# Handle the case when the number is 0\n",
    "if decimal_number == 0:\n",
    "    binary_number = \"0\"\n",
    "else:\n",
    "    # Convert the decimal number to binary\n",
    "    while decimal_number > 0:\n",
    "        remainder = decimal_number % 2\n",
    "        binary_number = str(remainder) + binary_number\n",
    "        decimal_number //= 2\n",
    "\n",
    "# Display the binary representation\n",
    "print(f\"The binary representation is: {binary_number}\")\n"
   ]
  },
  {
   "cell_type": "code",
   "execution_count": 9,
   "id": "73db104d",
   "metadata": {},
   "outputs": [
    {
     "name": "stdout",
     "output_type": "stream",
     "text": [
      "Enter a binary number: 456\n",
      "Please enter a valid binary number (containing only 0s and 1s).\n"
     ]
    }
   ],
   "source": [
    "#8. Write a program to find the decimal number from given Binary number.\n",
    "# Get the binary number from the user\n",
    "binary_number = input(\"Enter a binary number: \")\n",
    "\n",
    "# Check if the input is a valid binary number\n",
    "if not all(bit in '01' for bit in binary_number):\n",
    "    print(\"Please enter a valid binary number (containing only 0s and 1s).\")\n",
    "else:\n",
    "    # Convert the binary number to decimal\n",
    "    decimal_number = 0\n",
    "    binary_number = binary_number[::-1]  # Reverse the binary number\n",
    "\n",
    "    for i in range(len(binary_number)):\n",
    "        if binary_number[i] == '1':\n",
    "            decimal_number += 2 ** i\n",
    "\n",
    "    # Display the decimal representation\n",
    "    print(f\"The decimal representation is: {decimal_number}\")\n"
   ]
  },
  {
   "cell_type": "code",
   "execution_count": 10,
   "id": "acb886e2",
   "metadata": {},
   "outputs": [
    {
     "name": "stdout",
     "output_type": "stream",
     "text": [
      "Enter a number: 47\n",
      "The factorial of 47 is 258623241511168180642964355153611979969197632389120000000000\n"
     ]
    }
   ],
   "source": [
    "#9. Write a program to find the factorial of the given number.\n",
    "# Get the number from the user\n",
    "n = int(input(\"Enter a number: \"))\n",
    "\n",
    "# Initialize the factorial to 1\n",
    "factorial = 1\n",
    "\n",
    "# Calculate the factorial\n",
    "if n < 0:\n",
    "    print(\"Factorial is not defined for negative numbers.\")\n",
    "elif n == 0:\n",
    "    print(\"The factorial of 0 is 1.\")\n",
    "else:\n",
    "    for i in range(1, n + 1):\n",
    "        factorial *= i\n",
    "\n",
    "    # Display the factorial\n",
    "    print(f\"The factorial of {n} is {factorial}\")\n",
    "\n"
   ]
  },
  {
   "cell_type": "code",
   "execution_count": 11,
   "id": "2be78438",
   "metadata": {},
   "outputs": [
    {
     "name": "stdout",
     "output_type": "stream",
     "text": [
      "Enter the number of terms for the Fibonacci series: 457\n",
      "Fibonacci Series:\n",
      "0, 1, 2, 3, 5, 8, 13, 21, 34, 55, 89, 144, 233, 377, 610, 987, 1597, 2584, 4181, 6765, 10946, 17711, 28657, 46368, 75025, 121393, 196418, 317811, 514229, 832040, 1346269, 2178309, 3524578, 5702887, 9227465, 14930352, 24157817, 39088169, 63245986, 102334155, 165580141, 267914296, 433494437, 701408733, 1134903170, 1836311903, 2971215073, 4807526976, 7778742049, 12586269025, 20365011074, 32951280099, 53316291173, 86267571272, 139583862445, 225851433717, 365435296162, 591286729879, 956722026041, 1548008755920, 2504730781961, 4052739537881, 6557470319842, 10610209857723, 17167680177565, 27777890035288, 44945570212853, 72723460248141, 117669030460994, 190392490709135, 308061521170129, 498454011879264, 806515533049393, 1304969544928657, 2111485077978050, 3416454622906707, 5527939700884757, 8944394323791464, 14472334024676221, 23416728348467685, 37889062373143906, 61305790721611591, 99194853094755497, 160500643816367088, 259695496911122585, 420196140727489673, 679891637638612258, 1100087778366101931, 1779979416004714189, 2880067194370816120, 4660046610375530309, 7540113804746346429, 12200160415121876738, 19740274219868223167, 31940434634990099905, 51680708854858323072, 83621143489848422977, 135301852344706746049, 218922995834555169026, 354224848179261915075, 573147844013817084101, 927372692193078999176, 1500520536206896083277, 2427893228399975082453, 3928413764606871165730, 6356306993006846248183, 10284720757613717413913, 16641027750620563662096, 26925748508234281076009, 43566776258854844738105, 70492524767089125814114, 114059301025943970552219, 184551825793033096366333, 298611126818977066918552, 483162952612010163284885, 781774079430987230203437, 1264937032042997393488322, 2046711111473984623691759, 3311648143516982017180081, 5358359254990966640871840, 8670007398507948658051921, 14028366653498915298923761, 22698374052006863956975682, 36726740705505779255899443, 59425114757512643212875125, 96151855463018422468774568, 155576970220531065681649693, 251728825683549488150424261, 407305795904080553832073954, 659034621587630041982498215, 1066340417491710595814572169, 1725375039079340637797070384, 2791715456571051233611642553, 4517090495650391871408712937, 7308805952221443105020355490, 11825896447871834976429068427, 19134702400093278081449423917, 30960598847965113057878492344, 50095301248058391139327916261, 81055900096023504197206408605, 131151201344081895336534324866, 212207101440105399533740733471, 343358302784187294870275058337, 555565404224292694404015791808, 898923707008479989274290850145, 1454489111232772683678306641953, 2353412818241252672952597492098, 3807901929474025356630904134051, 6161314747715278029583501626149, 9969216677189303386214405760200, 16130531424904581415797907386349, 26099748102093884802012313146549, 42230279526998466217810220532898, 68330027629092351019822533679447, 110560307156090817237632754212345, 178890334785183168257455287891792, 289450641941273985495088042104137, 468340976726457153752543329995929, 757791618667731139247631372100066, 1226132595394188293000174702095995, 1983924214061919432247806074196061, 3210056809456107725247980776292056, 5193981023518027157495786850488117, 8404037832974134882743767626780173, 13598018856492162040239554477268290, 22002056689466296922983322104048463, 35600075545958458963222876581316753, 57602132235424755886206198685365216, 93202207781383214849429075266681969, 150804340016807970735635273952047185, 244006547798191185585064349218729154, 394810887814999156320699623170776339, 638817435613190341905763972389505493, 1033628323428189498226463595560281832, 1672445759041379840132227567949787325, 2706074082469569338358691163510069157, 4378519841510949178490918731459856482, 7084593923980518516849609894969925639, 11463113765491467695340528626429782121, 18547707689471986212190138521399707760, 30010821454963453907530667147829489881, 48558529144435440119720805669229197641, 78569350599398894027251472817058687522, 127127879743834334146972278486287885163, 205697230343233228174223751303346572685, 332825110087067562321196029789634457848, 538522340430300790495419781092981030533, 871347450517368352816615810882615488381, 1409869790947669143312035591975596518914, 2281217241465037496128651402858212007295, 3691087032412706639440686994833808526209, 5972304273877744135569338397692020533504, 9663391306290450775010025392525829059713, 15635695580168194910579363790217849593217, 25299086886458645685589389182743678652930, 40934782466626840596168752972961528246147, 66233869353085486281758142155705206899077, 107168651819712326877926895128666735145224, 173402521172797813159685037284371942044301, 280571172992510140037611932413038677189525, 453973694165307953197296969697410619233826, 734544867157818093234908902110449296423351, 1188518561323126046432205871807859915657177, 1923063428480944139667114773918309212080528, 3111581989804070186099320645726169127737705, 5034645418285014325766435419644478339818233, 8146227408089084511865756065370647467555938, 13180872826374098837632191485015125807374171, 21327100234463183349497947550385773274930109, 34507973060837282187130139035400899082304280, 55835073295300465536628086585786672357234389, 90343046356137747723758225621187571439538669, 146178119651438213260386312206974243796773058, 236521166007575960984144537828161815236311727, 382699285659014174244530850035136059033084785, 619220451666590135228675387863297874269396512, 1001919737325604309473206237898433933302481297, 1621140188992194444701881625761731807571877809, 2623059926317798754175087863660165740874359106, 4244200115309993198876969489421897548446236915, 6867260041627791953052057353082063289320596021, 11111460156937785151929026842503960837766832936, 17978720198565577104981084195586024127087428957, 29090180355503362256910111038089984964854261893, 47068900554068939361891195233676009091941690850, 76159080909572301618801306271765994056795952743, 123227981463641240980692501505442003148737643593, 199387062373213542599493807777207997205533596336, 322615043836854783580186309282650000354271239929, 522002106210068326179680117059857997559804836265, 844617150046923109759866426342507997914076076194, 1366619256256991435939546543402365995473880912459, 2211236406303914545699412969744873993387956988653, 3577855662560905981638959513147239988861837901112, 5789092068864820527338372482892113982249794889765, 9366947731425726508977331996039353971111632790877, 15156039800290547036315704478931467953361427680642, 24522987531716273545293036474970821924473060471519, 39679027332006820581608740953902289877834488152161, 64202014863723094126901777428873111802307548623680, 103881042195729914708510518382775401680142036775841, 168083057059453008835412295811648513482449585399521, 271964099255182923543922814194423915162591622175362, 440047156314635932379335110006072428645041207574883, 712011255569818855923257924200496343807632829750245, 1152058411884454788302593034206568772452674037325128, 1864069667454273644225850958407065116260306867075373, 3016128079338728432528443992613633888712980904400501, 4880197746793002076754294951020699004973287771475874, 7896325826131730509282738943634332893686268675876375, 12776523572924732586037033894655031898659556447352249, 20672849399056463095319772838289364792345825123228624, 33449372971981195681356806732944396691005381570580873, 54122222371037658776676579571233761483351206693809497, 87571595343018854458033386304178158174356588264390370, 141693817714056513234709965875411919657707794958199867, 229265413057075367692743352179590077832064383222590237, 370959230771131880927453318055001997489772178180790104, 600224643828207248620196670234592075321836561403380341, 971183874599339129547649988289594072811608739584170445, 1571408518427546378167846658524186148133445300987550786, 2542592393026885507715496646813780220945054040571721231, 4114000911454431885883343305337966369078499341559272017, 6656593304481317393598839952151746590023553382130993248, 10770594215935749279482183257489712959102052723690265265, 17427187520417066673081023209641459549125606105821258513, 28197781736352815952563206467131172508227658829511523778, 45624969256769882625644229676772632057353264935332782291, 73822750993122698578207436143903804565580923764844306069, 119447720249892581203851665820676436622934188700177088360, 193270471243015279782059101964580241188515112465021394429, 312718191492907860985910767785256677811449301165198482789, 505988662735923140767969869749836918999964413630219877218, 818706854228831001753880637535093596811413714795418360007, 1324695516964754142521850507284930515811378128425638237225, 2143402371193585144275731144820024112622791843221056597232, 3468097888158339286797581652104954628434169971646694834457, 5611500259351924431073312796924978741056961814867751431689, 9079598147510263717870894449029933369491131786514446266146, 14691098406862188148944207245954912110548093601382197697835, 23770696554372451866815101694984845480039225387896643963981, 38461794961234640015759308940939757590587318989278841661816, 62232491515607091882574410635924603070626544377175485625797, 100694286476841731898333719576864360661213863366454327287613, 162926777992448823780908130212788963731840407743629812913410, 263621064469290555679241849789653324393054271110084140201023, 426547842461739379460149980002442288124894678853713953114433, 690168906931029935139391829792095612517948949963798093315456, 1116716749392769314599541809794537900642843628817512046429889, 1806885656323799249738933639586633513160792578781310139745345, 2923602405716568564338475449381171413803636207598822186175234, 4730488062040367814077409088967804926964428786380132325920579, 7654090467756936378415884538348976340768064993978954512095813, 12384578529797304192493293627316781267732493780359086838016392, 20038668997554240570909178165665757608500558774338041350112205, 32423247527351544763402471792982538876233052554697128188128597, 52461916524905785334311649958648296484733611329035169538240802, 84885164052257330097714121751630835360966663883732297726369399, 137347080577163115432025771710279131845700275212767467264610201, 222232244629420445529739893461909967206666939096499764990979600, 359579325206583560961765665172189099052367214309267232255589801, 581811569836004006491505558634099066259034153405766997246569401, 941390895042587567453271223806288165311401367715034229502159202, 1523202464878591573944776782440387231570435521120801226748728603, 2464593359921179141398048006246675396881836888835835456250887805, 3987795824799770715342824788687062628452272409956636682999616408, 6452389184720949856740872794933738025334109298792472139250504213, 10440185009520720572083697583620800653786381708749108822250120621, 16892574194241670428824570378554538679120491007541580961500624834, 27332759203762391000908267962175339332906872716290689783750745455, 44225333398004061429732838340729878012027363723832270745251370289, 71558092601766452430641106302905217344934236440122960529002115744, 115783425999770513860373944643635095356961600163955231274253486033, 187341518601536966291015050946540312701895836604078191803255601777, 303124944601307480151388995590175408058857436768033423077509087810, 490466463202844446442404046536715720760753273372111614880764689587, 793591407804151926593793042126891128819610710140145037958273777397, 1284057871006996373036197088663606849580363983512256652839038466984, 2077649278811148299629990130790497978399974693652401690797312244381, 3361707149818144672666187219454104827980338677164658343636350711365, 5439356428629292972296177350244602806380313370817060034433662955746, 8801063578447437644962364569698707634360652047981718378070013667111, 14240420007076730617258541919943310440740965418798778412503676622857, 23041483585524168262220906489642018075101617466780496790573690289968, 37281903592600898879479448409585328515842582885579275203077366912825, 60323387178125067141700354899227346590944200352359771993651057202793, 97605290770725966021179803308812675106786783237939047196728424115618, 157928677948851033162880158208040021697730983590298819190379481318411, 255533968719576999184059961516852696804517766828237866387107905434029, 413462646668428032346940119724892718502248750418536685577487386752440, 668996615388005031531000081241745415306766517246774551964595292186469, 1082459262056433063877940200966638133809015267665311237542082678938909, 1751455877444438095408940282208383549115781784912085789506677971125378, 2833915139500871159286880483175021682924797052577397027048760650064287, 4585371016945309254695820765383405232040578837489482816555438621189665, 7419286156446180413982701248558426914965375890066879843604199271253952, 12004657173391489668678522013941832147005954727556362660159637892443617, 19423943329837670082661223262500259061971330617623242503763837163697569, 31428600503229159751339745276442091208977285345179605163923475056141186, 50852543833066829834000968538942350270948615962802847667687312219838755, 82281144336295989585340713815384441479925901307982452831610787275979941, 133133688169362819419341682354326791750874517270785300499298099495818696, 215414832505658809004682396169711233230800418578767753330908886771798637, 348548520675021628424024078524038024981674935849553053830206986267617333, 563963353180680437428706474693749258212475354428320807161115873039415970, 912511873855702065852730553217787283194150290277873860991322859307033303, 1476475227036382503281437027911536541406625644706194668152438732346449273, 2388987100892084569134167581129323824600775934984068529143761591653482576, 3865462327928467072415604609040860366007401579690263197296200323999931849, 6254449428820551641549772190170184190608177514674331726439961915653414425, 10119911756749018713965376799211044556615579094364594923736162239653346274, 16374361185569570355515148989381228747223756609038926650176124155306760699, 26494272942318589069480525788592273303839335703403521573912286394960106973, 42868634127888159424995674777973502051063092312442448224088410550266867672, 69362907070206748494476200566565775354902428015845969798000696945226974645, 112231541198094907919471875344539277405965520328288418022089107495493842317, 181594448268301656413948075911105052760867948344134387820089804440720816962, 293825989466396564333419951255644330166833468672422805842178911936214659279, 475420437734698220747368027166749382927701417016557193662268716376935476241, 769246427201094785080787978422393713094534885688979999504447628313150135520, 1244666864935793005828156005589143096022236302705537193166716344690085611761, 2013913292136887790908943984011536809116771188394517192671163973003235747281, 3258580157072680796737099989600679905139007491100054385837880317693321359042, 5272493449209568587646043973612216714255778679494571578509044290696557106323, 8531073606282249384383143963212896619394786170594625964346924608389878465365, 13803567055491817972029187936825113333650564850089197542855968899086435571688, 22334640661774067356412331900038009953045351020683823507202893507476314037053, 36138207717265885328441519836863123286695915870773021050058862406562749608741, 58472848379039952684853851736901133239741266891456844557261755914039063645794, 94611056096305838013295371573764256526437182762229865607320618320601813254535, 153083904475345790698149223310665389766178449653686710164582374234640876900329, 247694960571651628711444594884429646292615632415916575771902992555242690154864, 400778865046997419409593818195095036058794082069603285936485366789883567055193, 648473825618649048121038413079524682351409714485519861708388359345126257210057, 1049252690665646467530632231274619718410203796555123147644873726135009824265250, 1697726516284295515651670644354144400761613511040643009353262085480136081475307, 2746979206949941983182302875628764119171817307595766156998135811615145905740557, 4444705723234237498833973519982908519933430818636409166351397897095281987215864, 7191684930184179482016276395611672639105248126232175323349533708710427892956421, 11636390653418416980850249915594581159038678944868584489700931605805709880172285, 18828075583602596462866526311206253798143927071100759813050465314516137773128706, 30464466237021013443716776226800834957182606015969344302751396920321847653300991, 49292541820623609906583302538007088755326533087070104115801862234837985426429697, 79757008057644623350300078764807923712509139103039448418553259155159833079730688, 129049549878268233256883381302815012467835672190109552534355121389997818506160385, 208806557935912856607183460067622936180344811293149000952908380545157651585891073, 337856107814181089864066841370437948648180483483258553487263501935155470092051458, 546662665750093946471250301438060884828525294776407554440171882480313121677942531, 884518773564275036335317142808498833476705778259666107927435384415468591769993989, 1431181439314368982806567444246559718305231073036073662367607266895781713447936520, 2315700212878644019141884587055058551781936851295739770295042651311250305217930509, 3746881652193013001948452031301618270087167924331813432662649918207032018665867029, 6062581865071657021090336618356676821869104775627553202957692569518282323883797538, 9809463517264670023038788649658295091956272699959366635620342487725314342549664567, 15872045382336327044129125268014971913825377475586919838578035057243596666433462105, 25681508899600997067167913917673267005781650175546286474198377544968911008983126672, 41553554281937324111297039185688238919607027651133206312776412602212507675416588777, 67235063181538321178464953103361505925388677826679492786974790147181418684399715449, 108788617463475645289761992289049744844995705477812699099751202749393926359816304226, 176023680645013966468226945392411250770384383304492191886725992896575345044216019675, 284812298108489611757988937681460995615380088782304890986477195645969271404032323901, 460835978753503578226215883073872246385764472086797082873203188542544616448248343576, 745648276861993189984204820755333242001144560869101973859680384188513887852280667477, 1206484255615496768210420703829205488386909032955899056732883572731058504300529011053, 1952132532477489958194625524584538730388053593825001030592563956919572392152809678530, 3158616788092986726405046228413744218774962626780900087325447529650630896453338689583, 5110749320570476684599671752998282949163016220605901117918011486570203288606148368113, 8269366108663463411004717981412027167937978847386801205243459016220834185059487057696, 13380115429233940095604389734410310117100995067992702323161470502791037473665635425809, 21649481537897403506609107715822337285038973915379503528404929519011871658725122483505, 35029596967131343602213497450232647402139968983372205851566400021802909132390757909314, 56679078505028747108822605166054984687178942898751709379971329540814780791115880392819, 91708675472160090711036102616287632089318911882123915231537729562617689923506638302133, 148387753977188837819858707782342616776497854780875624611509059103432470714622518694952, 240096429449348928530894810398630248865816766662999539843046788666050160638129156997085, 388484183426537766350753518180972865642314621443875164454555847769482631352751675692037, 628580612875886694881648328579603114508131388106874704297602636435532791990880832689122, 1017064796302424461232401846760575980150446009550749868752158484205015423343632508381159, 1645645409178311156114050175340179094658577397657624573049761120640548215334513341070281, 2662710205480735617346452022100755074809023407208374441801919604845563638678145849451440, 4308355614659046773460502197440934169467600804865999014851680725486111854012659190521721, 6971065820139782390806954219541689244276624212074373456653600330331675492690805039973161, 11279421434798829164267456416982623413744225016940372471505281055817787346703464230494882, 18250487254938611555074410636524312658020849229014745928158881386149462839394269270468043, 29529908689737440719341867053506936071765074245955118399664162441967250186097733500962925, 47780395944676052274416277690031248729785923474969864327823043828116713025492002771430968, 77310304634413492993758144743538184801550997720924982727487206270083963211589736272393893, 125090700579089545268174422433569433531336921195894847055310250098200676237081739043824861, 202401005213503038261932567177107618332887918916819829782797456368284639448671475316218754, 327491705792592583530106989610677051864224840112714676838107706466485315685753214360043615, 529892711006095621792039556787784670197112759029534506620905162834769955134424689676262369, 857384416798688205322146546398461722061337599142249183459012869301255270820177904036305984, 1387277127804783827114186103186246392258450358171783690079918032136025225954602593712568353, 2244661544603472032436332649584708114319787957314032873538930901437280496774780497748874337, 3631938672408255859550518752770954506578238315485816563618848933573305722729383091461442690, 5876600217011727891986851402355662620898026272799849437157779835010586219504163589210317027, 9508538889419983751537370155126617127476264588285666000776628768583891942233546680671759717, 15385139106431711643524221557482279748374290861085515437934408603594478161737710269882076744, 24893677995851695395061591712608896875850555449371181438711037372178370103971256950553836461, 40278817102283407038585813270091176624224846310456696876645445975772848265708967220435913205, 65172495098135102433647404982700073500075401759827878315356483347951218369680224170989749666, 105451312200418509472233218252791250124300248070284575192001929323724066635389191391425662871, 170623807298553611905880623235491323624375649830112453507358412671675285005069415562415412537, 276075119498972121378113841488282573748675897900397028699360341995399351640458606953841075408, 446698926797525733283994464723773897373051547730509482206718754667074636645528022516256487945, 722774046296497854662108306212056471121727445630906510906079096662473988285986629470097563353, 1169472973094023587946102770935830368494778993361415993112797851329548624931514651986354051298, 1892247019390521442608211077147886839616506438992322504018876947992022613217501281456451614651, 3061719992484545030554313848083717208111285432353738497131674799321571238149015933442805665949, 4953967011875066473162524925231604047727791871346061001150551747313593851366517214899257280600, 8015687004359611503716838773315321255839077303699799498282226546635165089515533148342062946549, 12969654016234677976879363698546925303566869175045860499432778293948758940882050363241320227149, 20985341020594289480596202471862246559405946478745659997715004840583924030397583511583383173698, 33954995036828967457475566170409171862972815653791520497147783134532682971279633874824703400847, 54940336057423256938071768642271418422378762132537180494862787975116607001677217386408086574545, 88895331094252224395547334812680590285351577786328700992010571109649289972956851261232789975392, "
     ]
    }
   ],
   "source": [
    "#10. Write a program to find the Fibonacci Series of the given number.\n",
    "\n",
    "# Get the number of terms from the user\n",
    "n = int(input(\"Enter the number of terms for the Fibonacci series: \"))\n",
    "\n",
    "# Initialize the first two terms of the series\n",
    "first_term = 0\n",
    "second_term = 1\n",
    "\n",
    "# Display the first two terms (0 and 1)\n",
    "print(\"Fibonacci Series:\")\n",
    "print(first_term, end=\", \")\n",
    "\n",
    "# Calculate and display the remaining terms\n",
    "for i in range(1, n - 1):\n",
    "    next_term = first_term + second_term\n",
    "    print(next_term, end=\", \")\n",
    "    first_term, second_term = second_term, next_term\n",
    "\n",
    "# Handle the case when n is less than 2\n",
    "if n == 1:\n",
    "    print(first_term)\n",
    "elif n == 2:\n",
    "    print(second_term)\n"
   ]
  },
  {
   "cell_type": "code",
   "execution_count": 12,
   "id": "beb43b86",
   "metadata": {},
   "outputs": [
    {
     "name": "stdout",
     "output_type": "stream",
     "text": [
      "Enter a number: 789\n",
      "789 is not a perfect number.\n"
     ]
    }
   ],
   "source": [
    "#11. Write a program to find the given number is perfect number\n",
    "# Get the number from the user\n",
    "number = int(input(\"Enter a number: \"))\n",
    "\n",
    "# Initialize the sum of divisors to 0\n",
    "divisor_sum = 0\n",
    "\n",
    "# Find the divisors and calculate their sum\n",
    "for i in range(1, number):\n",
    "    if number % i == 0:\n",
    "        divisor_sum += i\n",
    "\n",
    "# Check if the number is a perfect number\n",
    "if divisor_sum == number:\n",
    "    print(f\"{number} is a perfect number.\")\n",
    "else:\n",
    "    print(f\"{number} is not a perfect number.\")\n"
   ]
  },
  {
   "cell_type": "code",
   "execution_count": 13,
   "id": "eb934fd8",
   "metadata": {},
   "outputs": [
    {
     "name": "stdout",
     "output_type": "stream",
     "text": [
      "Perfect numbers between 1 and 1000 are:\n",
      "6\n",
      "28\n",
      "496\n"
     ]
    }
   ],
   "source": [
    "#12. Write a program to print the perfect number between 1-1000\n",
    "# Function to check if a number is a perfect number\n",
    "def is_perfect_number(number):\n",
    "    divisor_sum = 0\n",
    "    for i in range(1, number):\n",
    "        if number % i == 0:\n",
    "            divisor_sum += i\n",
    "    return divisor_sum == number\n",
    "\n",
    "# Find and print perfect numbers between 1 and 1000\n",
    "perfect_numbers = [num for num in range(1, 1001) if is_perfect_number(num)]\n",
    "\n",
    "# Display the perfect numbers\n",
    "print(\"Perfect numbers between 1 and 1000 are:\")\n",
    "for num in perfect_numbers:\n",
    "    print(num)\n"
   ]
  },
  {
   "cell_type": "code",
   "execution_count": 14,
   "id": "6207e8fc",
   "metadata": {},
   "outputs": [
    {
     "name": "stdout",
     "output_type": "stream",
     "text": [
      "Enter a number: 48\n",
      "48 is not a strong number.\n"
     ]
    }
   ],
   "source": [
    "#13. Write a program to find the given number is strong number\n",
    "# Function to calculate the factorial of a number\n",
    "def factorial(n):\n",
    "    if n == 0:\n",
    "        return 1\n",
    "    else:\n",
    "        return n * factorial(n - 1)\n",
    "\n",
    "# Get the number from the user\n",
    "number = int(input(\"Enter a number: \"))\n",
    "\n",
    "# Calculate the sum of factorials of its individual digits\n",
    "original_number = number\n",
    "sum_of_factorial_digits = 0\n",
    "while number > 0:\n",
    "    digit = number % 10\n",
    "    sum_of_factorial_digits += factorial(digit)\n",
    "    number //= 10\n",
    "\n",
    "# Check if it's a strong number\n",
    "if sum_of_factorial_digits == original_number:\n",
    "    print(f\"{original_number} is a strong number.\")\n",
    "else:\n",
    "    print(f\"{original_number} is not a strong number.\")\n"
   ]
  },
  {
   "cell_type": "code",
   "execution_count": 17,
   "id": "6308525f",
   "metadata": {},
   "outputs": [
    {
     "name": "stdout",
     "output_type": "stream",
     "text": [
      "Enter the base number: 78\n",
      "Enter the exponent (power) number: 8\n",
      "78.0 raised to the power of 8.0 is equal to 1370114370683136.0\n"
     ]
    }
   ],
   "source": [
    "##14. Two numbers are entered through the keyboard. Write a program to find the value of \n",
    "#one number raised to the power of another\n",
    "# Get the base and exponent from the user\n",
    "\n",
    "base = float(input(\"Enter the base number: \"))\n",
    "exponent = float(input(\"Enter the exponent (power) number: \"))\n",
    "\n",
    "# Calculate the result using the pow function\n",
    "result = pow(base, exponent)\n",
    "\n",
    "# Display the result\n",
    "print(f\"{base} raised to the power of {exponent} is equal to {result}\")\n"
   ]
  },
  {
   "cell_type": "code",
   "execution_count": null,
   "id": "d326c2fa",
   "metadata": {},
   "outputs": [],
   "source": []
  }
 ],
 "metadata": {
  "kernelspec": {
   "display_name": "Python 3 (ipykernel)",
   "language": "python",
   "name": "python3"
  },
  "language_info": {
   "codemirror_mode": {
    "name": "ipython",
    "version": 3
   },
   "file_extension": ".py",
   "mimetype": "text/x-python",
   "name": "python",
   "nbconvert_exporter": "python",
   "pygments_lexer": "ipython3",
   "version": "3.11.4"
  }
 },
 "nbformat": 4,
 "nbformat_minor": 5
}
