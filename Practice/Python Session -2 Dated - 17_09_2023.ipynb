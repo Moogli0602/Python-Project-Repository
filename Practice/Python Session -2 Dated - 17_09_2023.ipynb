{
 "cells": [
  {
   "cell_type": "code",
   "execution_count": 7,
   "id": "d3828366",
   "metadata": {},
   "outputs": [
    {
     "name": "stdout",
     "output_type": "stream",
     "text": [
      "Please Enter your name  - sfsfrfsrew\n"
     ]
    },
    {
     "ename": "ValueError",
     "evalue": "invalid literal for int() with base 10: 'sfsfrfsrew'",
     "output_type": "error",
     "traceback": [
      "\u001b[1;31m---------------------------------------------------------------------------\u001b[0m",
      "\u001b[1;31mValueError\u001b[0m                                Traceback (most recent call last)",
      "Cell \u001b[1;32mIn[7], line 2\u001b[0m\n\u001b[0;32m      1\u001b[0m \u001b[38;5;66;03m##### Inbuilt Function in Python which is called as input()\u001b[39;00m\n\u001b[1;32m----> 2\u001b[0m name \u001b[38;5;241m=\u001b[39m \u001b[38;5;28mint\u001b[39m(\u001b[38;5;28minput\u001b[39m(\u001b[38;5;124m\"\u001b[39m\u001b[38;5;124mPlease Enter your name  - \u001b[39m\u001b[38;5;124m\"\u001b[39m))\n\u001b[0;32m      3\u001b[0m \u001b[38;5;28mprint\u001b[39m(name)\n\u001b[0;32m      4\u001b[0m \u001b[38;5;28mprint\u001b[39m(\u001b[38;5;28mtype\u001b[39m(name))\n",
      "\u001b[1;31mValueError\u001b[0m: invalid literal for int() with base 10: 'sfsfrfsrew'"
     ]
    }
   ],
   "source": [
    "##### Inbuilt Function in Python which is called as input()\n",
    "name = int(input(\"Please Enter your name  - \"))\n",
    "print(name)\n",
    "print(type(name))"
   ]
  },
  {
   "cell_type": "code",
   "execution_count": 14,
   "id": "71668bd3",
   "metadata": {},
   "outputs": [
    {
     "name": "stdout",
     "output_type": "stream",
     "text": [
      "Enter the distance travelled - 252.89\n",
      "Enter the time taken - 12.5\n",
      "The Speed of the car is -  20.23 km/hr\n"
     ]
    }
   ],
   "source": [
    "#### Creating an Application to Calcuate the Speed of the Car - \n",
    "### Can you write a program asking the user to enter distance, \n",
    "### enter speed and calculate the time\n",
    "### and store that and print that ?\n",
    "#print(\"Speed Calculator\")\n",
    "dist = int(input(\"Enter the distance travelled - \"))\n",
    "time = int(input(\"Enter the time taken - \"))\n",
    "\n",
    "speed  = dist/time\n",
    "print(\"The Speed of the car is - \",round(speed,2), \"km/hr\")"
   ]
  },
  {
   "cell_type": "code",
   "execution_count": 16,
   "id": "55feae3a",
   "metadata": {},
   "outputs": [
    {
     "name": "stdout",
     "output_type": "stream",
     "text": [
      "What is your age ? 25.35\n"
     ]
    }
   ],
   "source": [
    "age = float(input(\"What is your age ? \"))"
   ]
  },
  {
   "cell_type": "code",
   "execution_count": null,
   "id": "ca0815e5",
   "metadata": {},
   "outputs": [],
   "source": [
    "# #### mathematical operators for String\n",
    "#  + and *\n",
    "# + is basically use for concatenation of String (both should be in string format)\n",
    "# * is bascially use for repetation of string (one should be string and one should be in int)"
   ]
  },
  {
   "cell_type": "code",
   "execution_count": 19,
   "id": "1c89c3cb",
   "metadata": {},
   "outputs": [
    {
     "name": "stdout",
     "output_type": "stream",
     "text": [
      "Sonali\n",
      "Tende\n",
      "Sonali Tende\n"
     ]
    }
   ],
   "source": [
    "fn = 'Sonali'\n",
    "ln = 'Tende'\n",
    "print(fn)\n",
    "print(ln)\n",
    "full_name = fn + ' ' + ln\n",
    "print(full_name)"
   ]
  },
  {
   "cell_type": "code",
   "execution_count": 25,
   "id": "c741a266",
   "metadata": {},
   "outputs": [
    {
     "data": {
      "text/plain": [
       "'Tahul Tahul Tahul Tahul Tahul Tahul Tahul Tahul Tahul Tahul '"
      ]
     },
     "execution_count": 25,
     "metadata": {},
     "output_type": "execute_result"
    }
   ],
   "source": [
    "ln = \"Tahul \"\n",
    "ln* 10"
   ]
  },
  {
   "cell_type": "code",
   "execution_count": 26,
   "id": "9d8e1a33",
   "metadata": {},
   "outputs": [],
   "source": [
    "### wE CAN USE CONMPARISION OPERATORS  (<,<=, >,>= AND EQUALITY OPERATOR (==, !=))\n",
    "#Comparion will be performed based on alphabetical order"
   ]
  },
  {
   "cell_type": "code",
   "execution_count": 33,
   "id": "2849171b",
   "metadata": {},
   "outputs": [
    {
     "name": "stdout",
     "output_type": "stream",
     "text": [
      "True\n"
     ]
    }
   ],
   "source": [
    "a = \"Zkash\"\n",
    "a1 = \"Rahul\"\n",
    "print(a >= a1)"
   ]
  },
  {
   "cell_type": "code",
   "execution_count": 34,
   "id": "7d319e54",
   "metadata": {},
   "outputs": [],
   "source": [
    "#### Remove Spaces from string\n",
    "# 1. rstrip() - to remove spaces at right hand side\n",
    "# 2. lstrip() - to remove spaces at left hand side\n",
    "# 3. strip() - to remove spaces both sidea"
   ]
  },
  {
   "cell_type": "code",
   "execution_count": 38,
   "id": "1bd76e28",
   "metadata": {},
   "outputs": [
    {
     "name": "stdout",
     "output_type": "stream",
     "text": [
      "   Donald Truimph   \n"
     ]
    }
   ],
   "source": [
    "d = \"   Donald Truimph   \"\n",
    "print(d)"
   ]
  },
  {
   "cell_type": "code",
   "execution_count": 39,
   "id": "285b0c5e",
   "metadata": {},
   "outputs": [
    {
     "name": "stdout",
     "output_type": "stream",
     "text": [
      "Donald Truimph\n"
     ]
    }
   ],
   "source": [
    "d = d.strip()\n",
    "print(d)"
   ]
  },
  {
   "cell_type": "code",
   "execution_count": 41,
   "id": "a74a1141",
   "metadata": {},
   "outputs": [
    {
     "name": "stdout",
     "output_type": "stream",
     "text": [
      "Learning Python is very Easy !!!!!!!!\n",
      "LearningPythonisveryEasy!!!!!!!!\n"
     ]
    }
   ],
   "source": [
    "#### Replacing a String with Another String !!!!!\n",
    "s = \"Learning Python is very Easy !!!!!!!!\"\n",
    "print(s)\n",
    "s1 = s.replace(\" \", \"\")\n",
    "print(s1)"
   ]
  },
  {
   "cell_type": "code",
   "execution_count": 42,
   "id": "6b21e5ff",
   "metadata": {},
   "outputs": [
    {
     "data": {
      "text/plain": [
       "'Learning Python is very Easy !!!!!!!!'"
      ]
     },
     "execution_count": 42,
     "metadata": {},
     "output_type": "execute_result"
    }
   ],
   "source": [
    "#### Counting of Substring in a String\n",
    "s"
   ]
  },
  {
   "cell_type": "code",
   "execution_count": 45,
   "id": "6c79765a",
   "metadata": {},
   "outputs": [
    {
     "name": "stdout",
     "output_type": "stream",
     "text": [
      "5\n"
     ]
    }
   ],
   "source": [
    "print(s.count(' '))"
   ]
  },
  {
   "cell_type": "code",
   "execution_count": 46,
   "id": "e041c29a",
   "metadata": {},
   "outputs": [],
   "source": [
    "s = \"Learning Python and java is very simple\""
   ]
  },
  {
   "cell_type": "code",
   "execution_count": 48,
   "id": "2b7d804f",
   "metadata": {},
   "outputs": [
    {
     "name": "stdout",
     "output_type": "stream",
     "text": [
      "Learning C and Php is very simple\n"
     ]
    }
   ],
   "source": [
    "s1 = s.replace(\"Python\", \"C\").replace(\"java\", \"Php\")\n",
    "print(s1)"
   ]
  },
  {
   "cell_type": "code",
   "execution_count": null,
   "id": "1d2a5f04",
   "metadata": {},
   "outputs": [],
   "source": []
  }
 ],
 "metadata": {
  "kernelspec": {
   "display_name": "Python 3 (ipykernel)",
   "language": "python",
   "name": "python3"
  },
  "language_info": {
   "codemirror_mode": {
    "name": "ipython",
    "version": 3
   },
   "file_extension": ".py",
   "mimetype": "text/x-python",
   "name": "python",
   "nbconvert_exporter": "python",
   "pygments_lexer": "ipython3",
   "version": "3.11.3"
  }
 },
 "nbformat": 4,
 "nbformat_minor": 5
}
