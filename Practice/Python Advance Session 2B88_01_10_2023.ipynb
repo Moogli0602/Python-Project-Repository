{
 "cells": [
  {
   "cell_type": "code",
   "execution_count": 9,
   "id": "d1f3970b",
   "metadata": {},
   "outputs": [
    {
     "name": "stdout",
     "output_type": "stream",
     "text": [
      "1\n"
     ]
    }
   ],
   "source": [
    "### Bitwise OPerator - \n",
    "### We can apply bitwise opertors only in int and boolean values\n",
    "#### & and |\n",
    "print(1 | 0)"
   ]
  },
  {
   "cell_type": "code",
   "execution_count": null,
   "id": "89ce2381",
   "metadata": {},
   "outputs": [],
   "source": [
    "##### & if both bits are 1 then only the result is 1 otherwse result is 0\n",
    "#### | if atleast one bits are 1 then the result is 1 otherwise 0"
   ]
  },
  {
   "cell_type": "code",
   "execution_count": 5,
   "id": "7a1cf6ee",
   "metadata": {},
   "outputs": [
    {
     "name": "stdout",
     "output_type": "stream",
     "text": [
      "0\n"
     ]
    }
   ],
   "source": [
    "print(1 & 0)"
   ]
  },
  {
   "cell_type": "code",
   "execution_count": 10,
   "id": "7cf9e044",
   "metadata": {},
   "outputs": [
    {
     "name": "stdout",
     "output_type": "stream",
     "text": [
      "12\n"
     ]
    }
   ],
   "source": [
    "#### Assignments opertors \n",
    "x = 10\n",
    "x = x+2\n",
    "print(x)"
   ]
  },
  {
   "cell_type": "code",
   "execution_count": 14,
   "id": "e03f3d76",
   "metadata": {},
   "outputs": [
    {
     "name": "stdout",
     "output_type": "stream",
     "text": [
      "3.0\n"
     ]
    }
   ],
   "source": [
    "x = 15\n",
    "x/=5\n",
    "print(x)"
   ]
  },
  {
   "cell_type": "code",
   "execution_count": 15,
   "id": "ca953ad2",
   "metadata": {},
   "outputs": [],
   "source": [
    "#### += , -= , *= , /= , %= , //= ,&=, |="
   ]
  },
  {
   "cell_type": "code",
   "execution_count": 16,
   "id": "9bca1dcc",
   "metadata": {},
   "outputs": [],
   "source": [
    "#### Ternary Operators\n",
    "### x = firstvalue if condition else secondvalue"
   ]
  },
  {
   "cell_type": "code",
   "execution_count": 18,
   "id": "1edb9f36",
   "metadata": {},
   "outputs": [
    {
     "name": "stdout",
     "output_type": "stream",
     "text": [
      "40\n"
     ]
    }
   ],
   "source": [
    "a = 100\n",
    "b = 20\n",
    "x = 30 if a<b else 40\n",
    "print(x)"
   ]
  },
  {
   "cell_type": "code",
   "execution_count": 19,
   "id": "7cae5bd1",
   "metadata": {},
   "outputs": [],
   "source": [
    "#### write a program taking two numbers from the user and print the min of the two"
   ]
  },
  {
   "cell_type": "code",
   "execution_count": 20,
   "id": "a94b069c",
   "metadata": {},
   "outputs": [
    {
     "name": "stdout",
     "output_type": "stream",
     "text": [
      "Enter the 1st No - 56\n",
      "Enter the 2nd No - 25\n",
      "The min value is  -  25\n"
     ]
    }
   ],
   "source": [
    "x = int(input(\"Enter the 1st No - \"))\n",
    "y = int(input(\"Enter the 2nd No - \"))\n",
    "z = x if x<y else y\n",
    "print(\"The min value is  - \", z)"
   ]
  },
  {
   "cell_type": "code",
   "execution_count": 21,
   "id": "08c4d092",
   "metadata": {},
   "outputs": [],
   "source": [
    "# ##### Control Flow - \n",
    "# 1. Conditional Statement - if , if-elif, if-elif-else\n",
    "# 2. Transfer Statement - break, continue, pass\n",
    "# 3. Iterative Statement - for , while"
   ]
  },
  {
   "cell_type": "code",
   "execution_count": 25,
   "id": "567b72a2",
   "metadata": {},
   "outputs": [
    {
     "name": "stdout",
     "output_type": "stream",
     "text": [
      "Condition is correct\n"
     ]
    }
   ],
   "source": [
    "if True:\n",
    "    print(\"Condition is correct\")\n",
    "else:\n",
    "    print(\"Condition is not correct\")"
   ]
  },
  {
   "cell_type": "code",
   "execution_count": 27,
   "id": "acf0f68b",
   "metadata": {},
   "outputs": [
    {
     "name": "stdout",
     "output_type": "stream",
     "text": [
      "The value of a is greater than 15\n"
     ]
    }
   ],
   "source": [
    "a  = 100\n",
    "if a < 15:\n",
    "    print(a)\n",
    "else:\n",
    "    print(\"The value of a is greater than 15\")"
   ]
  },
  {
   "cell_type": "code",
   "execution_count": 28,
   "id": "8b73854c",
   "metadata": {},
   "outputs": [
    {
     "name": "stdout",
     "output_type": "stream",
     "text": [
      "Enter your brand name - C\n",
      "It is customer brand\n"
     ]
    }
   ],
   "source": [
    "brand = input(\"Enter your brand name - \")\n",
    "if brand == 'A':\n",
    "    print(\"It is childers brand\")\n",
    "elif brand == 'B':\n",
    "    print(\"It is boys brand\")\n",
    "elif brand == \"C\":\n",
    "    print(\"It is customer brand\")\n",
    "else:\n",
    "    print(\"Other brands\")"
   ]
  },
  {
   "cell_type": "code",
   "execution_count": 29,
   "id": "8bf6a0ca",
   "metadata": {},
   "outputs": [
    {
     "name": "stdout",
     "output_type": "stream",
     "text": [
      "Enter your brand name - C\n",
      "It is customer brand\n"
     ]
    }
   ],
   "source": [
    "brand = input(\"Enter your brand name - \")\n",
    "if brand == 'A':\n",
    "    print(\"It is childers brand\")\n",
    "if brand == 'B':\n",
    "    print(\"It is boys brand\")\n",
    "if brand == \"C\":\n",
    "    print(\"It is customer brand\")\n",
    "else:\n",
    "    print(\"Other brands\")"
   ]
  },
  {
   "cell_type": "code",
   "execution_count": 36,
   "id": "19cb17ba",
   "metadata": {},
   "outputs": [
    {
     "name": "stdout",
     "output_type": "stream",
     "text": [
      "L-  0 S\n",
      "L-  1 o\n",
      "L-  2 n\n",
      "L-  3 a\n",
      "L-  4 l\n",
      "L-  5 i\n",
      "L-  6  \n",
      "L-  7 S\n",
      "L-  8 i\n",
      "L-  9 n\n",
      "L-  10 h\n",
      "L-  11 a\n"
     ]
    }
   ],
   "source": [
    "#### Iterative Statements\n",
    "#1. for loop - If you want to create some actions for every element presewnt in some sequence\n",
    "### for anyvar in sequence:\n",
    "        #expression\n",
    "i = 0\n",
    "s = \"Sonali Sinha\"\n",
    "for x in s:\n",
    "    print(\"L- \",i, x)\n",
    "    i = i+1"
   ]
  },
  {
   "cell_type": "code",
   "execution_count": 38,
   "id": "cce36807",
   "metadata": {},
   "outputs": [
    {
     "data": {
      "text/plain": [
       "['Apple', 'mango', 'geapes', 'orange', 'pineapple', 'blueberry']"
      ]
     },
     "execution_count": 38,
     "metadata": {},
     "output_type": "execute_result"
    }
   ],
   "source": [
    "fruits = [\"Apple\", \"mango\", \"geapes\",\"orange\", \"pineapple\",\"blueberry\"]\n",
    "fruits"
   ]
  },
  {
   "cell_type": "code",
   "execution_count": 40,
   "id": "d704dde4",
   "metadata": {},
   "outputs": [
    {
     "name": "stdout",
     "output_type": "stream",
     "text": [
      "Fruits-  100 Apple\n",
      "Fruits-  101 mango\n",
      "Fruits-  102 geapes\n",
      "Fruits-  103 orange\n",
      "Fruits-  104 pineapple\n",
      "Fruits-  105 blueberry\n"
     ]
    }
   ],
   "source": [
    "i = 100\n",
    "#s = \"Sonali Sinha\"\n",
    "for x in fruits:\n",
    "    print(\"Fruits- \",i, x)\n",
    "    i = i+1"
   ]
  },
  {
   "cell_type": "code",
   "execution_count": 41,
   "id": "637ab229",
   "metadata": {},
   "outputs": [
    {
     "name": "stdout",
     "output_type": "stream",
     "text": [
      "1\n",
      "3\n",
      "5\n",
      "7\n",
      "9\n",
      "11\n",
      "13\n",
      "15\n",
      "17\n",
      "19\n",
      "21\n",
      "23\n",
      "25\n",
      "27\n",
      "29\n"
     ]
    }
   ],
   "source": [
    "### write a program to display all odd numbers from 0 to 30\n",
    "for x in range(31):\n",
    "    if (x%2!=0):\n",
    "        print(x)"
   ]
  },
  {
   "cell_type": "code",
   "execution_count": 48,
   "id": "6f864cbd",
   "metadata": {
    "collapsed": true
   },
   "outputs": [
    {
     "name": "stdout",
     "output_type": "stream",
     "text": [
      "1 0\n",
      "1 1\n",
      "1 2\n",
      "1 3\n",
      "2 0\n",
      "2 1\n",
      "2 2\n",
      "2 3\n",
      "3 0\n",
      "3 1\n",
      "3 2\n",
      "3 3\n",
      "4 0\n",
      "4 1\n",
      "4 2\n",
      "4 3\n"
     ]
    }
   ],
   "source": [
    "for i in range(0,4): #[0,1,2,3]\n",
    "    for j in range(4):\n",
    "        print(i+1,j)"
   ]
  },
  {
   "cell_type": "code",
   "execution_count": 49,
   "id": "e58d741b",
   "metadata": {},
   "outputs": [],
   "source": [
    "#### While Loop - \n",
    "#### If you want to execute a group of statements iteratively until some condition is False\n",
    "# while condition:\n",
    "#     expression"
   ]
  },
  {
   "cell_type": "code",
   "execution_count": 52,
   "id": "be6109da",
   "metadata": {},
   "outputs": [
    {
     "name": "stdout",
     "output_type": "stream",
     "text": [
      "1\n",
      "2\n",
      "3\n",
      "4\n",
      "5\n",
      "6\n",
      "7\n",
      "8\n",
      "9\n"
     ]
    }
   ],
   "source": [
    "x = 1\n",
    "while x <10:\n",
    "    print(x)\n",
    "    x = x+1"
   ]
  },
  {
   "cell_type": "code",
   "execution_count": 62,
   "id": "a54e15ce",
   "metadata": {},
   "outputs": [
    {
     "name": "stdout",
     "output_type": "stream",
     "text": [
      "0\n",
      "1\n",
      "2\n",
      "3\n",
      "4\n",
      "5\n",
      "Till 6\n"
     ]
    }
   ],
   "source": [
    "#### Transfer Statements - \n",
    "#### 1) break \n",
    "for i in range(10):\n",
    "    if i ==6:\n",
    "        print(\"Till 6\")\n",
    "        break\n",
    "    print(i)"
   ]
  },
  {
   "cell_type": "code",
   "execution_count": 67,
   "id": "807b5398",
   "metadata": {},
   "outputs": [
    {
     "name": "stdout",
     "output_type": "stream",
     "text": [
      "10\n",
      "230\n",
      "50\n",
      "we cannot process this item 500\n",
      "we cannot process this item 457\n",
      "60\n"
     ]
    }
   ],
   "source": [
    "### Continue\n",
    "cart = [10,230,50,500,457,60]\n",
    "for item in cart:\n",
    "    if item >=400:\n",
    "        print(\"we cannot process this item\", item)\n",
    "        continue\n",
    "    print(item)"
   ]
  },
  {
   "cell_type": "code",
   "execution_count": 68,
   "id": "f1548844",
   "metadata": {},
   "outputs": [],
   "source": [
    "# pass  - It is an empty statement\n",
    "#  - It is a null statement\n",
    "#  - It won;t do anything"
   ]
  },
  {
   "cell_type": "code",
   "execution_count": 69,
   "id": "d46b17c4",
   "metadata": {},
   "outputs": [],
   "source": [
    "if True:\n",
    "    pass"
   ]
  },
  {
   "cell_type": "code",
   "execution_count": null,
   "id": "a42207f0",
   "metadata": {},
   "outputs": [],
   "source": [
    "###### Modules  - Pandas (Data Analysis and Data Manipulation)\n",
    "### Pandas  -  Series / Dataframes\n",
    "#### Series is a single column (single array)\n",
    "#### Dataframe  -Multidimesional array (rows and columns more than 1)"
   ]
  },
  {
   "cell_type": "code",
   "execution_count": 71,
   "id": "2f97f6ed",
   "metadata": {},
   "outputs": [
    {
     "name": "stdout",
     "output_type": "stream",
     "text": [
      "[2500, 1200, 1800, 1400, 1600]\n"
     ]
    }
   ],
   "source": [
    "sales = [2500,1200,1800,1400,1600]\n",
    "print(sales)"
   ]
  },
  {
   "cell_type": "code",
   "execution_count": 83,
   "id": "81a4c936",
   "metadata": {},
   "outputs": [
    {
     "data": {
      "text/plain": [
       "1200"
      ]
     },
     "execution_count": 83,
     "metadata": {},
     "output_type": "execute_result"
    }
   ],
   "source": [
    "min(sales)"
   ]
  },
  {
   "cell_type": "code",
   "execution_count": 84,
   "id": "0757f962",
   "metadata": {},
   "outputs": [
    {
     "data": {
      "text/plain": [
       "2500"
      ]
     },
     "execution_count": 84,
     "metadata": {},
     "output_type": "execute_result"
    }
   ],
   "source": [
    "max(sales)"
   ]
  },
  {
   "cell_type": "code",
   "execution_count": 85,
   "id": "d79ec576",
   "metadata": {},
   "outputs": [
    {
     "data": {
      "text/plain": [
       "8500"
      ]
     },
     "execution_count": 85,
     "metadata": {},
     "output_type": "execute_result"
    }
   ],
   "source": [
    "sum(sales)"
   ]
  },
  {
   "cell_type": "code",
   "execution_count": 87,
   "id": "f5beee32",
   "metadata": {},
   "outputs": [
    {
     "ename": "NameError",
     "evalue": "name 'mean' is not defined",
     "output_type": "error",
     "traceback": [
      "\u001b[1;31m---------------------------------------------------------------------------\u001b[0m",
      "\u001b[1;31mNameError\u001b[0m                                 Traceback (most recent call last)",
      "Cell \u001b[1;32mIn[87], line 1\u001b[0m\n\u001b[1;32m----> 1\u001b[0m mean(sales)\n",
      "\u001b[1;31mNameError\u001b[0m: name 'mean' is not defined"
     ]
    }
   ],
   "source": [
    "mean(sales)"
   ]
  },
  {
   "cell_type": "code",
   "execution_count": 79,
   "id": "442090fd",
   "metadata": {},
   "outputs": [],
   "source": [
    "import pandas as pd   #### For other editors than jupyter you have to install pandas\n",
    "#### pip install pandas  for pandas installation"
   ]
  },
  {
   "cell_type": "code",
   "execution_count": 80,
   "id": "e2ca19cb",
   "metadata": {},
   "outputs": [
    {
     "data": {
      "text/plain": [
       "'2.0.1'"
      ]
     },
     "execution_count": 80,
     "metadata": {},
     "output_type": "execute_result"
    }
   ],
   "source": [
    "pd.__version__"
   ]
  },
  {
   "cell_type": "code",
   "execution_count": 86,
   "id": "484d6254",
   "metadata": {},
   "outputs": [
    {
     "name": "stdout",
     "output_type": "stream",
     "text": [
      "0    2500\n",
      "1    1200\n",
      "2    1800\n",
      "3    1400\n",
      "4    1600\n",
      "dtype: int64\n",
      "<class 'pandas.core.series.Series'>\n"
     ]
    }
   ],
   "source": [
    "sales1 = pd.Series(sales)#### S is capital in series\n",
    "print(sales1)\n",
    "print(type(sales1))"
   ]
  },
  {
   "cell_type": "code",
   "execution_count": 90,
   "id": "136a6472",
   "metadata": {},
   "outputs": [
    {
     "name": "stdout",
     "output_type": "stream",
     "text": [
      "1700.0\n",
      "1200\n",
      "2500\n",
      "8500\n"
     ]
    }
   ],
   "source": [
    "print(sales1.mean())\n",
    "print(sales1.min())\n",
    "print(sales1.max())\n",
    "print(sales1.sum())"
   ]
  },
  {
   "cell_type": "code",
   "execution_count": 91,
   "id": "0afba2a6",
   "metadata": {},
   "outputs": [
    {
     "data": {
      "text/plain": [
       "count       5.0\n",
       "mean     1700.0\n",
       "std       500.0\n",
       "min      1200.0\n",
       "25%      1400.0\n",
       "50%      1600.0\n",
       "75%      1800.0\n",
       "max      2500.0\n",
       "dtype: float64"
      ]
     },
     "execution_count": 91,
     "metadata": {},
     "output_type": "execute_result"
    }
   ],
   "source": [
    "sales1.describe()"
   ]
  },
  {
   "cell_type": "code",
   "execution_count": 92,
   "id": "44e8e1c8",
   "metadata": {},
   "outputs": [
    {
     "name": "stdout",
     "output_type": "stream",
     "text": [
      "                                       title  year\n",
      "0                             The Rising Son  1990\n",
      "1                    The Thousand Plane Raid  1969\n",
      "2                           Crucea de piatra  1993\n",
      "3                                    Country  2000\n",
      "4                                 Gaiking II  2011\n",
      "...                                      ...   ...\n",
      "230616                 Nobody Waved Good-bye  1964\n",
      "230617                                 E yue  2005\n",
      "230618                          Lakota Girls  2015\n",
      "230619                        Kroniki domowe  1997\n",
      "230620  Death in the Valley of Good and Evil  2018\n",
      "\n",
      "[230621 rows x 2 columns]\n"
     ]
    }
   ],
   "source": [
    "### data  = pd.read_csv(\"path/file.format\")\n",
    "data  = pd.read_(\"E:/TOPMENTOR/PART1/topmenor/Top Mentor/Datasets/titles.csv\")\n",
    "print(data)"
   ]
  },
  {
   "cell_type": "code",
   "execution_count": 96,
   "id": "8ee52bba",
   "metadata": {
    "collapsed": true
   },
   "outputs": [
    {
     "name": "stdout",
     "output_type": "stream",
     "text": [
      "Collecting xlrd\n",
      "  Downloading xlrd-2.0.1-py2.py3-none-any.whl (96 kB)\n",
      "     ---------------------------------------- 0.0/96.5 kB ? eta -:--:--\n",
      "     -------------------------------------- - 92.2/96.5 kB 2.6 MB/s eta 0:00:01\n",
      "     ---------------------------------------- 96.5/96.5 kB 1.8 MB/s eta 0:00:00\n",
      "Installing collected packages: xlrd\n",
      "Successfully installed xlrd-2.0.1\n"
     ]
    }
   ],
   "source": [
    "#!pip install xlrd "
   ]
  },
  {
   "cell_type": "code",
   "execution_count": 97,
   "id": "cdb6d2e1",
   "metadata": {},
   "outputs": [
    {
     "name": "stdout",
     "output_type": "stream",
     "text": [
      "      Row ID        Order ID Order Date  Ship Date       Ship Mode   \n",
      "0          1  CA-2016-152156 2016-11-08 2016-11-11    Second Class  \\\n",
      "1          2  CA-2016-152156 2016-11-08 2016-11-11    Second Class   \n",
      "2          3  CA-2016-138688 2016-06-12 2016-06-16    Second Class   \n",
      "3          4  US-2015-108966 2015-10-11 2015-10-18  Standard Class   \n",
      "4          5  US-2015-108966 2015-10-11 2015-10-18  Standard Class   \n",
      "...      ...             ...        ...        ...             ...   \n",
      "9989    9990  CA-2014-110422 2014-01-21 2014-01-23    Second Class   \n",
      "9990    9991  CA-2017-121258 2017-02-26 2017-03-03  Standard Class   \n",
      "9991    9992  CA-2017-121258 2017-02-26 2017-03-03  Standard Class   \n",
      "9992    9993  CA-2017-121258 2017-02-26 2017-03-03  Standard Class   \n",
      "9993    9994  CA-2017-119914 2017-05-04 2017-05-09    Second Class   \n",
      "\n",
      "     Customer ID     Customer Name    Segment        Country             City   \n",
      "0       CG-12520       Claire Gute   Consumer  United States        Henderson  \\\n",
      "1       CG-12520       Claire Gute   Consumer  United States        Henderson   \n",
      "2       DV-13045   Darrin Van Huff  Corporate  United States      Los Angeles   \n",
      "3       SO-20335    Sean O'Donnell   Consumer  United States  Fort Lauderdale   \n",
      "4       SO-20335    Sean O'Donnell   Consumer  United States  Fort Lauderdale   \n",
      "...          ...               ...        ...            ...              ...   \n",
      "9989    TB-21400  Tom Boeckenhauer   Consumer  United States            Miami   \n",
      "9990    DB-13060       Dave Brooks   Consumer  United States       Costa Mesa   \n",
      "9991    DB-13060       Dave Brooks   Consumer  United States       Costa Mesa   \n",
      "9992    DB-13060       Dave Brooks   Consumer  United States       Costa Mesa   \n",
      "9993    CC-12220      Chris Cortes   Consumer  United States      Westminster   \n",
      "\n",
      "      ... Postal Code  Region       Product ID         Category Sub-Category   \n",
      "0     ...       42420   South  FUR-BO-10001798        Furniture    Bookcases  \\\n",
      "1     ...       42420   South  FUR-CH-10000454        Furniture       Chairs   \n",
      "2     ...       90036    West  OFF-LA-10000240  Office Supplies       Labels   \n",
      "3     ...       33311   South  FUR-TA-10000577        Furniture       Tables   \n",
      "4     ...       33311   South  OFF-ST-10000760  Office Supplies      Storage   \n",
      "...   ...         ...     ...              ...              ...          ...   \n",
      "9989  ...       33180   South  FUR-FU-10001889        Furniture  Furnishings   \n",
      "9990  ...       92627    West  FUR-FU-10000747        Furniture  Furnishings   \n",
      "9991  ...       92627    West  TEC-PH-10003645       Technology       Phones   \n",
      "9992  ...       92627    West  OFF-PA-10004041  Office Supplies        Paper   \n",
      "9993  ...       92683    West  OFF-AP-10002684  Office Supplies   Appliances   \n",
      "\n",
      "                                           Product Name     Sales  Quantity   \n",
      "0                     Bush Somerset Collection Bookcase  261.9600         2  \\\n",
      "1     Hon Deluxe Fabric Upholstered Stacking Chairs,...  731.9400         3   \n",
      "2     Self-Adhesive Address Labels for Typewriters b...   14.6200         2   \n",
      "3         Bretford CR4500 Series Slim Rectangular Table  957.5775         5   \n",
      "4                        Eldon Fold 'N Roll Cart System   22.3680         2   \n",
      "...                                                 ...       ...       ...   \n",
      "9989                             Ultra Door Pull Handle   25.2480         3   \n",
      "9990  Tenex B1-RE Series Chair Mats for Low Pile Car...   91.9600         2   \n",
      "9991                              Aastra 57i VoIP phone  258.5760         2   \n",
      "9992  It's Hot Message Books with Stickers, 2 3/4\" x 5\"   29.6000         4   \n",
      "9993  Acco 7-Outlet Masterpiece Power Center, Wihtou...  243.1600         2   \n",
      "\n",
      "      Discount    Profit  \n",
      "0         0.00   41.9136  \n",
      "1         0.00  219.5820  \n",
      "2         0.00    6.8714  \n",
      "3         0.45 -383.0310  \n",
      "4         0.20    2.5164  \n",
      "...        ...       ...  \n",
      "9989      0.20    4.1028  \n",
      "9990      0.00   15.6332  \n",
      "9991      0.20   19.3932  \n",
      "9992      0.00   13.3200  \n",
      "9993      0.00   72.9480  \n",
      "\n",
      "[9994 rows x 21 columns]\n"
     ]
    }
   ],
   "source": [
    "retail = pd.read_excel(\"E:/TOPMENTOR/PART1/topmenor/Top Mentor/Datasets/Retail.xls\")\n",
    "print(retail)"
   ]
  },
  {
   "cell_type": "code",
   "execution_count": null,
   "id": "69a87234",
   "metadata": {},
   "outputs": [],
   "source": []
  }
 ],
 "metadata": {
  "kernelspec": {
   "display_name": "Python 3 (ipykernel)",
   "language": "python",
   "name": "python3"
  },
  "language_info": {
   "codemirror_mode": {
    "name": "ipython",
    "version": 3
   },
   "file_extension": ".py",
   "mimetype": "text/x-python",
   "name": "python",
   "nbconvert_exporter": "python",
   "pygments_lexer": "ipython3",
   "version": "3.11.3"
  }
 },
 "nbformat": 4,
 "nbformat_minor": 5
}
