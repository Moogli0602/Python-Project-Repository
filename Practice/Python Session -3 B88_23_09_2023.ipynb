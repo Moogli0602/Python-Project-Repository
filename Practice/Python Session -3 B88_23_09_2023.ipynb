{
 "cells": [
  {
   "cell_type": "code",
   "execution_count": 1,
   "id": "359e8059",
   "metadata": {},
   "outputs": [],
   "source": [
    "#### How to Split a String \n",
    "#### We can split the string according to a seperator\n",
    "#### l = s.split(seperator)"
   ]
  },
  {
   "cell_type": "code",
   "execution_count": 6,
   "id": "c8ef62c2",
   "metadata": {},
   "outputs": [
    {
     "name": "stdout",
     "output_type": "stream",
     "text": [
      "python software fondation\n"
     ]
    }
   ],
   "source": [
    "s = \"python software fondation\"\n",
    "print(s)"
   ]
  },
  {
   "cell_type": "code",
   "execution_count": 9,
   "id": "eb03658c",
   "metadata": {},
   "outputs": [
    {
     "name": "stdout",
     "output_type": "stream",
     "text": [
      "['python', 'software', 'fondation']\n"
     ]
    }
   ],
   "source": [
    "l = s.split(' ')\n",
    "print(l)  #### It is in a data structure called as list\n",
    "#### Use a loop to see the seperation"
   ]
  },
  {
   "cell_type": "code",
   "execution_count": 10,
   "id": "95ea4dd0",
   "metadata": {},
   "outputs": [
    {
     "name": "stdout",
     "output_type": "stream",
     "text": [
      "['2022', '09', '23']\n"
     ]
    }
   ],
   "source": [
    "d = \"2022-09-23\"\n",
    "d1 = d.split('-')\n",
    "print(d1)"
   ]
  },
  {
   "cell_type": "code",
   "execution_count": 11,
   "id": "d60cc4ee",
   "metadata": {},
   "outputs": [
    {
     "name": "stdout",
     "output_type": "stream",
     "text": [
      "['Rahul', ' is ', ' a good', ' boy']\n"
     ]
    }
   ],
   "source": [
    "k = \"Rahul, is , a good, boy\"\n",
    "k1 = k.split(',')\n",
    "print(k1)"
   ]
  },
  {
   "cell_type": "code",
   "execution_count": 13,
   "id": "401e5f44",
   "metadata": {
    "collapsed": true
   },
   "outputs": [
    {
     "name": "stdout",
     "output_type": "stream",
     "text": [
      "R\n",
      "a\n",
      "h\n",
      "u\n",
      "l\n",
      ",\n",
      " \n",
      "i\n",
      "s\n",
      " \n",
      ",\n",
      " \n",
      "a\n",
      " \n",
      "g\n",
      "o\n",
      "o\n",
      "d\n",
      ",\n",
      " \n",
      "b\n",
      "o\n",
      "y\n"
     ]
    }
   ],
   "source": [
    "for i in k:\n",
    "    print(i)"
   ]
  },
  {
   "cell_type": "code",
   "execution_count": null,
   "id": "7a296da2",
   "metadata": {},
   "outputs": [],
   "source": [
    "##### You can use a for loop to see the words\n",
    "#### For loop runs based on sequence\n",
    "for any_var in sequence:\n",
    "    print(any_var)  ##### Indentation in Python\n",
    "print(\"Outside the Loop\")"
   ]
  },
  {
   "cell_type": "code",
   "execution_count": 12,
   "id": "4cd9e8f6",
   "metadata": {},
   "outputs": [
    {
     "name": "stdout",
     "output_type": "stream",
     "text": [
      "Rahul\n",
      " is \n",
      " a good\n",
      " boy\n",
      "Outside loop\n"
     ]
    }
   ],
   "source": [
    "for i in k1:\n",
    "    print(i)\n",
    "print(\"Outside loop\")"
   ]
  },
  {
   "cell_type": "code",
   "execution_count": 14,
   "id": "9f4b7f7d",
   "metadata": {},
   "outputs": [
    {
     "name": "stdout",
     "output_type": "stream",
     "text": [
      "[1, 2, 3, 4]\n"
     ]
    }
   ],
   "source": [
    "t = [1,2,3,4]\n",
    "print(t)"
   ]
  },
  {
   "cell_type": "code",
   "execution_count": 16,
   "id": "102278fb",
   "metadata": {
    "collapsed": true
   },
   "outputs": [
    {
     "name": "stdout",
     "output_type": "stream",
     "text": [
      "1\n",
      "Inside\n",
      "2\n",
      "Inside\n",
      "3\n",
      "Inside\n",
      "4\n",
      "Inside\n"
     ]
    }
   ],
   "source": [
    "for a in t:\n",
    "    print(a)\n",
    "    print(\"Inside\")"
   ]
  },
  {
   "cell_type": "code",
   "execution_count": 17,
   "id": "eb34f725",
   "metadata": {},
   "outputs": [
    {
     "name": "stdout",
     "output_type": "stream",
     "text": [
      "['Ragul', 'gamil.com']\n"
     ]
    }
   ],
   "source": [
    "l = \"Ragul@gamil.com\"\n",
    "l1 = l.split('@')\n",
    "print(l1)"
   ]
  },
  {
   "cell_type": "code",
   "execution_count": 21,
   "id": "1a991e73",
   "metadata": {
    "collapsed": true
   },
   "outputs": [
    {
     "name": "stdout",
     "output_type": "stream",
     "text": [
      "['Ragul', 'gamil.com']\n",
      "Ragul@gamil.com\n"
     ]
    }
   ],
   "source": [
    "#### Join the Strings \n",
    "#We can join a group of strings (list or tuple) wrt to given seperator\n",
    "# s = seperator.join(group of strings)\n",
    "print(l1)\n",
    "l2 = '@'.join(l1)\n",
    "print(l2)"
   ]
  },
  {
   "cell_type": "code",
   "execution_count": 22,
   "id": "0c55b61c",
   "metadata": {
    "collapsed": true
   },
   "outputs": [
    {
     "name": "stdout",
     "output_type": "stream",
     "text": [
      "['hyderabad', 'london', 'delhi', 'mumbai']\n"
     ]
    }
   ],
   "source": [
    "r = ['hyderabad','london','delhi','mumbai']\n",
    "print(r)"
   ]
  },
  {
   "cell_type": "code",
   "execution_count": 23,
   "id": "5153c77d",
   "metadata": {},
   "outputs": [
    {
     "name": "stdout",
     "output_type": "stream",
     "text": [
      "hyderabad:london:delhi:mumbai\n"
     ]
    }
   ],
   "source": [
    "q = ':'.join(r)\n",
    "print(q)"
   ]
  },
  {
   "cell_type": "code",
   "execution_count": null,
   "id": "c4db003b",
   "metadata": {},
   "outputs": [],
   "source": [
    "#### Chnage of Cases - \n",
    "We can change case string by 4 methods\n",
    "1. upper()\n",
    "2. lower()\n",
    "3. swapcase() - which ever is lower, it will convert to upper and viceversa\n",
    "4. title() - The first character of every word will be in upper\n",
    "5. capitalize() - Only 1st Charcter will be converted to upper rest all are lower"
   ]
  },
  {
   "cell_type": "code",
   "execution_count": 24,
   "id": "f22111c5",
   "metadata": {},
   "outputs": [
    {
     "name": "stdout",
     "output_type": "stream",
     "text": [
      "learning python is very easy\n",
      "LEARNING PYTHON IS VERY EASY\n",
      "LEArNING python IS vERY eASY\n",
      "Learning Python Is Very Easy\n",
      "Learning python is very easy\n"
     ]
    }
   ],
   "source": [
    "s = \"leaRning PYTHON is Very Easy\"\n",
    "print(s.lower())\n",
    "print(s.upper())\n",
    "print(s.swapcase())\n",
    "print(s.title())\n",
    "print(s.capitalize())"
   ]
  },
  {
   "cell_type": "code",
   "execution_count": null,
   "id": "7ae92751",
   "metadata": {},
   "outputs": [],
   "source": [
    "##### Checking Starting and ending part\n",
    "Python contains this following functions.\n",
    "1. s.startswith(substring)\n",
    "2. s.endswith(substring)"
   ]
  },
  {
   "cell_type": "code",
   "execution_count": 25,
   "id": "107f5e07",
   "metadata": {},
   "outputs": [
    {
     "name": "stdout",
     "output_type": "stream",
     "text": [
      "learning python is very easy and crucial\n"
     ]
    }
   ],
   "source": [
    "s = \"learning python is very easy and crucial\"\n",
    "print(s)"
   ]
  },
  {
   "cell_type": "code",
   "execution_count": 29,
   "id": "7ff89fa0",
   "metadata": {},
   "outputs": [
    {
     "name": "stdout",
     "output_type": "stream",
     "text": [
      "True\n"
     ]
    }
   ],
   "source": [
    "print(s.startswith('learning'))"
   ]
  },
  {
   "cell_type": "code",
   "execution_count": 31,
   "id": "0d829943",
   "metadata": {},
   "outputs": [
    {
     "name": "stdout",
     "output_type": "stream",
     "text": [
      "True\n"
     ]
    }
   ],
   "source": [
    "print(s.endswith('crucial'))"
   ]
  },
  {
   "cell_type": "markdown",
   "id": "3f623e93",
   "metadata": {},
   "source": [
    "### Formatting of Strings"
   ]
  },
  {
   "cell_type": "code",
   "execution_count": 32,
   "id": "431225e7",
   "metadata": {},
   "outputs": [],
   "source": [
    "name = \"Bose\"\n",
    "salary  = 10000\n",
    "age = 45"
   ]
  },
  {
   "cell_type": "code",
   "execution_count": 33,
   "id": "114a27b8",
   "metadata": {},
   "outputs": [
    {
     "name": "stdout",
     "output_type": "stream",
     "text": [
      "Bose\n",
      "45\n",
      "10000\n"
     ]
    }
   ],
   "source": [
    "print(name)\n",
    "print(age)\n",
    "print(salary)"
   ]
  },
  {
   "cell_type": "code",
   "execution_count": 34,
   "id": "47fd0ab2",
   "metadata": {},
   "outputs": [
    {
     "name": "stdout",
     "output_type": "stream",
     "text": [
      "Bose's salary is 10000 and his age is 45\n"
     ]
    }
   ],
   "source": [
    "print(\"{}'s salary is {} and his age is {}\".format(name,salary,age))"
   ]
  },
  {
   "cell_type": "code",
   "execution_count": 35,
   "id": "0dedb3fb",
   "metadata": {},
   "outputs": [
    {
     "name": "stdout",
     "output_type": "stream",
     "text": [
      "10000's salary is  of Bose and his age is 45\n"
     ]
    }
   ],
   "source": [
    "print(\"{1}'s salary is  of {0} and his age is {2}\".format(name,salary,age))"
   ]
  },
  {
   "cell_type": "code",
   "execution_count": 36,
   "id": "59dd21d4",
   "metadata": {},
   "outputs": [
    {
     "name": "stdout",
     "output_type": "stream",
     "text": [
      "Bose's salary is  of 10000 and his age is 45\n"
     ]
    }
   ],
   "source": [
    "print(\"{x}'s salary is  of {y} and his age is {z}\".format(x = name,y =salary,z = age))"
   ]
  },
  {
   "cell_type": "code",
   "execution_count": 41,
   "id": "f33d3f51",
   "metadata": {},
   "outputs": [
    {
     "name": "stdout",
     "output_type": "stream",
     "text": [
      "Bose's salary is 10000 and his age 45\n"
     ]
    }
   ],
   "source": [
    "print(f\"{name}'s salary is {salary} and his age {age}\")"
   ]
  },
  {
   "cell_type": "markdown",
   "id": "2d3c4953",
   "metadata": {},
   "source": [
    "#### LIST DATA STRCUTURE"
   ]
  },
  {
   "cell_type": "code",
   "execution_count": 43,
   "id": "f92da0f8",
   "metadata": {},
   "outputs": [
    {
     "name": "stdout",
     "output_type": "stream",
     "text": [
      "('ram', 'sita', 'rohan')\n"
     ]
    }
   ],
   "source": [
    "a = \"ram\",\"sita\",\"rohan\"\n",
    "print(a)"
   ]
  },
  {
   "cell_type": "code",
   "execution_count": null,
   "id": "3f9432d8",
   "metadata": {},
   "outputs": [],
   "source": [
    "a  = 50,80,109,10"
   ]
  },
  {
   "cell_type": "code",
   "execution_count": null,
   "id": "4eeffacb",
   "metadata": {},
   "outputs": [],
   "source": [
    "####if you want o store a group of values as an inbdividual object as single entity then you can use list\n",
    "\n",
    "1. Insertion   order is preserved\n",
    "2. Duplicate objects are allowed\n",
    "3. Hetrogenous objects are allowed\n",
    "4. List is dynamic\n",
    "5. It uses a []\n",
    "6. List is Mutable   ##### You can add or remove anything from the list"
   ]
  },
  {
   "cell_type": "code",
   "execution_count": 44,
   "id": "4e1adbff",
   "metadata": {},
   "outputs": [
    {
     "name": "stdout",
     "output_type": "stream",
     "text": [
      "[]\n",
      "<class 'list'>\n"
     ]
    }
   ],
   "source": [
    "l = []\n",
    "print(l)\n",
    "print(type(l))"
   ]
  },
  {
   "cell_type": "code",
   "execution_count": 55,
   "id": "76354120",
   "metadata": {},
   "outputs": [
    {
     "name": "stdout",
     "output_type": "stream",
     "text": [
      "[90, 12, 115, 18, 20, 18, 'Rahul', 222.908, [12, 15]]\n",
      "<class 'list'>\n"
     ]
    }
   ],
   "source": [
    "l = [90,12,115,18,20,18,\"Rahul\",222.908,[12,15]]\n",
    "print(l)\n",
    "print(type(l))"
   ]
  },
  {
   "cell_type": "code",
   "execution_count": 52,
   "id": "3ae8354e",
   "metadata": {},
   "outputs": [
    {
     "data": {
      "text/plain": [
       "[90, 12]"
      ]
     },
     "execution_count": 52,
     "metadata": {},
     "output_type": "execute_result"
    }
   ],
   "source": [
    "l[3]  #### How to access list\n",
    "l[0:2]"
   ]
  },
  {
   "cell_type": "code",
   "execution_count": 57,
   "id": "7419adfc",
   "metadata": {},
   "outputs": [],
   "source": [
    "l[2] = 1500"
   ]
  },
  {
   "cell_type": "code",
   "execution_count": 58,
   "id": "57477a6f",
   "metadata": {},
   "outputs": [
    {
     "name": "stdout",
     "output_type": "stream",
     "text": [
      "[90, 12, 1500, 18, 20, 18, 'Rahul', 222.908, [12, 15]]\n"
     ]
    }
   ],
   "source": [
    "print(l)"
   ]
  },
  {
   "cell_type": "code",
   "execution_count": 59,
   "id": "e3da3f2c",
   "metadata": {},
   "outputs": [
    {
     "name": "stdout",
     "output_type": "stream",
     "text": [
      "learning python is very easy\n"
     ]
    }
   ],
   "source": [
    "s = \"learning python is very easy\"\n",
    "print(s)"
   ]
  },
  {
   "cell_type": "code",
   "execution_count": 63,
   "id": "0d936f1b",
   "metadata": {},
   "outputs": [
    {
     "name": "stdout",
     "output_type": "stream",
     "text": [
      "['learning', 'python', 'is', 'very', 'easy']\n"
     ]
    }
   ],
   "source": [
    "l = s.split()  ##### If you use a split function it will create a list\n",
    "print(l)"
   ]
  },
  {
   "cell_type": "code",
   "execution_count": 75,
   "id": "23c6b710",
   "metadata": {},
   "outputs": [
    {
     "data": {
      "text/plain": [
       "'on'"
      ]
     },
     "execution_count": 75,
     "metadata": {},
     "output_type": "execute_result"
    }
   ],
   "source": [
    "l[1][4:6]"
   ]
  },
  {
   "cell_type": "code",
   "execution_count": 76,
   "id": "f4db1b04",
   "metadata": {},
   "outputs": [
    {
     "data": {
      "text/plain": [
       "['learning', 'python']"
      ]
     },
     "execution_count": 76,
     "metadata": {},
     "output_type": "execute_result"
    }
   ],
   "source": [
    "l[0:2]"
   ]
  },
  {
   "cell_type": "code",
   "execution_count": 82,
   "id": "d1a05e79",
   "metadata": {},
   "outputs": [
    {
     "name": "stdout",
     "output_type": "stream",
     "text": [
      "[1, 1, 1, 1, 1, 2, 2, 3, 4, 5, 6, 67, 7, 8]\n"
     ]
    }
   ],
   "source": [
    "n= [1,1,1,1,1,2,2,3,4,5,6,67,7,8]\n",
    "print(n)"
   ]
  },
  {
   "cell_type": "code",
   "execution_count": 78,
   "id": "e13a69bf",
   "metadata": {
    "collapsed": true
   },
   "outputs": [
    {
     "name": "stdout",
     "output_type": "stream",
     "text": [
      "1\n",
      "2\n",
      "2\n",
      "3\n",
      "4\n",
      "5\n",
      "6\n",
      "67\n",
      "7\n",
      "8\n"
     ]
    }
   ],
   "source": [
    "for a in n:\n",
    "    print(a)"
   ]
  },
  {
   "cell_type": "code",
   "execution_count": 80,
   "id": "1b52af1a",
   "metadata": {},
   "outputs": [
    {
     "name": "stdout",
     "output_type": "stream",
     "text": [
      "10\n"
     ]
    }
   ],
   "source": [
    "##### Important Functions of List - \n",
    "#1.len()  #### returns the number of elements\n",
    "print(len(n))"
   ]
  },
  {
   "cell_type": "code",
   "execution_count": 83,
   "id": "91cc2a84",
   "metadata": {},
   "outputs": [
    {
     "name": "stdout",
     "output_type": "stream",
     "text": [
      "5\n"
     ]
    }
   ],
   "source": [
    "### count( ) It will return the number of occurances of specified item in the list\n",
    "n.count(2)\n",
    "print(n.count(1))"
   ]
  },
  {
   "cell_type": "code",
   "execution_count": 85,
   "id": "e679b6e7",
   "metadata": {},
   "outputs": [
    {
     "data": {
      "text/plain": [
       "10"
      ]
     },
     "execution_count": 85,
     "metadata": {},
     "output_type": "execute_result"
    }
   ],
   "source": [
    "#### index() returns the 1st occurance of the specified item\n",
    "n.index(6)"
   ]
  },
  {
   "cell_type": "code",
   "execution_count": 91,
   "id": "048a3cc7",
   "metadata": {},
   "outputs": [
    {
     "name": "stdout",
     "output_type": "stream",
     "text": [
      "['ram', 'sita']\n"
     ]
    }
   ],
   "source": [
    "###### manupulating Elements of List\n",
    "### 1. append()  ### it will add the values at the end of the list\n",
    "a = [\"ram\",\"sita\"]\n",
    "print(a)"
   ]
  },
  {
   "cell_type": "code",
   "execution_count": 92,
   "id": "2c61707b",
   "metadata": {},
   "outputs": [
    {
     "name": "stdout",
     "output_type": "stream",
     "text": [
      "['ram', 'sita', 'laxman']\n"
     ]
    }
   ],
   "source": [
    "a.append(\"laxman\")\n",
    "print(a)"
   ]
  },
  {
   "cell_type": "code",
   "execution_count": 89,
   "id": "e26c2980",
   "metadata": {},
   "outputs": [
    {
     "name": "stdout",
     "output_type": "stream",
     "text": [
      "['ram', 'sita']\n"
     ]
    }
   ],
   "source": [
    "print(a)"
   ]
  },
  {
   "cell_type": "code",
   "execution_count": 93,
   "id": "7b6371f1",
   "metadata": {},
   "outputs": [
    {
     "name": "stdout",
     "output_type": "stream",
     "text": [
      "['ram', 'laxman', 'sita', 'laxman']\n"
     ]
    }
   ],
   "source": [
    "a.insert(1,\"laxman\")\n",
    "print(a)"
   ]
  },
  {
   "cell_type": "code",
   "execution_count": 95,
   "id": "7f05ed7b",
   "metadata": {},
   "outputs": [
    {
     "name": "stdout",
     "output_type": "stream",
     "text": [
      "['ram', 'laxman', 'sita', 'laxman']\n",
      "[1, 1, 1, 1, 1, 2, 2, 3, 4, 5, 6, 67, 7, 8]\n"
     ]
    }
   ],
   "source": [
    "#extend() ##### it add multiple values/ add a list of values\n",
    "print(a)\n",
    "print(n)"
   ]
  },
  {
   "cell_type": "code",
   "execution_count": 96,
   "id": "a2bdf3d3",
   "metadata": {},
   "outputs": [
    {
     "name": "stdout",
     "output_type": "stream",
     "text": [
      "['ram', 'laxman', 'sita', 'laxman', 1, 1, 1, 1, 1, 2, 2, 3, 4, 5, 6, 67, 7, 8]\n"
     ]
    }
   ],
   "source": [
    "a.extend(n)\n",
    "print(a)"
   ]
  },
  {
   "cell_type": "code",
   "execution_count": 98,
   "id": "24343634",
   "metadata": {},
   "outputs": [
    {
     "name": "stdout",
     "output_type": "stream",
     "text": [
      "[1, 1, 1, 1, 1, 2, 2, 3, 4, 5, 6, 67, 7, 8, 'ram', 'laxman', 'sita', 'laxman', 1, 1, 1, 1, 1, 2, 2, 3, 4, 5, 6, 67, 7, 8]\n"
     ]
    }
   ],
   "source": [
    "n.extend(a)\n",
    "print(n)"
   ]
  },
  {
   "cell_type": "code",
   "execution_count": null,
   "id": "3d618c32",
   "metadata": {},
   "outputs": [],
   "source": [
    "pop()it will remove and return the last element of the list"
   ]
  },
  {
   "cell_type": "code",
   "execution_count": 100,
   "id": "673c1ebe",
   "metadata": {},
   "outputs": [
    {
     "data": {
      "text/plain": [
       "15"
      ]
     },
     "execution_count": 100,
     "metadata": {},
     "output_type": "execute_result"
    }
   ],
   "source": [
    "m = [10,12,15]\n",
    "m.pop()"
   ]
  },
  {
   "cell_type": "code",
   "execution_count": 101,
   "id": "6f472448",
   "metadata": {},
   "outputs": [
    {
     "name": "stdout",
     "output_type": "stream",
     "text": [
      "[10, 12]\n"
     ]
    }
   ],
   "source": [
    "print(m)"
   ]
  },
  {
   "cell_type": "code",
   "execution_count": 103,
   "id": "5c37fcc6",
   "metadata": {},
   "outputs": [
    {
     "name": "stdout",
     "output_type": "stream",
     "text": [
      "[12]\n"
     ]
    }
   ],
   "source": [
    "#remove()  #### you can remove a sepecified item from the lits\n",
    "m.remove(10)\n",
    "print(m)"
   ]
  },
  {
   "cell_type": "code",
   "execution_count": 107,
   "id": "aa2c24fb",
   "metadata": {},
   "outputs": [
    {
     "data": {
      "text/plain": [
       "[140, 14, 1000, 12, 15, 18]"
      ]
     },
     "execution_count": 107,
     "metadata": {},
     "output_type": "execute_result"
    }
   ],
   "source": [
    "n = [140,14,1000,12,15,18]\n",
    "n"
   ]
  },
  {
   "cell_type": "code",
   "execution_count": 108,
   "id": "d5b43744",
   "metadata": {},
   "outputs": [],
   "source": [
    "n.reverse()  ##### reversed"
   ]
  },
  {
   "cell_type": "code",
   "execution_count": 109,
   "id": "cb3035c2",
   "metadata": {},
   "outputs": [
    {
     "name": "stdout",
     "output_type": "stream",
     "text": [
      "[18, 15, 12, 1000, 14, 140]\n"
     ]
    }
   ],
   "source": [
    "print(n)"
   ]
  },
  {
   "cell_type": "code",
   "execution_count": 111,
   "id": "61c2a262",
   "metadata": {},
   "outputs": [
    {
     "name": "stdout",
     "output_type": "stream",
     "text": [
      "[1000, 140, 18, 15, 14, 12]\n"
     ]
    }
   ],
   "source": [
    "n.sort(reverse=True)\n",
    "print(n)"
   ]
  },
  {
   "cell_type": "markdown",
   "id": "d75e7128",
   "metadata": {},
   "source": [
    "## Python Project"
   ]
  },
  {
   "cell_type": "code",
   "execution_count": 112,
   "id": "6edb288a",
   "metadata": {},
   "outputs": [],
   "source": [
    "#### Story Generator in Python ----"
   ]
  },
  {
   "cell_type": "code",
   "execution_count": 135,
   "id": "1c03751e",
   "metadata": {},
   "outputs": [],
   "source": [
    "import random\n",
    "when = ['A few years ago', 'Longtime back', 'Suddenly','Yesterday']\n",
    "who = ['a man', 'a girl with a white hat','an Inspector','a prisoner']\n",
    "name = ['Clerk', \"jady\", 'Rohan', 'Bella']\n",
    "reside = ['footpath','a house at the end of the road','jail', 'a park']\n",
    "went = ['picnic','museum','zoo', 'party']"
   ]
  },
  {
   "cell_type": "code",
   "execution_count": 136,
   "id": "0d3d98d2",
   "metadata": {},
   "outputs": [
    {
     "name": "stdout",
     "output_type": "stream",
     "text": [
      "Yesterday a man named as jady reside at a park went to museum\n"
     ]
    }
   ],
   "source": [
    "print(random.choice(when) + ' ' +  random.choice(who) + \"\"+ \" named as \"+ '' + random.choice(name) + \n",
    "     ' reside at ' + random.choice(reside) + '' + \" went to \" + random.choice(went))"
   ]
  },
  {
   "cell_type": "code",
   "execution_count": null,
   "id": "98ebd540",
   "metadata": {},
   "outputs": [],
   "source": [
    "#### Aliasing and Cloning !!!!"
   ]
  },
  {
   "cell_type": "code",
   "execution_count": 137,
   "id": "ba797025",
   "metadata": {},
   "outputs": [
    {
     "name": "stdout",
     "output_type": "stream",
     "text": [
      "[10, 11, 12, 13, 15]\n"
     ]
    }
   ],
   "source": [
    "n = [10,11,12,13,15]\n",
    "print(n)"
   ]
  },
  {
   "cell_type": "code",
   "execution_count": 138,
   "id": "508e862f",
   "metadata": {},
   "outputs": [
    {
     "name": "stdout",
     "output_type": "stream",
     "text": [
      "[10, 11, 12, 13, 15]\n"
     ]
    }
   ],
   "source": [
    "#### Aliasing\n",
    "y = n\n",
    "print(y)"
   ]
  },
  {
   "cell_type": "code",
   "execution_count": 140,
   "id": "81d5eb52",
   "metadata": {},
   "outputs": [],
   "source": [
    "y[1] = 200"
   ]
  },
  {
   "cell_type": "code",
   "execution_count": 142,
   "id": "0f78003d",
   "metadata": {},
   "outputs": [
    {
     "name": "stdout",
     "output_type": "stream",
     "text": [
      "[10, 200, 12, 13, 15]\n"
     ]
    }
   ],
   "source": [
    "print(y)"
   ]
  },
  {
   "cell_type": "code",
   "execution_count": 143,
   "id": "9cfc203f",
   "metadata": {},
   "outputs": [
    {
     "name": "stdout",
     "output_type": "stream",
     "text": [
      "[10, 200, 12, 13, 15]\n"
     ]
    }
   ],
   "source": [
    "print(n)"
   ]
  },
  {
   "cell_type": "code",
   "execution_count": 144,
   "id": "36099d49",
   "metadata": {},
   "outputs": [],
   "source": [
    "#### Copying"
   ]
  },
  {
   "cell_type": "code",
   "execution_count": 145,
   "id": "cd66c0e8",
   "metadata": {},
   "outputs": [
    {
     "name": "stdout",
     "output_type": "stream",
     "text": [
      "[10, 200, 12, 13, 15]\n"
     ]
    }
   ],
   "source": [
    "print(n)"
   ]
  },
  {
   "cell_type": "code",
   "execution_count": 146,
   "id": "5eb09861",
   "metadata": {},
   "outputs": [
    {
     "name": "stdout",
     "output_type": "stream",
     "text": [
      "[10, 200, 12, 13, 15]\n"
     ]
    }
   ],
   "source": [
    "w = n.copy()\n",
    "print(w)"
   ]
  },
  {
   "cell_type": "code",
   "execution_count": 148,
   "id": "070b157e",
   "metadata": {},
   "outputs": [
    {
     "name": "stdout",
     "output_type": "stream",
     "text": [
      "[10, 11, 12, 13, 15]\n"
     ]
    }
   ],
   "source": [
    "w[1] = 11\n",
    "print(w)"
   ]
  },
  {
   "cell_type": "code",
   "execution_count": 149,
   "id": "2b0523c6",
   "metadata": {},
   "outputs": [
    {
     "name": "stdout",
     "output_type": "stream",
     "text": [
      "[10, 200, 12, 13, 15]\n"
     ]
    }
   ],
   "source": [
    "print(n)"
   ]
  },
  {
   "cell_type": "code",
   "execution_count": 151,
   "id": "afeb1ede",
   "metadata": {},
   "outputs": [],
   "source": [
    "#### Mathematical operator in List\n",
    "### + , *\n",
    "# + concatenate two list\n",
    "# * repeat elements of that specified list"
   ]
  },
  {
   "cell_type": "code",
   "execution_count": 152,
   "id": "0559225a",
   "metadata": {},
   "outputs": [
    {
     "data": {
      "text/plain": [
       "[10, 200, 12, 13, 15]"
      ]
     },
     "execution_count": 152,
     "metadata": {},
     "output_type": "execute_result"
    }
   ],
   "source": [
    "n"
   ]
  },
  {
   "cell_type": "code",
   "execution_count": 153,
   "id": "9335d781",
   "metadata": {},
   "outputs": [
    {
     "data": {
      "text/plain": [
       "[10, 11, 12, 13, 15]"
      ]
     },
     "execution_count": 153,
     "metadata": {},
     "output_type": "execute_result"
    }
   ],
   "source": [
    "w"
   ]
  },
  {
   "cell_type": "code",
   "execution_count": 156,
   "id": "6923b3b5",
   "metadata": {},
   "outputs": [
    {
     "name": "stdout",
     "output_type": "stream",
     "text": [
      "[10, 200, 12, 13, 15, 10, 11, 12, 13, 15]\n"
     ]
    }
   ],
   "source": [
    "k = n +w\n",
    "print(k)"
   ]
  },
  {
   "cell_type": "code",
   "execution_count": 161,
   "id": "a7e0a236",
   "metadata": {},
   "outputs": [
    {
     "data": {
      "text/plain": [
       "[10, 200, 12, 13, 15, 10, 200, 12, 13, 15]"
      ]
     },
     "execution_count": 161,
     "metadata": {},
     "output_type": "execute_result"
    }
   ],
   "source": [
    "n*2   #### one as list and another int values"
   ]
  },
  {
   "cell_type": "code",
   "execution_count": 165,
   "id": "2fd7501c",
   "metadata": {},
   "outputs": [],
   "source": [
    "###### Comparing List of Objects - (==, !=)\n",
    "x = ['Dog', 'Cat', 'Rat']\n",
    "y = ['Cat', 'Dog', 'RAT']\n",
    "z = ['Dog', 'Cat', 'Rat','Mat']"
   ]
  },
  {
   "cell_type": "code",
   "execution_count": 166,
   "id": "9c543fb5",
   "metadata": {},
   "outputs": [
    {
     "data": {
      "text/plain": [
       "False"
      ]
     },
     "execution_count": 166,
     "metadata": {},
     "output_type": "execute_result"
    }
   ],
   "source": [
    "x==z"
   ]
  },
  {
   "cell_type": "code",
   "execution_count": null,
   "id": "831a0259",
   "metadata": {},
   "outputs": [],
   "source": [
    "# 1. The number of elements should match\n",
    "# 2. order of elemtn should macth\n",
    "# 3. content of element should match (case sensitive)"
   ]
  },
  {
   "cell_type": "code",
   "execution_count": 167,
   "id": "5520ca11",
   "metadata": {},
   "outputs": [],
   "source": [
    "### If we use relationa operators such as >,>=, <,<= the first elment comparison will be performed"
   ]
  },
  {
   "cell_type": "code",
   "execution_count": 169,
   "id": "4850968f",
   "metadata": {},
   "outputs": [
    {
     "name": "stdout",
     "output_type": "stream",
     "text": [
      "False\n",
      "True\n",
      "False\n",
      "True\n"
     ]
    }
   ],
   "source": [
    "x = [50,20,30]\n",
    "y = [70,50,60,80]\n",
    "print(x>y)\n",
    "print(x<y)\n",
    "print(x>=y)\n",
    "print(x<=y)"
   ]
  },
  {
   "cell_type": "code",
   "execution_count": 171,
   "id": "918858c3",
   "metadata": {},
   "outputs": [
    {
     "name": "stdout",
     "output_type": "stream",
     "text": [
      "True\n",
      "True\n"
     ]
    }
   ],
   "source": [
    "#### membership Opertaor (in and not in)\n",
    "n = [10,20,30,40]\n",
    "print(10 in n)\n",
    "print(80 not in n)"
   ]
  },
  {
   "cell_type": "code",
   "execution_count": 173,
   "id": "a7b9ad60",
   "metadata": {},
   "outputs": [
    {
     "name": "stdout",
     "output_type": "stream",
     "text": [
      "[]\n"
     ]
    }
   ],
   "source": [
    "n.clear()  #### it will remove all the elements from that list\n",
    "print(n)"
   ]
  },
  {
   "cell_type": "markdown",
   "id": "41324ed2",
   "metadata": {},
   "source": [
    "### Tuple"
   ]
  },
  {
   "cell_type": "code",
   "execution_count": null,
   "id": "b007c666",
   "metadata": {},
   "outputs": [],
   "source": [
    "Tuple is exactly same as list - only differnce is tuple is immutable\n",
    "It denotes by ()\n",
    "There is no functions in tuple as lists"
   ]
  },
  {
   "cell_type": "code",
   "execution_count": 175,
   "id": "061aab31",
   "metadata": {},
   "outputs": [
    {
     "name": "stdout",
     "output_type": "stream",
     "text": [
      "()\n",
      "<class 'tuple'>\n"
     ]
    }
   ],
   "source": [
    "t = ()\n",
    "print(t)\n",
    "print(type(t))"
   ]
  },
  {
   "cell_type": "code",
   "execution_count": 183,
   "id": "22f48a05",
   "metadata": {},
   "outputs": [
    {
     "name": "stdout",
     "output_type": "stream",
     "text": [
      "(10, 11, 123, 16, 18, 20)\n",
      "<class 'tuple'>\n"
     ]
    }
   ],
   "source": [
    "t = (10,11,123,16,18,20)\n",
    "print(t)\n",
    "print(type(t))"
   ]
  },
  {
   "cell_type": "code",
   "execution_count": 188,
   "id": "98f2e729",
   "metadata": {},
   "outputs": [
    {
     "name": "stdout",
     "output_type": "stream",
     "text": [
      "(123, 20, 18, 16, 11, 10)\n"
     ]
    }
   ],
   "source": [
    "t1 = sorted(t, reverse = True)\n",
    "t1 = tuple(t1)\n",
    "print(t1)"
   ]
  },
  {
   "cell_type": "code",
   "execution_count": 185,
   "id": "adfbbf09",
   "metadata": {},
   "outputs": [
    {
     "data": {
      "text/plain": [
       "10"
      ]
     },
     "execution_count": 185,
     "metadata": {},
     "output_type": "execute_result"
    }
   ],
   "source": [
    "min(t1)"
   ]
  },
  {
   "cell_type": "code",
   "execution_count": 186,
   "id": "10df47eb",
   "metadata": {},
   "outputs": [
    {
     "data": {
      "text/plain": [
       "123"
      ]
     },
     "execution_count": 186,
     "metadata": {},
     "output_type": "execute_result"
    }
   ],
   "source": [
    "max(t1)"
   ]
  },
  {
   "cell_type": "code",
   "execution_count": 190,
   "id": "ffebf636",
   "metadata": {},
   "outputs": [
    {
     "data": {
      "text/plain": [
       "(10, 11, 123, 16, 18, 20, 10, 11, 123, 16, 18, 20)"
      ]
     },
     "execution_count": 190,
     "metadata": {},
     "output_type": "execute_result"
    }
   ],
   "source": [
    "t * 2"
   ]
  },
  {
   "cell_type": "code",
   "execution_count": 191,
   "id": "92a24a4b",
   "metadata": {},
   "outputs": [
    {
     "data": {
      "text/plain": [
       "1"
      ]
     },
     "execution_count": 191,
     "metadata": {},
     "output_type": "execute_result"
    }
   ],
   "source": [
    "t.count(10)"
   ]
  },
  {
   "cell_type": "code",
   "execution_count": 192,
   "id": "b8ef9286",
   "metadata": {},
   "outputs": [
    {
     "data": {
      "text/plain": [
       "0"
      ]
     },
     "execution_count": 192,
     "metadata": {},
     "output_type": "execute_result"
    }
   ],
   "source": [
    "t.index(10)"
   ]
  },
  {
   "cell_type": "code",
   "execution_count": 193,
   "id": "f6e2fbb6",
   "metadata": {},
   "outputs": [
    {
     "data": {
      "text/plain": [
       "6"
      ]
     },
     "execution_count": 193,
     "metadata": {},
     "output_type": "execute_result"
    }
   ],
   "source": [
    "len(t)"
   ]
  },
  {
   "cell_type": "code",
   "execution_count": 195,
   "id": "c7ce4d74",
   "metadata": {},
   "outputs": [
    {
     "data": {
      "text/plain": [
       "(123, 20, 18, 16, 11, 10)"
      ]
     },
     "execution_count": 195,
     "metadata": {},
     "output_type": "execute_result"
    }
   ],
   "source": [
    "t1"
   ]
  },
  {
   "cell_type": "code",
   "execution_count": 196,
   "id": "7d5724ca",
   "metadata": {},
   "outputs": [
    {
     "data": {
      "text/plain": [
       "(10, 11, 123, 16, 18, 20)"
      ]
     },
     "execution_count": 196,
     "metadata": {},
     "output_type": "execute_result"
    }
   ],
   "source": [
    "t"
   ]
  },
  {
   "cell_type": "code",
   "execution_count": 197,
   "id": "af881c8d",
   "metadata": {},
   "outputs": [
    {
     "data": {
      "text/plain": [
       "(123, 20, 18, 16, 11, 10, 10, 11, 123, 16, 18, 20)"
      ]
     },
     "execution_count": 197,
     "metadata": {},
     "output_type": "execute_result"
    }
   ],
   "source": [
    "t1+t"
   ]
  },
  {
   "cell_type": "code",
   "execution_count": null,
   "id": "4c0afb97",
   "metadata": {},
   "outputs": [],
   "source": [
    "##### Assignments on today and last 3 classes on ly on Python\n",
    "##### Tableau Data Viz  - Next Sunday you have to present - Advanced\n",
    "##### How the report will look like I will also share it you have to create a replica of that."
   ]
  }
 ],
 "metadata": {
  "kernelspec": {
   "display_name": "Python 3 (ipykernel)",
   "language": "python",
   "name": "python3"
  },
  "language_info": {
   "codemirror_mode": {
    "name": "ipython",
    "version": 3
   },
   "file_extension": ".py",
   "mimetype": "text/x-python",
   "name": "python",
   "nbconvert_exporter": "python",
   "pygments_lexer": "ipython3",
   "version": "3.11.3"
  }
 },
 "nbformat": 4,
 "nbformat_minor": 5
}
